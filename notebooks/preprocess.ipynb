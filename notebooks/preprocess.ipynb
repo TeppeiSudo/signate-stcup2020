{
 "cells": [
  {
   "cell_type": "code",
   "execution_count": 2,
   "metadata": {
    "_kg_hide-input": true,
    "papermill": {
     "duration": 2.870164,
     "end_time": "2020-08-25T10:56:54.066525",
     "exception": false,
     "start_time": "2020-08-25T10:56:51.196361",
     "status": "completed"
    },
    "tags": []
   },
   "outputs": [],
   "source": [
    "import os\n",
    "import numpy as np\n",
    "import pandas as pd\n",
    "import matplotlib.pyplot as plt\n",
    "import sklearn\n",
    "from sklearn.feature_extraction.text import CountVectorizer\n",
    "import sklearn.metrics\n",
    "from sklearn.metrics import confusion_matrix\n",
    "from sklearn.metrics import ConfusionMatrixDisplay\n",
    "from sklearn.metrics import accuracy_score\n",
    "from sklearn.model_selection import StratifiedKFold\n",
    "from sklearn.model_selection import train_test_split\n",
    "import time\n",
    "from tqdm import tqdm\n",
    "import random\n"
   ]
  },
  {
   "cell_type": "code",
   "execution_count": 3,
   "metadata": {
    "_kg_hide-input": true,
    "papermill": {
     "duration": 0.629668,
     "end_time": "2020-08-25T10:56:54.713193",
     "exception": false,
     "start_time": "2020-08-25T10:56:54.083525",
     "status": "completed"
    },
    "tags": []
   },
   "outputs": [
    {
     "ename": "ModuleNotFoundError",
     "evalue": "No module named 'nltk'",
     "output_type": "error",
     "traceback": [
      "\u001b[0;31m---------------------------------------------------------------------------\u001b[0m",
      "\u001b[0;31mModuleNotFoundError\u001b[0m                       Traceback (most recent call last)",
      "\u001b[0;32m<ipython-input-3-543c17c74459>\u001b[0m in \u001b[0;36m<module>\u001b[0;34m\u001b[0m\n\u001b[1;32m      2\u001b[0m \u001b[0;32mimport\u001b[0m \u001b[0municodedata\u001b[0m\u001b[0;34m\u001b[0m\u001b[0;34m\u001b[0m\u001b[0m\n\u001b[1;32m      3\u001b[0m \u001b[0;34m\u001b[0m\u001b[0m\n\u001b[0;32m----> 4\u001b[0;31m \u001b[0;32mimport\u001b[0m \u001b[0mnltk\u001b[0m\u001b[0;34m\u001b[0m\u001b[0;34m\u001b[0m\u001b[0m\n\u001b[0m\u001b[1;32m      5\u001b[0m \u001b[0;32mfrom\u001b[0m \u001b[0mnltk\u001b[0m\u001b[0;34m.\u001b[0m\u001b[0mcorpus\u001b[0m \u001b[0;32mimport\u001b[0m \u001b[0mwordnet\u001b[0m\u001b[0;34m\u001b[0m\u001b[0;34m\u001b[0m\u001b[0m\n\u001b[1;32m      6\u001b[0m \u001b[0;34m\u001b[0m\u001b[0m\n",
      "\u001b[0;31mModuleNotFoundError\u001b[0m: No module named 'nltk'"
     ]
    }
   ],
   "source": [
    "import re\n",
    "import unicodedata\n",
    "\n",
    "import nltk\n",
    "from nltk.corpus import wordnet\n",
    "\n",
    "\n",
    "def normalize(text):\n",
    "    normalized_text = normalize_unicode(text)\n",
    "    normalized_text = normalize_number(normalized_text)\n",
    "    normalized_text = lower_text(normalized_text)\n",
    "    return normalized_text\n",
    "\n",
    "\n",
    "def lower_text(text):\n",
    "    return text.lower()\n",
    "\n",
    "\n",
    "def normalize_unicode(text, form='NFKC'):\n",
    "    normalized_text = unicodedata.normalize(form, text)\n",
    "    return normalized_text\n",
    "\n",
    "\n",
    "def lemmatize_term(term, pos=None):\n",
    "    if pos is None:\n",
    "        synsets = wordnet.synsets(term)\n",
    "        if not synsets:\n",
    "            return term\n",
    "        pos = synsets[0].pos()\n",
    "        if pos == wordnet.ADJ_SAT:\n",
    "            pos = wordnet.ADJ\n",
    "    return nltk.WordNetLemmatizer().lemmatize(term, pos=pos)\n",
    "\n",
    "\n",
    "def normalize_number(text):\n",
    "    \"\"\"\n",
    "    pattern = r'\\d+'\n",
    "    replacer = re.compile(pattern)\n",
    "    result = replacer.sub('0', text)\n",
    "    \"\"\"\n",
    "    # 連続した数字を0で置換\n",
    "    replaced_text = re.sub(r'\\d+', '0', text)\n",
    "    return replaced_text"
   ]
  },
  {
   "cell_type": "code",
   "execution_count": 3,
   "metadata": {
    "_kg_hide-input": true,
    "execution": {
     "iopub.execute_input": "2020-08-25T10:56:54.762338Z",
     "iopub.status.busy": "2020-08-25T10:56:54.761461Z",
     "iopub.status.idle": "2020-08-25T10:56:54.764069Z",
     "shell.execute_reply": "2020-08-25T10:56:54.763595Z"
    },
    "papermill": {
     "duration": 0.035018,
     "end_time": "2020-08-25T10:56:54.764168",
     "exception": false,
     "start_time": "2020-08-25T10:56:54.729150",
     "status": "completed"
    },
    "tags": []
   },
   "outputs": [],
   "source": [
    "shortened = {\n",
    "    '\\'m': ' am',\n",
    "    '\\'re': ' are',\n",
    "    'don\\'t': 'do not',\n",
    "    'doesn\\'t': 'does not',\n",
    "    'didn\\'t': 'did not',\n",
    "    'won\\'t': 'will not',\n",
    "    'wanna': 'want to',\n",
    "    'gonna': 'going to',\n",
    "    'gotta': 'got to',\n",
    "    'hafta': 'have to',\n",
    "    'needa': 'need to',\n",
    "    'outta': 'out of',\n",
    "    'kinda': 'kind of',\n",
    "    'sorta': 'sort of',\n",
    "    'lotta': 'lot of',\n",
    "    'lemme': 'let me',\n",
    "    'gimme': 'give me',\n",
    "    'getcha': 'get you',\n",
    "    'gotcha': 'got you',\n",
    "    'letcha': 'let you',\n",
    "    'betcha': 'bet you',\n",
    "    'shoulda': 'should have',\n",
    "    'coulda': 'could have',\n",
    "    'woulda': 'would have',\n",
    "    'musta': 'must have',\n",
    "    'mighta': 'might have',\n",
    "    'dunno': 'do not know',\n",
    "}\n",
    "\n",
    "shortened_re = re.compile('(?:' + '|'.join(map(lambda x: '\\\\b' + x + '\\\\b', shortened.keys())) + ')')\n",
    "\n",
    "# example\n",
    "sentence = 'I\\'m'\n",
    "sentence = shortened_re.sub(lambda x: shortened[x.group(0)], sentence)"
   ]
  },
  {
   "cell_type": "code",
   "execution_count": 4,
   "metadata": {
    "execution": {
     "iopub.execute_input": "2020-08-25T10:56:54.800670Z",
     "iopub.status.busy": "2020-08-25T10:56:54.799919Z",
     "iopub.status.idle": "2020-08-25T10:56:54.802884Z",
     "shell.execute_reply": "2020-08-25T10:56:54.802307Z"
    },
    "papermill": {
     "duration": 0.022916,
     "end_time": "2020-08-25T10:56:54.802990",
     "exception": false,
     "start_time": "2020-08-25T10:56:54.780074",
     "status": "completed"
    },
    "tags": []
   },
   "outputs": [],
   "source": [
    "from nltk.stem.porter import PorterStemmer\n",
    "stemmer = PorterStemmer()\n",
    "\n",
    "\n",
    "from nltk.stem.wordnet import WordNetLemmatizer\n",
    "wnl = WordNetLemmatizer()"
   ]
  },
  {
   "cell_type": "code",
   "execution_count": 5,
   "metadata": {
    "_kg_hide-input": true,
    "execution": {
     "iopub.execute_input": "2020-08-25T10:56:54.838745Z",
     "iopub.status.busy": "2020-08-25T10:56:54.838022Z",
     "iopub.status.idle": "2020-08-25T10:56:54.840896Z",
     "shell.execute_reply": "2020-08-25T10:56:54.840441Z"
    },
    "papermill": {
     "duration": 0.022214,
     "end_time": "2020-08-25T10:56:54.841007",
     "exception": false,
     "start_time": "2020-08-25T10:56:54.818793",
     "status": "completed"
    },
    "tags": []
   },
   "outputs": [],
   "source": [
    "import warnings\n",
    "warnings.filterwarnings('ignore')"
   ]
  },
  {
   "cell_type": "code",
   "execution_count": 6,
   "metadata": {
    "_kg_hide-input": true,
    "execution": {
     "iopub.execute_input": "2020-08-25T10:56:54.880526Z",
     "iopub.status.busy": "2020-08-25T10:56:54.879716Z",
     "iopub.status.idle": "2020-08-25T10:56:54.885368Z",
     "shell.execute_reply": "2020-08-25T10:56:54.884631Z"
    },
    "papermill": {
     "duration": 0.027984,
     "end_time": "2020-08-25T10:56:54.885482",
     "exception": false,
     "start_time": "2020-08-25T10:56:54.857498",
     "status": "completed"
    },
    "tags": []
   },
   "outputs": [],
   "source": [
    "#set random seed\n",
    "def set_seed(seed: int = 123):\n",
    "    random.seed(seed)\n",
    "    np.random.seed(seed)\n",
    "    os.environ[\"PYTHONHASHSEED\"] = str(seed)\n",
    "    torch.manual_seed(seed)\n",
    "    torch.cuda.manual_seed(seed)  # type: ignore\n",
    "    torch.backends.cudnn.deterministic = True  # type: ignore\n",
    "    torch.backends.cudnn.benchmark = True  # type: ignore\n",
    "    \n",
    "set_seed(123)"
   ]
  },
  {
   "cell_type": "code",
   "execution_count": 7,
   "metadata": {
    "_cell_guid": "79c7e3d0-c299-4dcb-8224-4455121ee9b0",
    "_uuid": "d629ff2d2480ee46fbb7e2d37f6b5fab8052498a",
    "execution": {
     "iopub.execute_input": "2020-08-25T10:56:54.924881Z",
     "iopub.status.busy": "2020-08-25T10:56:54.924248Z",
     "iopub.status.idle": "2020-08-25T10:56:54.958720Z",
     "shell.execute_reply": "2020-08-25T10:56:54.958129Z"
    },
    "papermill": {
     "duration": 0.057087,
     "end_time": "2020-08-25T10:56:54.958814",
     "exception": false,
     "start_time": "2020-08-25T10:56:54.901727",
     "status": "completed"
    },
    "tags": []
   },
   "outputs": [],
   "source": [
    "#read data_files\n",
    "train = pd.read_csv('../input/signate-stcup-2020/train.csv')\n",
    "test = pd.read_csv('../input/signate-stcup2020-new/test.csv')\n",
    "submission = pd.read_csv('../input/signate-stcup2020-new/submit_sample.csv')"
   ]
  },
  {
   "cell_type": "code",
   "execution_count": 8,
   "metadata": {
    "_kg_hide-input": true,
    "execution": {
     "iopub.execute_input": "2020-08-25T10:56:54.996954Z",
     "iopub.status.busy": "2020-08-25T10:56:54.996233Z",
     "iopub.status.idle": "2020-08-25T10:56:54.999363Z",
     "shell.execute_reply": "2020-08-25T10:56:54.998776Z"
    },
    "papermill": {
     "duration": 0.024475,
     "end_time": "2020-08-25T10:56:54.999452",
     "exception": false,
     "start_time": "2020-08-25T10:56:54.974977",
     "status": "completed"
    },
    "tags": []
   },
   "outputs": [],
   "source": [
    "def check_except_words(sentence):\n",
    "    except_words = [\"e.g.\", \"node. \", \"Approx. \", \"St.\", \"etc. \", \"i.e. \", \"Sr. \", \"ex. \", \"U.S. \", \"incl. \", \". (\", \"I.e. \" ]\n",
    "    for word in except_words:\n",
    "        if word in sentence:\n",
    "            return True\n",
    "    return False"
   ]
  },
  {
   "cell_type": "code",
   "execution_count": 9,
   "metadata": {
    "_kg_hide-input": true,
    "execution": {
     "iopub.execute_input": "2020-08-25T10:56:55.041530Z",
     "iopub.status.busy": "2020-08-25T10:56:55.040787Z",
     "iopub.status.idle": "2020-08-25T10:56:55.043755Z",
     "shell.execute_reply": "2020-08-25T10:56:55.043277Z"
    },
    "papermill": {
     "duration": 0.027699,
     "end_time": "2020-08-25T10:56:55.043851",
     "exception": false,
     "start_time": "2020-08-25T10:56:55.016152",
     "status": "completed"
    },
    "tags": []
   },
   "outputs": [],
   "source": [
    "def split_sentences(df):\n",
    "    sentences = []\n",
    "    ids = []\n",
    "    jobs = []\n",
    "    for n in range(len(df)):\n",
    "        if \". \" in df.description.iloc[n]:\n",
    "            multi_sentence = []\n",
    "            if not check_except_words(df.description.iloc[n]):\n",
    "                multi_sentence.append(list(map(str,df.description.iloc[n].split(\". \"))))\n",
    "                for sentence in multi_sentence[0]:\n",
    "                    sentences.append(sentence)\n",
    "                    ids.append(df.iloc[n].id)\n",
    "                    jobs.append(df.iloc[n].jobflag)\n",
    "    special_dataset = pd.DataFrame({\"id\": ids, \"description\": sentences, \"jobflag\": jobs})\n",
    "    return special_dataset"
   ]
  },
  {
   "cell_type": "code",
   "execution_count": 10,
   "metadata": {
    "_kg_hide-input": true,
    "execution": {
     "iopub.execute_input": "2020-08-25T10:56:55.091331Z",
     "iopub.status.busy": "2020-08-25T10:56:55.090662Z",
     "iopub.status.idle": "2020-08-25T10:56:55.093460Z",
     "shell.execute_reply": "2020-08-25T10:56:55.093922Z"
    },
    "papermill": {
     "duration": 0.033389,
     "end_time": "2020-08-25T10:56:55.094045",
     "exception": false,
     "start_time": "2020-08-25T10:56:55.060656",
     "status": "completed"
    },
    "tags": []
   },
   "outputs": [],
   "source": [
    "def drop_duplicated_sentence(train):\n",
    "    df = train.copy()\n",
    "    #df_dup = df[df.duplicated(subset=['description', 'jobflag'])]\n",
    "    #df_evil = df[df.duplicated(subset='description', keep=False)]\n",
    "    \n",
    "    for n in tqdm(range(len(df))):\n",
    "        df.description.iloc[n] = normalize(df.description.iloc[n])\n",
    "        df.description.iloc[n] = shortened_re.sub(lambda x: shortened[x.group(0)], df.description.iloc[n])\n",
    "        sentence = \"\"\n",
    "        for word in df.description.iloc[n].strip(\".:;'&%$#=~|!'<>?*+`@/,_][}{\").split(\" \"):\n",
    "            word = stemmer.stem(word)\n",
    "            word = wnl.lemmatize(word)\n",
    "            sentence += word + \" \"\n",
    "        df.description.iloc[n] = sentence[:-1]\n",
    "        \n",
    "    df_dup = df[df.duplicated(subset=['description','jobflag'])]\n",
    "    new_df = df.drop_duplicates(subset=['description','jobflag'])\n",
    "    new_index = new_df.index\n",
    "    # ただの表記揺れだが、取り除いておく\n",
    "    new_train = train.reindex(index=new_index)\n",
    "    \n",
    "    df_evil = new_df[new_df.duplicated(subset='description', keep=False)]\n",
    "    evil_index = df_evil.index\n",
    "    # descriptionが同一だがjobflagが不一致\n",
    "    df_evil = train.reindex(index=evil_index)\n",
    "    print(f'there are {len(df_dup)} duplicates and {len(df_evil)} evil-data... ')\n",
    "    \n",
    "    df_clean = df.drop_duplicates(subset=['description','jobflag'])\n",
    "    df_clean = df_clean.drop_duplicates(subset='description', keep=False)\n",
    "    clean_index = df_clean.index\n",
    "    # 全部取り除いたやつ\n",
    "    clean_train = train.reindex(index=clean_index)\n",
    "    \n",
    "    return new_train, df_evil, clean_train"
   ]
  },
  {
   "cell_type": "code",
   "execution_count": 11,
   "metadata": {
    "execution": {
     "iopub.execute_input": "2020-08-25T10:56:55.133100Z",
     "iopub.status.busy": "2020-08-25T10:56:55.132264Z",
     "iopub.status.idle": "2020-08-25T10:57:01.552646Z",
     "shell.execute_reply": "2020-08-25T10:57:01.553162Z"
    },
    "papermill": {
     "duration": 6.442635,
     "end_time": "2020-08-25T10:57:01.553322",
     "exception": false,
     "start_time": "2020-08-25T10:56:55.110687",
     "status": "completed"
    },
    "tags": []
   },
   "outputs": [
    {
     "name": "stderr",
     "output_type": "stream",
     "text": [
      "100%|██████████| 2931/2931 [00:06<00:00, 458.45it/s]"
     ]
    },
    {
     "name": "stdout",
     "output_type": "stream",
     "text": [
      "there are 35 duplicates and 16 evil-data... \n"
     ]
    },
    {
     "name": "stderr",
     "output_type": "stream",
     "text": [
      "\n"
     ]
    }
   ],
   "source": [
    "clean_and_evil, evil, clean = drop_duplicated_sentence(train)"
   ]
  },
  {
   "cell_type": "code",
   "execution_count": 12,
   "metadata": {
    "execution": {
     "iopub.execute_input": "2020-08-25T10:57:01.625413Z",
     "iopub.status.busy": "2020-08-25T10:57:01.624739Z",
     "iopub.status.idle": "2020-08-25T10:57:01.632743Z",
     "shell.execute_reply": "2020-08-25T10:57:01.633270Z"
    },
    "papermill": {
     "duration": 0.048121,
     "end_time": "2020-08-25T10:57:01.633398",
     "exception": false,
     "start_time": "2020-08-25T10:57:01.585277",
     "status": "completed"
    },
    "tags": []
   },
   "outputs": [
    {
     "data": {
      "text/html": [
       "<div>\n",
       "<style scoped>\n",
       "    .dataframe tbody tr th:only-of-type {\n",
       "        vertical-align: middle;\n",
       "    }\n",
       "\n",
       "    .dataframe tbody tr th {\n",
       "        vertical-align: top;\n",
       "    }\n",
       "\n",
       "    .dataframe thead th {\n",
       "        text-align: right;\n",
       "    }\n",
       "</style>\n",
       "<table border=\"1\" class=\"dataframe\">\n",
       "  <thead>\n",
       "    <tr style=\"text-align: right;\">\n",
       "      <th></th>\n",
       "      <th>id</th>\n",
       "      <th>description</th>\n",
       "      <th>jobflag</th>\n",
       "    </tr>\n",
       "  </thead>\n",
       "  <tbody>\n",
       "    <tr>\n",
       "      <th>96</th>\n",
       "      <td>96</td>\n",
       "      <td>Use predictive modeling to increase and optimi...</td>\n",
       "      <td>1</td>\n",
       "    </tr>\n",
       "    <tr>\n",
       "      <th>430</th>\n",
       "      <td>430</td>\n",
       "      <td>Collaboration: Work with your peers within you...</td>\n",
       "      <td>4</td>\n",
       "    </tr>\n",
       "    <tr>\n",
       "      <th>449</th>\n",
       "      <td>449</td>\n",
       "      <td>Effectively explain technical concepts at all ...</td>\n",
       "      <td>2</td>\n",
       "    </tr>\n",
       "    <tr>\n",
       "      <th>797</th>\n",
       "      <td>797</td>\n",
       "      <td>Assess the effectiveness and accuracy of new d...</td>\n",
       "      <td>2</td>\n",
       "    </tr>\n",
       "    <tr>\n",
       "      <th>798</th>\n",
       "      <td>798</td>\n",
       "      <td>Collaboration: Work with your peers within you...</td>\n",
       "      <td>3</td>\n",
       "    </tr>\n",
       "  </tbody>\n",
       "</table>\n",
       "</div>"
      ],
      "text/plain": [
       "      id                                        description  jobflag\n",
       "96    96  Use predictive modeling to increase and optimi...        1\n",
       "430  430  Collaboration: Work with your peers within you...        4\n",
       "449  449  Effectively explain technical concepts at all ...        2\n",
       "797  797  Assess the effectiveness and accuracy of new d...        2\n",
       "798  798  Collaboration: Work with your peers within you...        3"
      ]
     },
     "execution_count": 12,
     "metadata": {},
     "output_type": "execute_result"
    }
   ],
   "source": [
    "evil.head(5)"
   ]
  },
  {
   "cell_type": "code",
   "execution_count": 13,
   "metadata": {
    "execution": {
     "iopub.execute_input": "2020-08-25T10:57:01.716004Z",
     "iopub.status.busy": "2020-08-25T10:57:01.710782Z",
     "iopub.status.idle": "2020-08-25T10:57:05.834082Z",
     "shell.execute_reply": "2020-08-25T10:57:05.834536Z"
    },
    "papermill": {
     "duration": 4.1689,
     "end_time": "2020-08-25T10:57:05.834682",
     "exception": false,
     "start_time": "2020-08-25T10:57:01.665782",
     "status": "completed"
    },
    "tags": []
   },
   "outputs": [
    {
     "name": "stderr",
     "output_type": "stream",
     "text": [
      "100%|██████████| 3112/3112 [00:03<00:00, 809.20it/s]\n"
     ]
    },
    {
     "name": "stdout",
     "output_type": "stream",
     "text": [
      "there are 4 duplicates and 2 evil-data... \n"
     ]
    },
    {
     "data": {
      "text/html": [
       "<div>\n",
       "<style scoped>\n",
       "    .dataframe tbody tr th:only-of-type {\n",
       "        vertical-align: middle;\n",
       "    }\n",
       "\n",
       "    .dataframe tbody tr th {\n",
       "        vertical-align: top;\n",
       "    }\n",
       "\n",
       "    .dataframe thead th {\n",
       "        text-align: right;\n",
       "    }\n",
       "</style>\n",
       "<table border=\"1\" class=\"dataframe\">\n",
       "  <thead>\n",
       "    <tr style=\"text-align: right;\">\n",
       "      <th></th>\n",
       "      <th>id</th>\n",
       "      <th>description</th>\n",
       "      <th>jobflag</th>\n",
       "    </tr>\n",
       "  </thead>\n",
       "  <tbody>\n",
       "    <tr>\n",
       "      <th>0</th>\n",
       "      <td>0</td>\n",
       "      <td>Executes and writes portions of testing plans,...</td>\n",
       "      <td>2</td>\n",
       "    </tr>\n",
       "    <tr>\n",
       "      <th>1</th>\n",
       "      <td>1</td>\n",
       "      <td>Maintain Network Performance by assisting with...</td>\n",
       "      <td>3</td>\n",
       "    </tr>\n",
       "    <tr>\n",
       "      <th>2</th>\n",
       "      <td>2</td>\n",
       "      <td>Supports the regional compliance manager with ...</td>\n",
       "      <td>4</td>\n",
       "    </tr>\n",
       "    <tr>\n",
       "      <th>3</th>\n",
       "      <td>3</td>\n",
       "      <td>Keep up to date with local and national busine...</td>\n",
       "      <td>1</td>\n",
       "    </tr>\n",
       "    <tr>\n",
       "      <th>4</th>\n",
       "      <td>4</td>\n",
       "      <td>Assist with Service Organization Control (SOC)...</td>\n",
       "      <td>4</td>\n",
       "    </tr>\n",
       "    <tr>\n",
       "      <th>...</th>\n",
       "      <td>...</td>\n",
       "      <td>...</td>\n",
       "      <td>...</td>\n",
       "    </tr>\n",
       "    <tr>\n",
       "      <th>3101</th>\n",
       "      <td>2659</td>\n",
       "      <td>Demonstrate expertise to deliver functional an...</td>\n",
       "      <td>4</td>\n",
       "    </tr>\n",
       "    <tr>\n",
       "      <th>3102</th>\n",
       "      <td>2673</td>\n",
       "      <td>Develop high-performance algorithms for predic...</td>\n",
       "      <td>1</td>\n",
       "    </tr>\n",
       "    <tr>\n",
       "      <th>3103</th>\n",
       "      <td>2673</td>\n",
       "      <td>Testing and implementing these algorithms in s...</td>\n",
       "      <td>1</td>\n",
       "    </tr>\n",
       "    <tr>\n",
       "      <th>3104</th>\n",
       "      <td>2865</td>\n",
       "      <td>Mine and analyze company data to drive optimiz...</td>\n",
       "      <td>1</td>\n",
       "    </tr>\n",
       "    <tr>\n",
       "      <th>3105</th>\n",
       "      <td>2865</td>\n",
       "      <td>Understand and analyze large, complex, multi-d...</td>\n",
       "      <td>1</td>\n",
       "    </tr>\n",
       "  </tbody>\n",
       "</table>\n",
       "<p>3106 rows × 3 columns</p>\n",
       "</div>"
      ],
      "text/plain": [
       "        id                                        description  jobflag\n",
       "0        0  Executes and writes portions of testing plans,...        2\n",
       "1        1  Maintain Network Performance by assisting with...        3\n",
       "2        2  Supports the regional compliance manager with ...        4\n",
       "3        3  Keep up to date with local and national busine...        1\n",
       "4        4  Assist with Service Organization Control (SOC)...        4\n",
       "...    ...                                                ...      ...\n",
       "3101  2659  Demonstrate expertise to deliver functional an...        4\n",
       "3102  2673  Develop high-performance algorithms for predic...        1\n",
       "3103  2673  Testing and implementing these algorithms in s...        1\n",
       "3104  2865  Mine and analyze company data to drive optimiz...        1\n",
       "3105  2865  Understand and analyze large, complex, multi-d...        1\n",
       "\n",
       "[3106 rows x 3 columns]"
      ]
     },
     "execution_count": 13,
     "metadata": {},
     "output_type": "execute_result"
    }
   ],
   "source": [
    "additional_train = split_sentences(clean)\n",
    "train = pd.concat([clean, additional_train])\n",
    "train = train.reset_index(drop=True)\n",
    "_, _, train = drop_duplicated_sentence(train)\n",
    "train = train.reset_index(drop=True)\n",
    "train.to_csv('new_train.csv')\n",
    "train"
   ]
  },
  {
   "cell_type": "code",
   "execution_count": 14,
   "metadata": {
    "execution": {
     "iopub.execute_input": "2020-08-25T10:57:05.938461Z",
     "iopub.status.busy": "2020-08-25T10:57:05.937617Z",
     "iopub.status.idle": "2020-08-25T10:57:05.941484Z",
     "shell.execute_reply": "2020-08-25T10:57:05.940977Z"
    },
    "papermill": {
     "duration": 0.058314,
     "end_time": "2020-08-25T10:57:05.941584",
     "exception": false,
     "start_time": "2020-08-25T10:57:05.883270",
     "status": "completed"
    },
    "tags": []
   },
   "outputs": [
    {
     "data": {
      "text/html": [
       "<div>\n",
       "<style scoped>\n",
       "    .dataframe tbody tr th:only-of-type {\n",
       "        vertical-align: middle;\n",
       "    }\n",
       "\n",
       "    .dataframe tbody tr th {\n",
       "        vertical-align: top;\n",
       "    }\n",
       "\n",
       "    .dataframe thead th {\n",
       "        text-align: right;\n",
       "    }\n",
       "</style>\n",
       "<table border=\"1\" class=\"dataframe\">\n",
       "  <thead>\n",
       "    <tr style=\"text-align: right;\">\n",
       "      <th></th>\n",
       "      <th>id</th>\n",
       "      <th>description</th>\n",
       "      <th>jobflag</th>\n",
       "    </tr>\n",
       "  </thead>\n",
       "  <tbody>\n",
       "    <tr>\n",
       "      <th>0</th>\n",
       "      <td>0</td>\n",
       "      <td>Executes and writes portions of testing plans,...</td>\n",
       "      <td>2</td>\n",
       "    </tr>\n",
       "    <tr>\n",
       "      <th>1</th>\n",
       "      <td>1</td>\n",
       "      <td>Maintain Network Performance by assisting with...</td>\n",
       "      <td>3</td>\n",
       "    </tr>\n",
       "    <tr>\n",
       "      <th>2</th>\n",
       "      <td>2</td>\n",
       "      <td>Supports the regional compliance manager with ...</td>\n",
       "      <td>4</td>\n",
       "    </tr>\n",
       "  </tbody>\n",
       "</table>\n",
       "</div>"
      ],
      "text/plain": [
       "   id                                        description  jobflag\n",
       "0   0  Executes and writes portions of testing plans,...        2\n",
       "1   1  Maintain Network Performance by assisting with...        3\n",
       "2   2  Supports the regional compliance manager with ...        4"
      ]
     },
     "execution_count": 14,
     "metadata": {},
     "output_type": "execute_result"
    }
   ],
   "source": [
    "train.head(3)"
   ]
  },
  {
   "cell_type": "code",
   "execution_count": 15,
   "metadata": {
    "execution": {
     "iopub.execute_input": "2020-08-25T10:57:06.043340Z",
     "iopub.status.busy": "2020-08-25T10:57:06.042566Z",
     "iopub.status.idle": "2020-08-25T10:57:06.045701Z",
     "shell.execute_reply": "2020-08-25T10:57:06.045226Z"
    },
    "papermill": {
     "duration": 0.057886,
     "end_time": "2020-08-25T10:57:06.045797",
     "exception": false,
     "start_time": "2020-08-25T10:57:05.987911",
     "status": "completed"
    },
    "tags": []
   },
   "outputs": [],
   "source": [
    "def split_sentences_for_test(df):\n",
    "    sentences = []\n",
    "    ids = []\n",
    "    jobs = []\n",
    "    for n in range(len(df)):\n",
    "        if \". \" in df.description.iloc[n]:\n",
    "            multi_sentence = []\n",
    "            if not check_except_words(df.description.iloc[n]):\n",
    "                multi_sentence.append(list(map(str,df.description.iloc[n].split(\". \"))))\n",
    "                for sentence in multi_sentence[0]:\n",
    "                    sentences.append(sentence)\n",
    "                    ids.append(df.iloc[n].id)\n",
    "    special_dataset = pd.DataFrame({\"id\": ids, \"description\": sentences})\n",
    "    return special_dataset"
   ]
  },
  {
   "cell_type": "code",
   "execution_count": 16,
   "metadata": {
    "execution": {
     "iopub.execute_input": "2020-08-25T10:57:06.171905Z",
     "iopub.status.busy": "2020-08-25T10:57:06.161631Z",
     "iopub.status.idle": "2020-08-25T10:57:06.231197Z",
     "shell.execute_reply": "2020-08-25T10:57:06.230630Z"
    },
    "papermill": {
     "duration": 0.13925,
     "end_time": "2020-08-25T10:57:06.231298",
     "exception": false,
     "start_time": "2020-08-25T10:57:06.092048",
     "status": "completed"
    },
    "tags": []
   },
   "outputs": [],
   "source": [
    "additional_test = split_sentences_for_test(test)\n",
    "test = pd.concat([test, additional_test])\n",
    "test.to_csv('test_ex.csv', index=False)"
   ]
  },
  {
   "cell_type": "code",
   "execution_count": 17,
   "metadata": {
    "execution": {
     "iopub.execute_input": "2020-08-25T10:57:06.332710Z",
     "iopub.status.busy": "2020-08-25T10:57:06.331744Z",
     "iopub.status.idle": "2020-08-25T10:57:06.335390Z",
     "shell.execute_reply": "2020-08-25T10:57:06.335873Z"
    },
    "papermill": {
     "duration": 0.05699,
     "end_time": "2020-08-25T10:57:06.336022",
     "exception": false,
     "start_time": "2020-08-25T10:57:06.279032",
     "status": "completed"
    },
    "tags": []
   },
   "outputs": [
    {
     "data": {
      "text/plain": [
       "{1: 'Data Scientist',\n",
       " 2: 'ML Engineer',\n",
       " 3: 'Software Engineer',\n",
       " 4: 'Consultant'}"
      ]
     },
     "execution_count": 17,
     "metadata": {},
     "output_type": "execute_result"
    }
   ],
   "source": [
    "job_dict = {1: \"Data Scientist\",2: \"ML Engineer\", \n",
    "            3: \"Software Engineer\",4: \"Consultant\"}\n",
    "job_dict_init = {1:\"DS\",2:\"MLEng\",3:\"SE\",4:\"Consul\"}\n",
    "num_classes = len(job_dict)\n",
    "job_dict"
   ]
  },
  {
   "cell_type": "code",
   "execution_count": 18,
   "metadata": {
    "execution": {
     "iopub.execute_input": "2020-08-25T10:57:06.437640Z",
     "iopub.status.busy": "2020-08-25T10:57:06.437081Z",
     "iopub.status.idle": "2020-08-25T10:57:06.633252Z",
     "shell.execute_reply": "2020-08-25T10:57:06.633730Z"
    },
    "papermill": {
     "duration": 0.248817,
     "end_time": "2020-08-25T10:57:06.633894",
     "exception": false,
     "start_time": "2020-08-25T10:57:06.385077",
     "status": "completed"
    },
    "tags": []
   },
   "outputs": [
    {
     "data": {
      "text/plain": [
       "<matplotlib.axes._subplots.AxesSubplot at 0x7ff10f7e7f10>"
      ]
     },
     "execution_count": 18,
     "metadata": {},
     "output_type": "execute_result"
    },
    {
     "data": {
      "image/png": "[encoded data removed]",
      "text/plain": [
       "<Figure size 432x288 with 1 Axes>"
      ]
     },
     "metadata": {
      "needs_background": "light"
     },
     "output_type": "display_data"
    }
   ],
   "source": [
    "#visualize the data\n",
    "plt.figure()\n",
    "plt.title(\"1: Data Scientist,2: ML Engineer,3: Software Engineer,4: Consultant\")\n",
    "train.jobflag.value_counts().plot(kind=\"bar\")"
   ]
  },
  {
   "cell_type": "markdown",
   "metadata": {
    "papermill": {
     "duration": 0.078508,
     "end_time": "2020-08-25T10:57:06.767483",
     "exception": false,
     "start_time": "2020-08-25T10:57:06.688975",
     "status": "completed"
    },
    "tags": []
   },
   "source": [
    "pred_1 = pd.read_csv('../input/first-fn/bert_electra_csroberta_roberta_tapt_bt_sub.csv')\n",
    "pred_2 = pd.read_csv('../input/first-fn/bert_electra_csroberta_roberta_tapt_albert_xlnet_bt_sub.csv')\n",
    "pred_1 = pred_1[\"3\"]\n",
    "pred_2 = pred_2[\"3\"]\n",
    "score = accuracy_score(pred_1, pred_2)\n",
    "print(score)"
   ]
  },
  {
   "cell_type": "code",
   "execution_count": null,
   "metadata": {
    "papermill": {
     "duration": 0.086235,
     "end_time": "2020-08-25T10:57:06.938682",
     "exception": false,
     "start_time": "2020-08-25T10:57:06.852447",
     "status": "completed"
    },
    "tags": []
   },
   "outputs": [],
   "source": []
  },
  {
   "cell_type": "code",
   "execution_count": 19,
   "metadata": {
    "execution": {
     "iopub.execute_input": "2020-08-25T10:57:07.121960Z",
     "iopub.status.busy": "2020-08-25T10:57:07.120896Z",
     "iopub.status.idle": "2020-08-25T10:57:07.128957Z",
     "shell.execute_reply": "2020-08-25T10:57:07.130226Z"
    },
    "papermill": {
     "duration": 0.096582,
     "end_time": "2020-08-25T10:57:07.130425",
     "exception": false,
     "start_time": "2020-08-25T10:57:07.033843",
     "status": "completed"
    },
    "tags": []
   },
   "outputs": [],
   "source": [
    "#Jaccard係数(overlap coefficiant)の計算アルゴリズム\n",
    "def jaccard_similarity_coefficient(df_a,df_b):\n",
    "    vectorizer = CountVectorizer()\n",
    "    \n",
    "    vectorizer.fit_transform(df_a.description)\n",
    "    list_a = vectorizer.vocabulary_.keys()\n",
    "    \n",
    "    vectorizer.fit_transform(df_b.description)\n",
    "    list_b = vectorizer.vocabulary_.keys()\n",
    "    \n",
    "    #集合Aと集合Bの積集合(set型)を作成\n",
    "    set_intersection = set.intersection(set(list_a), set(list_b))\n",
    "    #集合Aと集合Bの積集合の要素数を取得\n",
    "    num_intersection = len(set_intersection)\n",
    " \n",
    "    #集合Aと集合Bの和集合(set型)を作成\n",
    "    set_union = set.union(set(list_a), set(list_b))\n",
    "    #集合Aと集合Bの和集合の要素数を取得\n",
    "    num_union = len(set_union)\n",
    " \n",
    "    #積集合の要素数を和集合の要素数で割って\n",
    "    #Jaccard係数を算出\n",
    "    try:\n",
    "        return float(num_intersection) / num_union\n",
    "    except ZeroDivisionError:\n",
    "        return 1.0 "
   ]
  },
  {
   "cell_type": "code",
   "execution_count": 20,
   "metadata": {
    "execution": {
     "iopub.execute_input": "2020-08-25T10:57:07.298027Z",
     "iopub.status.busy": "2020-08-25T10:57:07.294783Z",
     "iopub.status.idle": "2020-08-25T10:57:07.497815Z",
     "shell.execute_reply": "2020-08-25T10:57:07.498849Z"
    },
    "papermill": {
     "duration": 0.291387,
     "end_time": "2020-08-25T10:57:07.499072",
     "exception": false,
     "start_time": "2020-08-25T10:57:07.207685",
     "status": "completed"
    },
    "tags": []
   },
   "outputs": [
    {
     "name": "stdout",
     "output_type": "stream",
     "text": [
      "0.4410909090909091\n"
     ]
    }
   ],
   "source": [
    "jaccard = jaccard_similarity_coefficient(train,test) \n",
    "print(jaccard) # J(train,test) = 0.4408504452117027"
   ]
  },
  {
   "cell_type": "code",
   "execution_count": 21,
   "metadata": {
    "execution": {
     "iopub.execute_input": "2020-08-25T10:57:07.647072Z",
     "iopub.status.busy": "2020-08-25T10:57:07.643579Z",
     "iopub.status.idle": "2020-08-25T10:57:07.648065Z",
     "shell.execute_reply": "2020-08-25T10:57:07.648714Z"
    },
    "papermill": {
     "duration": 0.074346,
     "end_time": "2020-08-25T10:57:07.648882",
     "exception": false,
     "start_time": "2020-08-25T10:57:07.574536",
     "status": "completed"
    },
    "tags": []
   },
   "outputs": [],
   "source": [
    "def caluculate_jaccard(df_paths, original_df):\n",
    "    df_a = original_df\n",
    "    j_dict = {}\n",
    "    for df_path in df_paths:\n",
    "        df_b = pd.read_csv(df_path).dropna()\n",
    "        path = df_path.split('-')[-1].split('.')[0]\n",
    "        j_score = jaccard_similarity_coefficient(df_a, df_b)\n",
    "        j_dict[path] = j_score\n",
    "    return j_dict"
   ]
  },
  {
   "cell_type": "code",
   "execution_count": 22,
   "metadata": {
    "execution": {
     "iopub.execute_input": "2020-08-25T10:57:07.820093Z",
     "iopub.status.busy": "2020-08-25T10:57:07.819287Z",
     "iopub.status.idle": "2020-08-25T10:57:07.825847Z",
     "shell.execute_reply": "2020-08-25T10:57:07.826968Z"
    },
    "papermill": {
     "duration": 0.10637,
     "end_time": "2020-08-25T10:57:07.827130",
     "exception": false,
     "start_time": "2020-08-25T10:57:07.720760",
     "status": "completed"
    },
    "tags": []
   },
   "outputs": [],
   "source": [
    "def get_jaccard_matrix(df_path):\n",
    "    j_dict = {}\n",
    "    for df_a_path in tqdm(df_paths):\n",
    "        df_a = pd.read_csv(df_a_path).dropna()\n",
    "        path_a = df_a_path.split('-')[-1].split('.')[0]\n",
    "        for df_b_path in df_paths:\n",
    "            df_b = pd.read_csv(df_b_path).dropna()\n",
    "            path_b = df_b_path.split('-')[-1].split('.')[0]\n",
    "            j_score = jaccard_similarity_coefficient(df_a, df_b)\n",
    "            j_dict[df_a_path + df_b_path] = j_score\n",
    "    j_matrix = np.array(list(j_dict.values())).reshape(len(df_paths),len(df_paths))\n",
    "    return j_matrix"
   ]
  },
  {
   "cell_type": "code",
   "execution_count": null,
   "metadata": {
    "papermill": {
     "duration": 0.062101,
     "end_time": "2020-08-25T10:57:07.972085",
     "exception": false,
     "start_time": "2020-08-25T10:57:07.909984",
     "status": "completed"
    },
    "tags": []
   },
   "outputs": [],
   "source": [
    "df_paths = [\n",
    "           \"../input/btaugmented-for-holdout/stcup2020-train-google-el.csv\",\n",
    "           \"../input/btaugmented-for-holdout/stcup2020-train-google-ru.csv\",\n",
    "           \"../input/btaugmented-for-holdout/stcup2020-train-google-sw.csv\",\n",
    "           \"../input/btaugmented-for-holdout/stcup2020-train-google-vi.csv\",\n",
    "           \"../input/bt-alibaba-holdout/stcup2020-train-alibaba-tr.csv\",\n",
    "           \"../input/bt-alibaba-holdout/stcup2020-train-alibaba-th.csv\",\n",
    "            \"../input/bt-bimg-holdout/stcup2020-train-bing-fr.csv\"\n",
    "]\n",
    "j_dict = caluculate_jaccard(df_paths, train)\n",
    "print(j_dict)"
   ]
  },
  {
   "cell_type": "code",
   "execution_count": null,
   "metadata": {
    "papermill": {
     "duration": 0.050129,
     "end_time": "2020-08-25T10:57:08.071749",
     "exception": false,
     "start_time": "2020-08-25T10:57:08.021620",
     "status": "completed"
    },
    "tags": []
   },
   "outputs": [],
   "source": [
    "j_matrix = get_jaccard_matrix(df_paths)\n",
    "plt.imshow(j_matrix)\n",
    "plt.colorbar()\n",
    "plt.show()"
   ]
  }
 ],
 "metadata": {
  "kernelspec": {
   "display_name": "Python 3",
   "language": "python",
   "name": "python3"
  },
  "language_info": {
   "codemirror_mode": {
    "name": "ipython",
    "version": 3
   },
   "file_extension": ".py",
   "mimetype": "text/x-python",
   "name": "python",
   "nbconvert_exporter": "python",
   "pygments_lexer": "ipython3",
   "version": "3.8.3"
  },
  "papermill": {
   "duration": 22.978973,
   "end_time": "2020-08-25T10:57:09.694073",
   "environment_variables": {},
   "exception": null,
   "input_path": "__notebook__.ipynb",
   "output_path": "__notebook__.ipynb",
   "parameters": {},
   "start_time": "2020-08-25T10:56:46.715100",
   "version": "2.1.0"
  }
 },
 "nbformat": 4,
 "nbformat_minor": 4
}
