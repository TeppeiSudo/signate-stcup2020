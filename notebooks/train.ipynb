{
 "cells": [
  {
   "cell_type": "code",
   "execution_count": 1,
   "metadata": {
    "_kg_hide-input": true,
    "execution": {
     "iopub.execute_input": "2020-08-26T10:37:47.874953Z",
     "iopub.status.busy": "2020-08-26T10:37:47.874192Z",
     "iopub.status.idle": "2020-08-26T10:37:57.645416Z",
     "shell.execute_reply": "2020-08-26T10:37:57.644249Z"
    },
    "papermill": {
     "duration": 9.795268,
     "end_time": "2020-08-26T10:37:57.645555",
     "exception": false,
     "start_time": "2020-08-26T10:37:47.850287",
     "status": "completed"
    },
    "tags": []
   },
   "outputs": [
    {
     "name": "stderr",
     "output_type": "stream",
     "text": [
      "\u001b[34m\u001b[1mwandb\u001b[0m: \u001b[33mWARNING\u001b[0m W&B installed but not logged in.  Run `wandb login` or set the WANDB_API_KEY env variable.\n"
     ]
    }
   ],
   "source": [
    "import os\n",
    "import numpy as np\n",
    "import pandas as pd\n",
    "import gc\n",
    "import matplotlib.pyplot as plt\n",
    "import sklearn\n",
    "import sklearn.metrics\n",
    "from sklearn.metrics import confusion_matrix\n",
    "from sklearn.metrics import ConfusionMatrixDisplay\n",
    "from sklearn.model_selection import StratifiedKFold\n",
    "from sklearn.model_selection import train_test_split\n",
    "\n",
    "import time\n",
    "from tqdm import tqdm\n",
    "import random\n",
    "import torch\n",
    "import torch.nn as nn\n",
    "import torch.nn.functional as F\n",
    "from torch.nn import Conv2d, Module, Linear, BatchNorm2d, ReLU\n",
    "import torch.optim as optimizers\n",
    "\n",
    "import transformers\n",
    "from transformers import AdamW\n",
    "#from transformers import get_linear_schedule_with_warmup\n",
    "\n",
    "#import torchtext\n",
    "#from torchtext.data import get_tokenizer\n",
    "from torch.utils.data import random_split\n",
    "from torch.utils.data import Dataset, DataLoader\n",
    "from torch.utils.data import WeightedRandomSampler, BatchSampler\n",
    "import torchvision.transforms as transforms"
   ]
  },
  {
   "cell_type": "code",
   "execution_count": 2,
   "metadata": {
    "execution": {
     "iopub.execute_input": "2020-08-26T10:37:57.681755Z",
     "iopub.status.busy": "2020-08-26T10:37:57.679910Z",
     "iopub.status.idle": "2020-08-26T10:37:57.682441Z",
     "shell.execute_reply": "2020-08-26T10:37:57.682925Z"
    },
    "papermill": {
     "duration": 0.02159,
     "end_time": "2020-08-26T10:37:57.683041",
     "exception": false,
     "start_time": "2020-08-26T10:37:57.661451",
     "status": "completed"
    },
    "tags": []
   },
   "outputs": [],
   "source": [
    "import warnings\n",
    "warnings.filterwarnings('ignore')"
   ]
  },
  {
   "cell_type": "code",
   "execution_count": 3,
   "metadata": {
    "_kg_hide-input": true,
    "execution": {
     "iopub.execute_input": "2020-08-26T10:37:57.722489Z",
     "iopub.status.busy": "2020-08-26T10:37:57.721628Z",
     "iopub.status.idle": "2020-08-26T10:37:57.727892Z",
     "shell.execute_reply": "2020-08-26T10:37:57.727326Z"
    },
    "papermill": {
     "duration": 0.030328,
     "end_time": "2020-08-26T10:37:57.728000",
     "exception": false,
     "start_time": "2020-08-26T10:37:57.697672",
     "status": "completed"
    },
    "tags": []
   },
   "outputs": [],
   "source": [
    "#set random seed\n",
    "def set_seed(seed: int = 123):\n",
    "    random.seed(seed)\n",
    "    np.random.seed(seed)\n",
    "    os.environ[\"PYTHONHASHSEED\"] = str(seed)\n",
    "    torch.manual_seed(seed)\n",
    "    torch.cuda.manual_seed(seed)  # type: ignore\n",
    "    torch.backends.cudnn.deterministic = True  # type: ignore\n",
    "    torch.backends.cudnn.benchmark = True  # type: ignore\n",
    "    \n",
    "set_seed(123)"
   ]
  },
  {
   "cell_type": "code",
   "execution_count": 4,
   "metadata": {
    "_kg_hide-input": true,
    "execution": {
     "iopub.execute_input": "2020-08-26T10:37:57.778752Z",
     "iopub.status.busy": "2020-08-26T10:37:57.766650Z",
     "iopub.status.idle": "2020-08-26T10:37:58.407796Z",
     "shell.execute_reply": "2020-08-26T10:37:58.406288Z"
    },
    "papermill": {
     "duration": 0.664826,
     "end_time": "2020-08-26T10:37:58.407934",
     "exception": false,
     "start_time": "2020-08-26T10:37:57.743108",
     "status": "completed"
    },
    "tags": []
   },
   "outputs": [],
   "source": [
    "# Easy data augmentation techniques for text classification\n",
    "# Jason Wei and Kai Zou\n",
    "\n",
    "import random\n",
    "from random import shuffle\n",
    "\n",
    "\n",
    "#stop words list\n",
    "stop_words = ['i', 'me', 'my', 'myself', 'we', 'our', \n",
    "\t\t\t'ours', 'ourselves', 'you', 'your', 'yours', \n",
    "\t\t\t'yourself', 'yourselves', 'he', 'him', 'his', \n",
    "\t\t\t'himself', 'she', 'her', 'hers', 'herself', \n",
    "\t\t\t'it', 'its', 'itself', 'they', 'them', 'their', \n",
    "\t\t\t'theirs', 'themselves', 'what', 'which', 'who', \n",
    "\t\t\t'whom', 'this', 'that', 'these', 'those', 'am', \n",
    "\t\t\t'is', 'are', 'was', 'were', 'be', 'been', 'being', \n",
    "\t\t\t'have', 'has', 'had', 'having', 'do', 'does', 'did',\n",
    "\t\t\t'doing', 'a', 'an', 'the', 'and', 'but', 'if', 'or',\n",
    "\t\t\t'because', 'as', 'until', 'while', 'of', 'at', \n",
    "\t\t\t'by', 'for', 'with', 'about', 'against', 'between',\n",
    "\t\t\t'into', 'through', 'during', 'before', 'after', \n",
    "\t\t\t'above', 'below', 'to', 'from', 'up', 'down', 'in',\n",
    "\t\t\t'out', 'on', 'off', 'over', 'under', 'again', \n",
    "\t\t\t'further', 'then', 'once', 'here', 'there', 'when', \n",
    "\t\t\t'where', 'why', 'how', 'all', 'any', 'both', 'each', \n",
    "\t\t\t'few', 'more', 'most', 'other', 'some', 'such', 'no', \n",
    "\t\t\t'nor', 'not', 'only', 'own', 'same', 'so', 'than', 'too', \n",
    "\t\t\t'very', 's', 't', 'can', 'will', 'just', 'don', \n",
    "\t\t\t'should', 'now', '']\n",
    "\n",
    "#cleaning up text\n",
    "import re\n",
    "def get_only_chars(line):\n",
    "\n",
    "    clean_line = \"\"\n",
    "\n",
    "    line = line.replace(\"’\", \"\")\n",
    "    line = line.replace(\"'\", \"\")\n",
    "    line = line.replace(\"-\", \" \") #replace hyphens with spaces\n",
    "    line = line.replace(\"\\t\", \" \")\n",
    "    line = line.replace(\"\\n\", \" \")\n",
    "    line = line.lower()\n",
    "\n",
    "    for char in line:\n",
    "        if char in 'qwertyuiopasdfghjklzxcvbnm ':\n",
    "            clean_line += char\n",
    "        else:\n",
    "            clean_line += ' '\n",
    "\n",
    "    clean_line = re.sub(' +',' ',clean_line) #delete extra spaces\n",
    "    if clean_line[0] == ' ':\n",
    "        clean_line = clean_line[1:]\n",
    "    return clean_line\n",
    "\n",
    "########################################################################\n",
    "# Synonym replacement\n",
    "# Replace n words in the sentence with synonyms from wordnet\n",
    "########################################################################\n",
    "\n",
    "#for the first time you use wordnet\n",
    "#import nltk\n",
    "#nltk.download('wordnet')\n",
    "from nltk.corpus import wordnet \n",
    "\n",
    "def synonym_replacement(words, n):\n",
    "\tnew_words = words.copy()\n",
    "\trandom_word_list = list(set([word for word in words if word not in stop_words]))\n",
    "\trandom.shuffle(random_word_list)\n",
    "\tnum_replaced = 0\n",
    "\tfor random_word in random_word_list:\n",
    "\t\tsynonyms = get_synonyms(random_word)\n",
    "\t\tif len(synonyms) >= 1:\n",
    "\t\t\tsynonym = random.choice(list(synonyms))\n",
    "\t\t\tnew_words = [synonym if word == random_word else word for word in new_words]\n",
    "\t\t\t#print(\"replaced\", random_word, \"with\", synonym)\n",
    "\t\t\tnum_replaced += 1\n",
    "\t\tif num_replaced >= n: #only replace up to n words\n",
    "\t\t\tbreak\n",
    "\n",
    "\t#this is stupid but we need it, trust me\n",
    "\tsentence = ' '.join(new_words)\n",
    "\tnew_words = sentence.split(' ')\n",
    "\n",
    "\treturn new_words\n",
    "\n",
    "def get_synonyms(word):\n",
    "\tsynonyms = set()\n",
    "\tfor syn in wordnet.synsets(word): \n",
    "\t\tfor l in syn.lemmas(): \n",
    "\t\t\tsynonym = l.name().replace(\"_\", \" \").replace(\"-\", \" \").lower()\n",
    "\t\t\tsynonym = \"\".join([char for char in synonym if char in ' qwertyuiopasdfghjklzxcvbnm'])\n",
    "\t\t\tsynonyms.add(synonym) \n",
    "\tif word in synonyms:\n",
    "\t\tsynonyms.remove(word)\n",
    "\treturn list(synonyms)\n",
    "\n",
    "########################################################################\n",
    "# Random deletion\n",
    "# Randomly delete words from the sentence with probability p\n",
    "########################################################################\n",
    "\n",
    "def random_deletion(words, p):\n",
    "\n",
    "\t#obviously, if there's only one word, don't delete it\n",
    "\tif len(words) == 1:\n",
    "\t\treturn words\n",
    "\n",
    "\t#randomly delete words with probability p\n",
    "\tnew_words = []\n",
    "\tfor word in words:\n",
    "\t\tr = random.uniform(0, 1)\n",
    "\t\tif r > p:\n",
    "\t\t\tnew_words.append(word)\n",
    "\n",
    "\t#if you end up deleting all words, just return a random word\n",
    "\tif len(new_words) == 0:\n",
    "\t\trand_int = random.randint(0, len(words)-1)\n",
    "\t\treturn [words[rand_int]]\n",
    "\n",
    "\treturn new_words\n",
    "\n",
    "########################################################################\n",
    "# Random swap\n",
    "# Randomly swap two words in the sentence n times\n",
    "########################################################################\n",
    "\n",
    "def random_swap(words, n):\n",
    "\tnew_words = words.copy()\n",
    "\tfor _ in range(n):\n",
    "\t\tnew_words = swap_word(new_words)\n",
    "\treturn new_words\n",
    "\n",
    "def swap_word(new_words):\n",
    "\trandom_idx_1 = random.randint(0, len(new_words)-1)\n",
    "\trandom_idx_2 = random_idx_1\n",
    "\tcounter = 0\n",
    "\twhile random_idx_2 == random_idx_1:\n",
    "\t\trandom_idx_2 = random.randint(0, len(new_words)-1)\n",
    "\t\tcounter += 1\n",
    "\t\tif counter > 3:\n",
    "\t\t\treturn new_words\n",
    "\tnew_words[random_idx_1], new_words[random_idx_2] = new_words[random_idx_2], new_words[random_idx_1] \n",
    "\treturn new_words\n",
    "\n",
    "########################################################################\n",
    "# Random insertion\n",
    "# Randomly insert n words into the sentence\n",
    "########################################################################\n",
    "\n",
    "def random_insertion(words, n):\n",
    "\tnew_words = words.copy()\n",
    "\tfor _ in range(n):\n",
    "\t\tadd_word(new_words)\n",
    "\treturn new_words\n",
    "\n",
    "def add_word(new_words):\n",
    "\tsynonyms = []\n",
    "\tcounter = 0\n",
    "\twhile len(synonyms) < 1:\n",
    "\t\trandom_word = new_words[random.randint(0, len(new_words)-1)]\n",
    "\t\tsynonyms = get_synonyms(random_word)\n",
    "\t\tcounter += 1\n",
    "\t\tif counter >= 10:\n",
    "\t\t\treturn\n",
    "\trandom_synonym = synonyms[0]\n",
    "\trandom_idx = random.randint(0, len(new_words)-1)\n",
    "\tnew_words.insert(random_idx, random_synonym)\n",
    "\n",
    "########################################################################\n",
    "# main data augmentation function\n",
    "########################################################################\n",
    "\n",
    "def eda(sentence, alpha_sr=0.1, alpha_ri=0.1, alpha_rs=0.1, p_rd=0.1, num_aug=9):\n",
    "\t\n",
    "\tsentence = get_only_chars(sentence)\n",
    "\twords = sentence.split(' ')\n",
    "\twords = [word for word in words if word is not '']\n",
    "\tnum_words = len(words)\n",
    "\t\n",
    "\taugmented_sentences = []\n",
    "\tnum_new_per_technique = int(num_aug/4)+1\n",
    "\tn_sr = max(1, int(alpha_sr*num_words))\n",
    "\tn_ri = max(1, int(alpha_ri*num_words))\n",
    "\tn_rs = max(1, int(alpha_rs*num_words))\n",
    "\n",
    "\t#sr\n",
    "\tfor _ in range(num_new_per_technique):\n",
    "\t\ta_words = synonym_replacement(words, n_sr)\n",
    "\t\taugmented_sentences.append(' '.join(a_words))\n",
    "\n",
    "\t#ri\n",
    "\tfor _ in range(num_new_per_technique):\n",
    "\t\ta_words = random_insertion(words, n_ri)\n",
    "\t\taugmented_sentences.append(' '.join(a_words))\n",
    "\n",
    "\t#rs\n",
    "\tfor _ in range(num_new_per_technique):\n",
    "\t\ta_words = random_swap(words, n_rs)\n",
    "\t\taugmented_sentences.append(' '.join(a_words))\n",
    "\n",
    "\t#rd\n",
    "\tfor _ in range(num_new_per_technique):\n",
    "\t\ta_words = random_deletion(words, p_rd)\n",
    "\t\taugmented_sentences.append(' '.join(a_words))\n",
    "\n",
    "\taugmented_sentences = [get_only_chars(sentence) for sentence in augmented_sentences]\n",
    "\tshuffle(augmented_sentences)\n",
    "\n",
    "\t#trim so that we have the desired number of augmented sentences\n",
    "\tif num_aug >= 1:\n",
    "\t\taugmented_sentences = augmented_sentences[:num_aug]\n",
    "\telse:\n",
    "\t\tkeep_prob = num_aug / len(augmented_sentences)\n",
    "\t\taugmented_sentences = [s for s in augmented_sentences if random.uniform(0, 1) < keep_prob]\n",
    "\n",
    "\t#append the original sentence\n",
    "\taugmented_sentences.append(sentence)\n",
    "\n",
    "\treturn augmented_sentences"
   ]
  },
  {
   "cell_type": "code",
   "execution_count": 5,
   "metadata": {
    "_kg_hide-input": true,
    "execution": {
     "iopub.execute_input": "2020-08-26T10:37:58.460615Z",
     "iopub.status.busy": "2020-08-26T10:37:58.458532Z",
     "iopub.status.idle": "2020-08-26T10:37:58.461315Z",
     "shell.execute_reply": "2020-08-26T10:37:58.461834Z"
    },
    "papermill": {
     "duration": 0.039422,
     "end_time": "2020-08-26T10:37:58.461957",
     "exception": false,
     "start_time": "2020-08-26T10:37:58.422535",
     "status": "completed"
    },
    "tags": []
   },
   "outputs": [],
   "source": [
    "#back_translator =  BackTranslator(back=True, undersampled=False, prob=1)\n",
    "\n",
    "def expand_dataset(df, num_aug, balanced=True):\n",
    "    aug_dict = {\"id\": [],\n",
    "                \"description\": [],\n",
    "               \"jobflag\": []}\n",
    "    \n",
    "    # weight to balance amount of data\n",
    "    weight = [len(df[df.jobflag==n+1]) for n in range(len(df.jobflag.unique()))]\n",
    "    \n",
    "    for idx in tqdm(range(len(df))):\n",
    "        \n",
    "        if num_aug == 8:\n",
    "            alpha_sr=0.05\n",
    "            alpha_ri=0.05\n",
    "            alpha_rs=0.05\n",
    "            p_rd=0.05\n",
    "        \n",
    "        else:\n",
    "            num_aug = 4\n",
    "            alpha_sr=0.1\n",
    "            alpha_ri=0.1\n",
    "            alpha_rs=0.1\n",
    "            p_rd=0.1\n",
    "            \n",
    "        if balanced:\n",
    "            # weight to balance the amount of labels\n",
    "            if df.jobflag.iloc[idx] == 1:\n",
    "                num_aug = int(num_aug*weight[2-1]/weight[1-1])\n",
    "            elif df.jobflag.iloc[idx] == 2:\n",
    "                # standard\n",
    "                num_aug = num_aug\n",
    "            elif df.jobflag.iloc[idx] == 3:\n",
    "                num_aug = int(num_aug*weight[2-1]/weight[3-1])\n",
    "            elif df.jobflag.iloc[idx] == 4:\n",
    "                num_aug = int(num_aug*weight[2-1]/weight[4-1])\n",
    "            \n",
    "            \n",
    "        #Augmentation \n",
    "        aug = eda(df.description.iloc[idx], alpha_sr=alpha_sr, alpha_ri=alpha_ri, alpha_rs=alpha_rs, p_rd=p_rd, num_aug=num_aug)\n",
    "        job = df.jobflag.iloc[idx]\n",
    "        ids = df.id.iloc[idx]\n",
    "        for n in range(len(aug)):\n",
    "            aug_dict[\"id\"].append(ids)\n",
    "            aug_dict[\"description\"].append(aug[n])\n",
    "            aug_dict[\"jobflag\"].append(job)\n",
    "       \n",
    "    print('now augmentation compleet !!')\n",
    "            \n",
    "    aug_df = pd.DataFrame(aug_dict)\n",
    "    return aug_df"
   ]
  },
  {
   "cell_type": "code",
   "execution_count": 6,
   "metadata": {
    "_cell_guid": "79c7e3d0-c299-4dcb-8224-4455121ee9b0",
    "_uuid": "d629ff2d2480ee46fbb7e2d37f6b5fab8052498a",
    "execution": {
     "iopub.execute_input": "2020-08-26T10:37:58.499565Z",
     "iopub.status.busy": "2020-08-26T10:37:58.498657Z",
     "iopub.status.idle": "2020-08-26T10:37:58.528854Z",
     "shell.execute_reply": "2020-08-26T10:37:58.528281Z"
    },
    "papermill": {
     "duration": 0.051746,
     "end_time": "2020-08-26T10:37:58.528954",
     "exception": false,
     "start_time": "2020-08-26T10:37:58.477208",
     "status": "completed"
    },
    "tags": []
   },
   "outputs": [],
   "source": [
    "#read data_files\n",
    "train = pd.read_csv('../input/signate-stcup-2020/train.csv')\n",
    "test = pd.read_csv('../input/signate-stcup2020-new/test.csv')"
   ]
  },
  {
   "cell_type": "code",
   "execution_count": 7,
   "metadata": {
    "execution": {
     "iopub.execute_input": "2020-08-26T10:37:58.566027Z",
     "iopub.status.busy": "2020-08-26T10:37:58.565332Z",
     "iopub.status.idle": "2020-08-26T10:37:58.570346Z",
     "shell.execute_reply": "2020-08-26T10:37:58.570873Z"
    },
    "papermill": {
     "duration": 0.027478,
     "end_time": "2020-08-26T10:37:58.571001",
     "exception": false,
     "start_time": "2020-08-26T10:37:58.543523",
     "status": "completed"
    },
    "tags": []
   },
   "outputs": [
    {
     "data": {
      "text/plain": [
       "{1: 'Data Scientist',\n",
       " 2: 'ML Engineer',\n",
       " 3: 'Software Engineer',\n",
       " 4: 'Consultant'}"
      ]
     },
     "execution_count": 7,
     "metadata": {},
     "output_type": "execute_result"
    }
   ],
   "source": [
    "job_dict = {1: \"Data Scientist\",2: \"ML Engineer\", \n",
    "            3: \"Software Engineer\",4: \"Consultant\"}\n",
    "job_dict_init = {1:\"DS\",2:\"MLEng\",3:\"SE\",4:\"Consul\"}\n",
    "num_classes = len(job_dict)\n",
    "job_dict"
   ]
  },
  {
   "cell_type": "code",
   "execution_count": 8,
   "metadata": {
    "execution": {
     "iopub.execute_input": "2020-08-26T10:37:58.606112Z",
     "iopub.status.busy": "2020-08-26T10:37:58.605336Z",
     "iopub.status.idle": "2020-08-26T10:37:58.990115Z",
     "shell.execute_reply": "2020-08-26T10:37:58.990876Z"
    },
    "papermill": {
     "duration": 0.404802,
     "end_time": "2020-08-26T10:37:58.991074",
     "exception": false,
     "start_time": "2020-08-26T10:37:58.586272",
     "status": "completed"
    },
    "tags": []
   },
   "outputs": [
    {
     "data": {
      "text/plain": [
       "<matplotlib.axes._subplots.AxesSubplot at 0x7f29e92b6710>"
      ]
     },
     "execution_count": 8,
     "metadata": {},
     "output_type": "execute_result"
    },
    {
     "data": {
      "image/png": "[encoded data removed]",
      "text/plain": [
       "<Figure size 432x288 with 1 Axes>"
      ]
     },
     "metadata": {
      "needs_background": "light"
     },
     "output_type": "display_data"
    }
   ],
   "source": [
    "#visualize the data\n",
    "plt.figure()\n",
    "plt.title(\"1: Data Scientist,2: ML Engineer,3: Software Engineer,4: Consultant\")\n",
    "train.jobflag.value_counts().plot(kind=\"bar\")"
   ]
  },
  {
   "cell_type": "code",
   "execution_count": 9,
   "metadata": {
    "execution": {
     "iopub.execute_input": "2020-08-26T10:37:59.039082Z",
     "iopub.status.busy": "2020-08-26T10:37:59.037240Z",
     "iopub.status.idle": "2020-08-26T10:37:59.040093Z",
     "shell.execute_reply": "2020-08-26T10:37:59.040640Z"
    },
    "papermill": {
     "duration": 0.027716,
     "end_time": "2020-08-26T10:37:59.040757",
     "exception": false,
     "start_time": "2020-08-26T10:37:59.013041",
     "status": "completed"
    },
    "tags": []
   },
   "outputs": [],
   "source": [
    "def get_reciprocal_freq(df):\n",
    "    loss_weight = [len(df)/(4*len(df[df.jobflag==n+1])) for n in range(len(df.jobflag.unique()))]\n",
    "    loss_weight = torch.tensor(loss_weight)\n",
    "    return loss_weight\n",
    "\n",
    "def get_freq(df):\n",
    "    loss_weight = [(4*len(df[df.jobflag==n+1]))/len(df) for n in range(len(df.jobflag.unique()))]\n",
    "    loss_weight = torch.tensor(loss_weight)\n",
    "    return loss_weight"
   ]
  },
  {
   "cell_type": "code",
   "execution_count": 10,
   "metadata": {
    "_kg_hide-input": true,
    "execution": {
     "iopub.execute_input": "2020-08-26T10:37:59.086213Z",
     "iopub.status.busy": "2020-08-26T10:37:59.085472Z",
     "iopub.status.idle": "2020-08-26T10:37:59.089322Z",
     "shell.execute_reply": "2020-08-26T10:37:59.088853Z"
    },
    "papermill": {
     "duration": 0.032231,
     "end_time": "2020-08-26T10:37:59.089422",
     "exception": false,
     "start_time": "2020-08-26T10:37:59.057191",
     "status": "completed"
    },
    "tags": []
   },
   "outputs": [],
   "source": [
    "#define dataset\n",
    "class Text_Dataset(Dataset):\n",
    "    def __init__(self, csv_file, class_table=None, transform=None):\n",
    "        self.csv_file = csv_file\n",
    "        self.transform = transform\n",
    "        self.class_table = class_table\n",
    "        \n",
    "        if self.csv_file.shape[1] >= 3:\n",
    "            #train.shape=>(_,3)\n",
    "            self.is_train = True\n",
    "        else:\n",
    "            #test.shape=>(_,2)\n",
    "            self.is_train = False\n",
    "    \n",
    "    \n",
    "    def __len__(self):\n",
    "        return len(self.csv_file)\n",
    "    \n",
    "    def __getitem__(self, idx):\n",
    "        \n",
    "        if self.is_train:\n",
    "            \n",
    "            if self.class_table:\n",
    "                if self.csv_file.jobflag.iloc[idx] == self.class_table:\n",
    "                    label = torch.eye(2)[1]\n",
    "                else:\n",
    "                    label = torch.eye(2)[0]\n",
    "            \n",
    "            else:\n",
    "                #label returns \"jobflag\" as onehot vector when you set csv_file=\"train\"\n",
    "                label = torch.eye(4)[int(self.csv_file.jobflag.iloc[idx])-1]\n",
    "            \n",
    "        else:\n",
    "            #label returns the \"id\" when you set csv_file=\"test\"\n",
    "            label = self.csv_file.id.iloc[idx]\n",
    "            \n",
    "        text = self.csv_file.description.iloc[idx]\n",
    "            \n",
    "        if self.transform:\n",
    "            text = self.transform(text)\n",
    "        \n",
    "        del idx\n",
    "        return text, label"
   ]
  },
  {
   "cell_type": "code",
   "execution_count": 11,
   "metadata": {
    "_kg_hide-input": true,
    "execution": {
     "iopub.execute_input": "2020-08-26T10:37:59.139418Z",
     "iopub.status.busy": "2020-08-26T10:37:59.137452Z",
     "iopub.status.idle": "2020-08-26T10:37:59.140371Z",
     "shell.execute_reply": "2020-08-26T10:37:59.140859Z"
    },
    "papermill": {
     "duration": 0.034654,
     "end_time": "2020-08-26T10:37:59.140968",
     "exception": false,
     "start_time": "2020-08-26T10:37:59.106314",
     "status": "completed"
    },
    "tags": []
   },
   "outputs": [],
   "source": [
    "#define transform\n",
    "class BERT_Tokenize(object):\n",
    "    def __init__(self, model_type, max_len):\n",
    "        self.max_len = max_len\n",
    "        \n",
    "        if model_type == \"BERT\" or model_type == \"TAPTBERT\":\n",
    "            from transformers import BertTokenizer, BertForSequenceClassification\n",
    "            self.bert_tokenizer = BertTokenizer.from_pretrained(\"bert-base-cased\")\n",
    "            \n",
    "        elif model_type == \"ALBERT\":\n",
    "            from transformers import AlbertTokenizer, AlbertForSequenceClassification\n",
    "            self.bert_tokenizer = AlbertTokenizer.from_pretrained(\"albert-base-v2\")\n",
    "            \n",
    "        elif model_type == \"XLNET\":\n",
    "            from transformers import XLNetTokenizer, XLNetForSequenceClassification\n",
    "            self.bert_tokenizer = XLNetTokenizer.from_pretrained(\"xlnet-base-cased\")\n",
    "        \n",
    "        elif model_type == \"ROBERTA\":\n",
    "            from transformers import RobertaTokenizer, RobertaForSequenceClassification\n",
    "            self.bert_tokenizer = RobertaTokenizer.from_pretrained(\"roberta-base\")\n",
    "        \n",
    "        elif model_type == \"csROBERTA\":\n",
    "            from transformers import AutoTokenizer, AutoModel\n",
    "            self.bert_tokenizer = AutoTokenizer.from_pretrained(\"allenai/cs_roberta_base\")\n",
    "            \n",
    "        elif model_type == \"XLMROBERTA\":\n",
    "            from transformers import XLMRobertaTokenizer, XLMRobertaForSequenceClassification\n",
    "            self.bert_tokenizer = XLMRobertaTokenizer.from_pretrained(\"xlm-roberta-base\")\n",
    "            \n",
    "        elif model_type == \"ELECTRA\":\n",
    "            from transformers import ElectraTokenizer, ElectraForSequenceClassification\n",
    "            self.bert_tokenizer = ElectraTokenizer.from_pretrained(\"google/electra-base-discriminator\")\n",
    "            \n",
    "    \n",
    "    def __call__(self,text):\n",
    "        inputs = self.bert_tokenizer.encode_plus(\n",
    "                        text,                       # Sentence to encode.\n",
    "                        add_special_tokens = True,  # Add '[CLS]' and '[SEP]'\n",
    "                        max_length = self.max_len,  # Pad & truncate all sentences.\n",
    "                        pad_to_max_length = True,\n",
    "                        return_attention_mask = True,  # Construct attn. masks.\n",
    "                   )\n",
    "        \n",
    "        ids = inputs['input_ids']\n",
    "        mask = inputs['attention_mask']\n",
    "        del text, inputs\n",
    "        return torch.LongTensor(ids), torch.LongTensor(mask)"
   ]
  },
  {
   "cell_type": "markdown",
   "metadata": {
    "papermill": {
     "duration": 0.024689,
     "end_time": "2020-08-26T10:37:59.181928",
     "exception": false,
     "start_time": "2020-08-26T10:37:59.157239",
     "status": "completed"
    },
    "tags": []
   },
   "source": [
    "text_dataset = Text_Dataset(csv_file=train,transform=None)\n",
    "a, b = text_dataset[1]"
   ]
  },
  {
   "cell_type": "code",
   "execution_count": 12,
   "metadata": {
    "_kg_hide-input": true,
    "execution": {
     "iopub.execute_input": "2020-08-26T10:37:59.250705Z",
     "iopub.status.busy": "2020-08-26T10:37:59.235160Z",
     "iopub.status.idle": "2020-08-26T10:37:59.253277Z",
     "shell.execute_reply": "2020-08-26T10:37:59.252757Z"
    },
    "papermill": {
     "duration": 0.046587,
     "end_time": "2020-08-26T10:37:59.253374",
     "exception": false,
     "start_time": "2020-08-26T10:37:59.206787",
     "status": "completed"
    },
    "tags": []
   },
   "outputs": [],
   "source": [
    "#define BERT based model\n",
    "class BERT_Net(nn.Module):\n",
    "    def __init__(self, model_type, num_classes):\n",
    "        super().__init__()\n",
    "        \n",
    "        self.model_type = True if model_type == \"csROBERTA\" or model_type == \"TAPTBERT\" else False\n",
    "        \n",
    "        if model_type == \"ALBERT\":\n",
    "            from transformers import AlbertTokenizer, AlbertForSequenceClassification\n",
    "            self.base_model = AlbertForSequenceClassification.from_pretrained(\n",
    "                \"albert-base-v2\",early_stopping=False,num_labels=num_classes)\n",
    "            \n",
    "        elif model_type == \"BERT\":\n",
    "            from transformers import BertTokenizer, BertForSequenceClassification\n",
    "            self.base_model = BertForSequenceClassification.from_pretrained(\n",
    "                \"bert-base-cased\",early_stopping=False,num_labels=num_classes)\n",
    "            \n",
    "        elif model_type == \"XLNET\":\n",
    "            from transformers import XLNetTokenizer, XLNetForSequenceClassification\n",
    "            self.base_model = XLNetForSequenceClassification.from_pretrained(\n",
    "                \"xlnet-base-cased\",early_stopping=False,num_labels=num_classes)\n",
    "            \n",
    "        elif model_type == \"ROBERTA\":\n",
    "            from transformers import RobertaTokenizer, RobertaForSequenceClassification\n",
    "            self.base_model = RobertaForSequenceClassification.from_pretrained(\n",
    "                \"roberta-base\",early_stopping=False,num_labels=num_classes)\n",
    "            \n",
    "        elif model_type == \"csROBERTA\":\n",
    "            from transformers import AutoTokenizer, AutoModel\n",
    "            self.base_model = AutoModel.from_pretrained(\"allenai/cs_roberta_base\")\n",
    "            self.classifier = nn.Sequential(\n",
    "                nn.Linear(768, 768), nn.ReLU(), nn.Dropout(p=0.1),\n",
    "                nn.Linear(768, 768), nn.ReLU(), nn.Dropout(p=0.1),\n",
    "                nn.Linear(768, num_classes))\n",
    "        \n",
    "        elif model_type == \"XLMROBERTA\":\n",
    "            from transformers import XLMRobertaTokenizer, XLMRobertaForSequenceClassification\n",
    "            self.base_model = XLMRobertaForSequenceClassification.from_pretrained(\n",
    "                \"xlm-roberta-base\", num_labels=num_classes)\n",
    "        \n",
    "        elif model_type == \"ELECTRA\":\n",
    "            from transformers import ElectraTokenizer, ElectraForSequenceClassification\n",
    "            self.base_model = ElectraForSequenceClassification.from_pretrained(\n",
    "                \"google/electra-base-discriminator\", num_labels=num_classes)\n",
    "       \n",
    "        elif model_type == \"TAPTBERT\":\n",
    "            from transformers import AutoModel, AutoConfig\n",
    "            config = AutoConfig.from_pretrained(\"../input/tapt-v2/config.json\")\n",
    "            self.base_model = AutoModel.from_pretrained(\"../input/tapt-v2/pytorch_model.bin\", config=config)\n",
    "            self.classifier = nn.Sequential(\n",
    "                nn.Linear(768, 768), nn.ReLU(), nn.Dropout(p=0.1),\n",
    "                nn.Linear(768, 768), nn.ReLU(), nn.Dropout(p=0.1),\n",
    "                nn.Linear(768, num_classes))\n",
    "    \"\"\"\n",
    "        for param in self.base_model.parameters():\n",
    "            param.requires_grad = True\n",
    "    \"\"\"\n",
    "    \n",
    "    def forward(self, x):\n",
    "        \n",
    "        ids, mask = x\n",
    "        \n",
    "        if self.model_type:\n",
    "            x = self.base_model(input_ids=ids, attention_mask=mask)\n",
    "            x = self.classifier(x[1])\n",
    "            preds = x\n",
    "        else:\n",
    "            x = self.base_model(input_ids=ids, attention_mask=mask, labels=None)\n",
    "            preds = x[0]\n",
    "            \n",
    "        preds = nn.Softmax(dim=1)(preds)\n",
    "        return preds"
   ]
  },
  {
   "cell_type": "code",
   "execution_count": 13,
   "metadata": {
    "_kg_hide-input": true,
    "execution": {
     "iopub.execute_input": "2020-08-26T10:37:59.292143Z",
     "iopub.status.busy": "2020-08-26T10:37:59.291396Z",
     "iopub.status.idle": "2020-08-26T10:37:59.294375Z",
     "shell.execute_reply": "2020-08-26T10:37:59.293909Z"
    },
    "papermill": {
     "duration": 0.024171,
     "end_time": "2020-08-26T10:37:59.294469",
     "exception": false,
     "start_time": "2020-08-26T10:37:59.270298",
     "status": "completed"
    },
    "tags": []
   },
   "outputs": [],
   "source": [
    "def model_config(model_type, max_len, num_classes):\n",
    "    \n",
    "    # define transforms and augmentation(back translation)\n",
    "    transform = BERT_Tokenize(model_type=model_type,max_len=max_len)\n",
    "        \n",
    "    # define model\n",
    "    model = BERT_Net(model_type=model_type,num_classes=num_classes)\n",
    "    \n",
    "    return transform, model"
   ]
  },
  {
   "cell_type": "code",
   "execution_count": 14,
   "metadata": {
    "_kg_hide-input": true,
    "execution": {
     "iopub.execute_input": "2020-08-26T10:37:59.338435Z",
     "iopub.status.busy": "2020-08-26T10:37:59.337472Z",
     "iopub.status.idle": "2020-08-26T10:37:59.340762Z",
     "shell.execute_reply": "2020-08-26T10:37:59.340110Z"
    },
    "papermill": {
     "duration": 0.029416,
     "end_time": "2020-08-26T10:37:59.340873",
     "exception": false,
     "start_time": "2020-08-26T10:37:59.311457",
     "status": "completed"
    },
    "tags": []
   },
   "outputs": [],
   "source": [
    "# Loss function and Optimizer configuration\n",
    "def compute_loss(t, pred):\n",
    "    if pred.shape[1] == 2:\n",
    "        return F.binary_cross_entropy(pred,t,weight=torch.tensor([0.5,1.5]).to(device),size_average=None,reduce=None,reduction='mean')\n",
    "    else:\n",
    "        t = torch.argmax(t,dim=1)\n",
    "        #loss_weight.to(device)\n",
    "        return F.cross_entropy(pred,t,size_average=None,reduce=None,reduction='mean')\n",
    "\n",
    "def compute_accuracy(t, pred):\n",
    "    t, pred = t.to(\"cpu\"), pred.to(\"cpu\").detach().numpy()\n",
    "    return sklearn.metrics.f1_score(t, pred, average='macro', sample_weight=None, zero_division='warn')\n"
   ]
  },
  {
   "cell_type": "code",
   "execution_count": 15,
   "metadata": {
    "_kg_hide-input": true,
    "execution": {
     "iopub.execute_input": "2020-08-26T10:37:59.403594Z",
     "iopub.status.busy": "2020-08-26T10:37:59.388101Z",
     "iopub.status.idle": "2020-08-26T10:37:59.412076Z",
     "shell.execute_reply": "2020-08-26T10:37:59.411546Z"
    },
    "papermill": {
     "duration": 0.054582,
     "end_time": "2020-08-26T10:37:59.412175",
     "exception": false,
     "start_time": "2020-08-26T10:37:59.357593",
     "status": "completed"
    },
    "tags": []
   },
   "outputs": [],
   "source": [
    "#train utils\n",
    "def train_step(x, t, model, optimizer):\n",
    "    preds = model(x)\n",
    "    loss = compute_loss(t, preds)\n",
    "    accuracy = compute_accuracy(torch.argmax(t,dim=1), torch.argmax(preds,dim=1))\n",
    "    optimizer.zero_grad()\n",
    "    loss.backward()\n",
    "    optimizer.step()\n",
    "    #scheduler.step()\n",
    "    return loss, preds, accuracy\n",
    "\n",
    "def val_step(x, t, model, optimizer):\n",
    "    preds = model(x)\n",
    "    loss = compute_loss(t, preds)\n",
    "    accuracy = compute_accuracy(torch.argmax(t,dim=1), torch.argmax(preds,dim=1))\n",
    "    return loss, preds, accuracy\n",
    "\n",
    "\n",
    "#define EarlyStopping\n",
    "class EarlyStopping:\n",
    "    def __init__(self, patience=0, verbose=0, score_type=\"loss\"):\n",
    "        self._step = 0\n",
    "        self.score_type = score_type\n",
    "        if score_type == \"loss\":\n",
    "            self._score = float('inf')\n",
    "        elif score_type == \"acc\":\n",
    "            self._score = -float('inf')\n",
    "        self.patience = patience\n",
    "        self.verbose = verbose\n",
    "\n",
    "    def __call__(self, loss, acc, epoch, model_dict, optim_dict, PATH):\n",
    "        score = loss if self.score_type==\"loss\" else acc\n",
    "        if self.score_check(score):\n",
    "            self._step += 1\n",
    "            if self._step > self.patience:\n",
    "                if self.verbose:\n",
    "                    print('early stopping')\n",
    "                return True\n",
    "        else:\n",
    "            self._step = 0\n",
    "            self._score = score\n",
    "            torch.save({\n",
    "            'epoch': epoch,\n",
    "            'model_state_dict': model_dict,\n",
    "            'optimizer_state_dict': optim_dict,\n",
    "            'loss': loss,\n",
    "            \"accuracy\": acc,\n",
    "            }, PATH)\n",
    "            print('Save check_point for \"{}\"'.format(PATH))\n",
    "    \n",
    "    def score_check(self,score):\n",
    "        if self.score_type == \"loss\":\n",
    "            return self._score < score\n",
    "        elif self.score_type == \"acc\":\n",
    "            return self._score > score\n",
    "\n",
    "# define HistoryRecorder\n",
    "class HistoryRecorder:\n",
    "    def __init__(self, hist_type=2):\n",
    "        self.hist_type = hist_type\n",
    "        \n",
    "        if self.hist_type ==1:\n",
    "            self.hist = {'loss': [], 'val_loss': []}\n",
    "        else:\n",
    "            self.hist = {'loss': [], 'val_loss': [], \"acc\": [], \"val_acc\": []}\n",
    "        \n",
    "    def record(self, loss, val_loss, \n",
    "              acc=None, val_acc=None):\n",
    "        \n",
    "        self.hist[\"loss\"].append(loss)\n",
    "        self.hist[\"val_loss\"].append(val_loss)\n",
    "    \n",
    "        if self.hist_type == 2:\n",
    "            self.hist[\"acc\"].append(acc)\n",
    "            self.hist[\"val_acc\"].append(val_acc)\n",
    "        \n",
    "    def hist(self):\n",
    "        return self.hist\n",
    "\n",
    "    \n",
    "# visualizing function\n",
    "def show_hist(loss=None, val_loss=None, acc=None, val_acc=None,\n",
    "              hist=None, loss_type=None, acc_type=None):   \n",
    "    if hist:\n",
    "        loss = hist['loss']\n",
    "        val_loss = hist['val_loss']\n",
    "        acc = hist[\"acc\"]\n",
    "        val_acc = hist[\"val_acc\"]\n",
    "    \n",
    "    plt.figure(figsize=(10,12))\n",
    "    #visualize loss\n",
    "    plt.subplot(2,1,1)\n",
    "    plt.rc('font', family='serif')\n",
    "    plt.plot(range(len(loss)), loss,\n",
    "             color='blue', linewidth=1,\n",
    "             label='train_loss')\n",
    "    plt.plot(range(len(val_loss)), val_loss,\n",
    "             color='red', linewidth=1,\n",
    "             label='val_loss')\n",
    "    plt.xlabel('epochs')\n",
    "    plt.ylabel('loss (type = {})'.format(loss_type if loss_type else \"None\"))\n",
    "    plt.legend()\n",
    "    \n",
    "    #visualize accurauy\n",
    "    plt.subplot(2,1,2)\n",
    "    plt.rc('font', family='serif')\n",
    "    plt.plot(range(len(acc)), acc,\n",
    "             color='blue', linewidth=1,\n",
    "             label='train_acc')\n",
    "    plt.plot(range(len(val_acc)), val_acc,\n",
    "             color='red', linewidth=1,\n",
    "             label='val_acc')\n",
    "    plt.xlabel('epochs')\n",
    "    plt.ylabel('accuracy (type = {})'.format(acc_type if acc_type else \"None\"))\n",
    "    plt.legend()\n",
    "    \n",
    "    plt.show()"
   ]
  },
  {
   "cell_type": "code",
   "execution_count": 16,
   "metadata": {
    "_kg_hide-input": true,
    "execution": {
     "iopub.execute_input": "2020-08-26T10:37:59.464463Z",
     "iopub.status.busy": "2020-08-26T10:37:59.463551Z",
     "iopub.status.idle": "2020-08-26T10:37:59.469562Z",
     "shell.execute_reply": "2020-08-26T10:37:59.469092Z"
    },
    "papermill": {
     "duration": 0.039987,
     "end_time": "2020-08-26T10:37:59.469656",
     "exception": false,
     "start_time": "2020-08-26T10:37:59.429669",
     "status": "completed"
    },
    "tags": []
   },
   "outputs": [],
   "source": [
    "def RUN_TRAIN(train_dataloader, val_dataloader, model, optimizer, PATH, epochs=10, score_type=\"acc\"):\n",
    "    #training phase\n",
    "    if __name__ == '__main__':\n",
    "\n",
    "        es = EarlyStopping(patience=patience,verbose=1, score_type=\"loss\")\n",
    "        hist = HistoryRecorder(hist_type=2)\n",
    "\n",
    "        model.to(device)\n",
    "        for epoch in range(epochs):\n",
    "            train_loss = 0.\n",
    "            val_loss = 0.\n",
    "            train_acc = 0.\n",
    "            val_acc = 0.\n",
    "\n",
    "\n",
    "            model.train()#####training phase#####\n",
    "            for (x, t) in tqdm(train_dataloader):\n",
    "                x[0], x[1] = x[0].to(device), x[1].to(device)\n",
    "                t = t.to(device)\n",
    "                loss, preds, accuracy = train_step(x, t, model, optimizer)\n",
    "                train_loss += loss.detach().item()\n",
    "                train_acc += accuracy\n",
    "            train_loss /= len(train_dataloader)\n",
    "            train_acc /= len(train_dataloader)\n",
    "\n",
    "\n",
    "            model.eval()#####evaluation phase#####\n",
    "            for (x, t) in tqdm(val_dataloader):\n",
    "                x[0], x[1] = x[0].to(device), x[1].to(device)\n",
    "                t = t.to(device)\n",
    "                loss, preds, accuracy = val_step(x, t, model, optimizer)\n",
    "                val_loss += loss.detach().item()\n",
    "                val_acc += accuracy\n",
    "            val_loss /= len(val_dataloader)\n",
    "            val_acc /= len(val_dataloader)\n",
    "\n",
    "\n",
    "            hist.record(train_loss,val_loss,train_acc,val_acc)\n",
    "            print('epoch: {}, train_loss: {:.3}, val_loss:{:.3}, train_acc:{:.3}, val_acc:{:.3}'.format(\n",
    "                    epoch+1, train_loss, val_loss, train_acc, val_acc))\n",
    "\n",
    "\n",
    "            ##### EarlyStopping and save best scored check_point #####\n",
    "            if es(loss=val_loss, acc=val_acc, epoch=epoch, \n",
    "                  model_dict=model.state_dict(), \n",
    "                  optim_dict=optimizer.state_dict(),\n",
    "                  PATH=PATH\n",
    "                 ):\n",
    "                break\n",
    "\n",
    "\n",
    "        ## visualize train_loss and val_loss ##\n",
    "        show_hist(hist=hist.hist, loss_type=\"custom_CELoss\", acc_type=\"F1_micro\")"
   ]
  },
  {
   "cell_type": "code",
   "execution_count": 17,
   "metadata": {
    "_kg_hide-input": true,
    "execution": {
     "iopub.execute_input": "2020-08-26T10:37:59.510247Z",
     "iopub.status.busy": "2020-08-26T10:37:59.509461Z",
     "iopub.status.idle": "2020-08-26T10:37:59.513518Z",
     "shell.execute_reply": "2020-08-26T10:37:59.512999Z"
    },
    "papermill": {
     "duration": 0.026967,
     "end_time": "2020-08-26T10:37:59.513604",
     "exception": false,
     "start_time": "2020-08-26T10:37:59.486637",
     "status": "completed"
    },
    "tags": []
   },
   "outputs": [],
   "source": [
    "def add_weight_columns(df, base_df=None):\n",
    "    if not base_df:\n",
    "        base_df = df\n",
    "    weight_list = get_reciprocal_freq(base_df).tolist()\n",
    "    df[\"weight\"] = [0]*len(df)\n",
    "    for n in range(len(df)):\n",
    "        df[\"weight\"].iloc[n] = weight_list[int(df.jobflag.iloc[n])-1]\n",
    "    return df"
   ]
  },
  {
   "cell_type": "code",
   "execution_count": 18,
   "metadata": {
    "_kg_hide-input": true,
    "execution": {
     "iopub.execute_input": "2020-08-26T10:37:59.571692Z",
     "iopub.status.busy": "2020-08-26T10:37:59.561194Z",
     "iopub.status.idle": "2020-08-26T10:37:59.587014Z",
     "shell.execute_reply": "2020-08-26T10:37:59.587443Z"
    },
    "papermill": {
     "duration": 0.057065,
     "end_time": "2020-08-26T10:37:59.587552",
     "exception": false,
     "start_time": "2020-08-26T10:37:59.530487",
     "status": "completed"
    },
    "tags": []
   },
   "outputs": [],
   "source": [
    "def RUN_Stratified_Nfold(csv_file, model_type, n_folds=5, class_table=None,\n",
    "                         max_len=128, batch_size=16, num_workers=4, num_aug=4,\n",
    "                         epochs=10, version=\"unknown\", split_rate=0.8):\n",
    "    \n",
    "    #define model\n",
    "    if class_table:\n",
    "        num_classes = 2\n",
    "        score_type = \"loss\"\n",
    "        version = str(version) + \"_class{}\".format(class_table)\n",
    "    else:\n",
    "        num_classes = 4\n",
    "        score_type = \"loss\"\n",
    "    \n",
    "    if n_folds != 0:\n",
    "        \n",
    "        #define StratifiedKFold\n",
    "        skf = StratifiedKFold(n_splits=n_folds, shuffle=True, random_state=2020)\n",
    "        folds = 0\n",
    "        \n",
    "        for train_index, val_index in skf.split(csv_file, csv_file.jobflag):\n",
    "            \n",
    "            #make DataSubset\n",
    "            train_subset = csv_file.iloc[train_index]\n",
    "            val_subset = csv_file.iloc[val_index]\n",
    "            \n",
    "            # DataAugmentation\n",
    "            if num_aug:\n",
    "                print('now augmentation...')\n",
    "                train_subset = expand_dataset(train_subset, num_aug, balanced=False)\n",
    "                #val_subset = expand_dataset(val_subset, aug_type)\n",
    "            \n",
    "            train_subset = add_weight_columns(train_subset)\n",
    "            val_subset = add_weight_columns(val_subset)\n",
    "            train_sampler = BatchSampler(WeightedRandomSampler(train_subset.weight.tolist(), len(train_subset)//4, replacement=True), batch_size, drop_last=True)\n",
    "            val_sampler = BatchSampler(WeightedRandomSampler(val_subset.weight.tolist(), len(val_subset), replacement=True), batch_size, drop_last=False)\n",
    "            #define transformer (tokenizer and back_translator)\n",
    "            transform, model = model_config(model_type=model_type, max_len=max_len, num_classes=num_classes)\n",
    "            #define optimizer\n",
    "            no_decay = ['bias', 'LayerNorm.weight']\n",
    "            optimizer_grouped_parameters = [\n",
    "                {'params': [p for n, p in model.named_parameters() if not any(nd in n for nd in no_decay)], 'weight_decay': 0.01},\n",
    "                {'params': [p for n, p in model.named_parameters() if any(nd in n for nd in no_decay)], 'weight_decay': 0.0}\n",
    "            ]\n",
    "            optimizer = AdamW(optimizer_grouped_parameters, lr=1e-5)\n",
    "            \n",
    "            # define torch Dataset\n",
    "            train_subset = Text_Dataset(csv_file=train_subset, \n",
    "                                        class_table=class_table, \n",
    "                                        transform=transform)\n",
    "            val_subset = Text_Dataset(csv_file=val_subset, \n",
    "                                        class_table=class_table, \n",
    "                                        transform=transform)\n",
    "            #make subset dataloader\n",
    "            train_dataloader = DataLoader(train_subset, batch_sampler=train_sampler,\n",
    "                                            num_workers=num_workers, pin_memory=True)\n",
    "\n",
    "            val_dataloader = DataLoader(val_subset, batch_sampler=val_sampler,\n",
    "                                            num_workers=num_workers, pin_memory=True)\n",
    "\n",
    "            #PATH coonfig\n",
    "            PATH = model_type + \"_v{}\".format(version) + \"_\" + str(folds) + \".pt\"\n",
    "\n",
    "            RUN_TRAIN(train_dataloader=train_dataloader, val_dataloader=val_dataloader, \n",
    "                     epochs=epochs, model=model, optimizer=optimizer, PATH=PATH)\n",
    "\n",
    "            folds = folds + 1\n",
    "            \n",
    "            del model\n",
    "            gc.collect()\n",
    "        \n",
    "        \n",
    "    ### NOT kFold training ###\n",
    "    elif n_folds == 0:\n",
    "        \n",
    "        # random split\n",
    "        n_train = int(len(csv_file)*split_rate)\n",
    "        n_val = len(csv_file) - n_train\n",
    "        train_dataset, val_dataset = train_test_split(csv_file, train_size=n_train, test_size=n_val)\n",
    "        \n",
    "        # DataAugmentation\n",
    "        if num_aug:\n",
    "            print('now augmentation...')\n",
    "            train_dataset = expand_dataset(train_dataset, num_aug, balanced=False)\n",
    "            #val_dataset = expand_dataset(val_dataset, aug_type)\n",
    "        \n",
    "        train_dataset = add_weight_columns(train_dataset)\n",
    "        val_dataset = add_weight_columns(val_dataset)\n",
    "        train_sampler = BatchSampler(WeightedRandomSampler(train_dataset.weight.tolist(), len(train_dataset)//4, replacement=True), batch_size, drop_last=True)\n",
    "        val_sampler = BatchSampler(WeightedRandomSampler(val_dataset.weight.tolist(), len(val_dataset), replacement=True), batch_size, drop_last=False)\n",
    "        #define transformer (tokenizer and back_translator)\n",
    "        transform, model = model_config(model_type=model_type, max_len=max_len, num_classes=num_classes)\n",
    "        #define optimizer\n",
    "        no_decay = ['bias', 'LayerNorm.weight']\n",
    "        optimizer_grouped_parameters = [\n",
    "                {'params': [p for n, p in model.named_parameters() if not any(nd in n for nd in no_decay)], 'weight_decay': 0.01},\n",
    "                {'params': [p for n, p in model.named_parameters() if any(nd in n for nd in no_decay)], 'weight_decay': 0.0}\n",
    "        ]\n",
    "        optimizer = AdamW(optimizer_grouped_parameters, lr=1e-5)\n",
    "        \n",
    "        # define torch Dataset\n",
    "        train_dataset = Text_Dataset(csv_file=train_dataset, \n",
    "                                        class_table=class_table, \n",
    "                                        transform=transform)\n",
    "        val_dataset = Text_Dataset(csv_file=val_dataset, \n",
    "                                        class_table=class_table, \n",
    "                                        transform=transform)\n",
    "        # Dataloader\n",
    "        train_dataloader = train_dataloader = DataLoader(train_dataset,batch_sampler=train_sampler,\n",
    "                                                         num_workers=num_workers, pin_memory=True)\n",
    "        \n",
    "        val_dataloader = val_dataloader = DataLoader(val_dataset, batch_sampler=val_sampler,\n",
    "                                                     num_workers=num_workers, pin_memory=True)\n",
    "        \n",
    "        PATH = model_type + \"_v{}\".format(version) + \".pt\"\n",
    "        \n",
    "        RUN_TRAIN(train_dataloader=train_dataloader, val_dataloader=val_dataloader, \n",
    "                     epochs=epochs, model=model, optimizer=optimizer, PATH=PATH, score_type=score_type)"
   ]
  },
  {
   "cell_type": "code",
   "execution_count": 19,
   "metadata": {
    "execution": {
     "iopub.execute_input": "2020-08-26T10:37:59.641006Z",
     "iopub.status.busy": "2020-08-26T10:37:59.640193Z",
     "iopub.status.idle": "2020-08-26T10:37:59.642978Z",
     "shell.execute_reply": "2020-08-26T10:37:59.643451Z"
    },
    "papermill": {
     "duration": 0.038802,
     "end_time": "2020-08-26T10:37:59.643556",
     "exception": false,
     "start_time": "2020-08-26T10:37:59.604754",
     "status": "completed"
    },
    "tags": []
   },
   "outputs": [],
   "source": [
    "def RUN_for_augmented_dataset(csv_files, model_type, n_folds=5, class_table=None,\n",
    "                         max_len=128, batch_size=16, num_workers=4, num_aug=4,\n",
    "                         epochs=10, version=\"unknown\", split_rate=0.8):\n",
    "    #define model\n",
    "    if class_table:\n",
    "        num_classes = 2\n",
    "        score_type = \"loss\"\n",
    "        version = str(version) + \"_class{}\".format(class_table)\n",
    "    else:\n",
    "        num_classes = 4\n",
    "        score_type = \"loss\"\n",
    "    \n",
    "    \n",
    "    for fold, datasets in enumerate(csv_files):\n",
    "        train_dataset, val_dataset = datasets\n",
    "        \n",
    "        #define transformer (tokenizer and back_translator)\n",
    "        transform, model = model_config(model_type=model_type, max_len=max_len, num_classes=num_classes)\n",
    "        #define optimizer\n",
    "        no_decay = ['bias', 'LayerNorm.weight']\n",
    "        optimizer_grouped_parameters = [\n",
    "            {'params': [p for n, p in model.named_parameters() if not any(nd in n for nd in no_decay)], 'weight_decay': 0.01},\n",
    "            {'params': [p for n, p in model.named_parameters() if any(nd in n for nd in no_decay)], 'weight_decay': 0.0}\n",
    "        ]\n",
    "        optimizer = AdamW(optimizer_grouped_parameters, lr=1e-5)\n",
    "            \n",
    "        # DataAugmentation\n",
    "        if num_aug:\n",
    "            print('now EDA augmentation...')\n",
    "            train_dataset = expand_dataset(train_dataset, num_aug)\n",
    "            #val_dataset = expand_dataset(val_dataset, aug_type)\n",
    "\n",
    "        train_dataset = add_weight_columns(train_dataset)\n",
    "        val_dataset = add_weight_columns(val_dataset)\n",
    "        train_sampler = BatchSampler(WeightedRandomSampler(train_dataset.weight.tolist(), len(train_dataset)//8, replacement=True), batch_size, drop_last=True)\n",
    "        val_sampler = BatchSampler(WeightedRandomSampler(val_dataset.weight.tolist(), len(val_dataset), replacement=True), batch_size, drop_last=False)\n",
    "        # define torch Dataset\n",
    "        train_dataset = Text_Dataset(csv_file=train_dataset, \n",
    "                                        class_table=class_table, \n",
    "                                        transform=transform)\n",
    "        val_dataset = Text_Dataset(csv_file=val_dataset, \n",
    "                                        class_table=class_table, \n",
    "                                        transform=transform)\n",
    "        # Dataloader\n",
    "        train_dataloader = DataLoader(train_dataset, batch_sampler=train_sampler,\n",
    "                                        num_workers=num_workers, pin_memory=True,)\n",
    "        \n",
    "        val_dataloader = DataLoader(val_dataset, batch_sampler=val_sampler,\n",
    "                                        num_workers=num_workers, pin_memory=True, )\n",
    "        \n",
    "        PATH = model_type + \"_v{}\".format(version) + \"_\" + str(fold) + \".pt\"\n",
    "        \n",
    "        RUN_TRAIN(train_dataloader=train_dataloader, val_dataloader=val_dataloader, \n",
    "                     epochs=epochs, model=model, optimizer=optimizer, PATH=PATH, score_type=score_type)"
   ]
  },
  {
   "cell_type": "code",
   "execution_count": 20,
   "metadata": {
    "execution": {
     "iopub.execute_input": "2020-08-26T10:38:00.035328Z",
     "iopub.status.busy": "2020-08-26T10:38:00.034461Z",
     "iopub.status.idle": "2020-08-26T10:38:00.038417Z",
     "shell.execute_reply": "2020-08-26T10:38:00.037279Z"
    },
    "papermill": {
     "duration": 0.37685,
     "end_time": "2020-08-26T10:38:00.038549",
     "exception": false,
     "start_time": "2020-08-26T10:37:59.661699",
     "status": "completed"
    },
    "tags": []
   },
   "outputs": [],
   "source": [
    "device = torch.device('cuda' if torch.cuda.is_available() else 'cpu')"
   ]
  },
  {
   "cell_type": "code",
   "execution_count": 21,
   "metadata": {
    "execution": {
     "iopub.execute_input": "2020-08-26T10:38:00.078708Z",
     "iopub.status.busy": "2020-08-26T10:38:00.077788Z",
     "iopub.status.idle": "2020-08-26T10:38:00.080419Z",
     "shell.execute_reply": "2020-08-26T10:38:00.080959Z"
    },
    "papermill": {
     "duration": 0.024234,
     "end_time": "2020-08-26T10:38:00.081076",
     "exception": false,
     "start_time": "2020-08-26T10:38:00.056842",
     "status": "completed"
    },
    "tags": []
   },
   "outputs": [],
   "source": [
    "# Early_Stopping configuration\n",
    "patience = 1"
   ]
  },
  {
   "cell_type": "code",
   "execution_count": 22,
   "metadata": {
    "_kg_hide-input": true,
    "execution": {
     "iopub.execute_input": "2020-08-26T10:38:00.122159Z",
     "iopub.status.busy": "2020-08-26T10:38:00.121349Z",
     "iopub.status.idle": "2020-08-26T10:38:00.124485Z",
     "shell.execute_reply": "2020-08-26T10:38:00.123994Z"
    },
    "papermill": {
     "duration": 0.026566,
     "end_time": "2020-08-26T10:38:00.124595",
     "exception": false,
     "start_time": "2020-08-26T10:38:00.098029",
     "status": "completed"
    },
    "tags": []
   },
   "outputs": [],
   "source": [
    "def make_df_by_paths(paths):\n",
    "    dfs = pd.DataFrame([])\n",
    "    for path in paths:\n",
    "        df = pd.read_csv(path)\n",
    "        dfs = pd.concat([dfs.dropna(),df], axis=0, join='outer')\n",
    "    train_bt = dfs.dropna()\n",
    "    return train_bt"
   ]
  },
  {
   "cell_type": "code",
   "execution_count": 23,
   "metadata": {
    "_kg_hide-input": true,
    "execution": {
     "iopub.execute_input": "2020-08-26T10:38:00.163666Z",
     "iopub.status.busy": "2020-08-26T10:38:00.162878Z",
     "iopub.status.idle": "2020-08-26T10:38:00.165247Z",
     "shell.execute_reply": "2020-08-26T10:38:00.165897Z"
    },
    "papermill": {
     "duration": 0.024622,
     "end_time": "2020-08-26T10:38:00.166021",
     "exception": false,
     "start_time": "2020-08-26T10:38:00.141399",
     "status": "completed"
    },
    "tags": []
   },
   "outputs": [],
   "source": [
    "languages = ['bg', 'de', 'ar', 'hi', 'sw', 'vi', 'es', 'el']\n",
    "#paths = [f\"../input/bt-augmented-x8/stcup2020-train-google-{LANG}-balanced.csv\" for LANG in languages]\n",
    "\n",
    "#val = pd.read_csv('../input/bt-augmented-x8/stcup2020-val.csv')\n",
    "#val.dropna()\n",
    "\n",
    "#train_bt = make_df_by_paths(paths)\n",
    "\n",
    "#plt.figure()\n",
    "#plt.title(\"augmented data\\n1: Data Scientist,2: ML Engineer,3: Software Engineer,4: Consultant\")\n",
    "#train_bt.jobflag.value_counts().plot(kind=\"bar\")"
   ]
  },
  {
   "cell_type": "markdown",
   "metadata": {
    "papermill": {
     "duration": 0.017198,
     "end_time": "2020-08-26T10:38:00.202754",
     "exception": false,
     "start_time": "2020-08-26T10:38:00.185556",
     "status": "completed"
    },
    "tags": []
   },
   "source": [
    "path_1 = [f'../input/paseudo98-1/stcup2020-train-pseudo-google-{LANG}-fold1.csv' for LANG in languages]\n",
    "path_2 = [f'../input/paseudo98-1/stcup2020-train-pseudo-google-{LANG}-fold2.csv' for LANG in languages]\n",
    "path_3 = [f'../input/paseudo98-1/stcup2020-train-pseudo-google-{LANG}-fold3.csv' for LANG in languages]\n",
    "\n",
    "fold_1 = make_df_by_paths(path_1)\n",
    "val_1 = pd.read_csv('../input/paseudo98-1/stcup2020-val-pseudo-google-fold1.csv')\n",
    "fold_2 = make_df_by_paths(path_2)\n",
    "val_2 = pd.read_csv('../input/paseudo98-1/stcup2020-val-pseudo-google-fold2.csv')\n",
    "fold_3 = make_df_by_paths(path_3)\n",
    "val_3 = pd.read_csv('../input/paseudo98-1/stcup2020-val-pseudo-google-fold3.csv')"
   ]
  },
  {
   "cell_type": "code",
   "execution_count": 24,
   "metadata": {
    "execution": {
     "iopub.execute_input": "2020-08-26T10:38:00.251131Z",
     "iopub.status.busy": "2020-08-26T10:38:00.250309Z",
     "iopub.status.idle": "2020-08-26T10:38:00.700200Z",
     "shell.execute_reply": "2020-08-26T10:38:00.699331Z"
    },
    "papermill": {
     "duration": 0.479804,
     "end_time": "2020-08-26T10:38:00.700319",
     "exception": false,
     "start_time": "2020-08-26T10:38:00.220515",
     "status": "completed"
    },
    "tags": []
   },
   "outputs": [],
   "source": [
    "path_1 = [f'../input/pseudo-987/stcup2020-train-pseudo-google-{LANG}-fold1.csv' for LANG in languages]\n",
    "path_2 = [f'../input/pseudo-987/stcup2020-train-pseudo-google-{LANG}-fold2.csv' for LANG in languages]\n",
    "path_3 = [f'../input/pseudo-987/stcup2020-train-pseudo-google-{LANG}-fold3.csv' for LANG in languages]\n",
    "\n",
    "fold_1 = make_df_by_paths(path_1)\n",
    "val_1 = pd.read_csv('../input/pseudo-987/stcup2020-val-pseudo-google-fold1.csv')\n",
    "fold_2 = make_df_by_paths(path_2)\n",
    "val_2 = pd.read_csv('../input/pseudo-987/stcup2020-val-pseudo-google-fold2.csv')\n",
    "fold_3 = make_df_by_paths(path_3)\n",
    "val_3 = pd.read_csv('../input/pseudo-987/stcup2020-val-pseudo-google-fold3.csv')"
   ]
  },
  {
   "cell_type": "code",
   "execution_count": 25,
   "metadata": {
    "execution": {
     "iopub.execute_input": "2020-08-26T10:38:00.743042Z",
     "iopub.status.busy": "2020-08-26T10:38:00.742314Z",
     "iopub.status.idle": "2020-08-26T10:38:00.746621Z",
     "shell.execute_reply": "2020-08-26T10:38:00.746111Z"
    },
    "papermill": {
     "duration": 0.028283,
     "end_time": "2020-08-26T10:38:00.746736",
     "exception": false,
     "start_time": "2020-08-26T10:38:00.718453",
     "status": "completed"
    },
    "tags": []
   },
   "outputs": [],
   "source": [
    "##### training configuration #####\n",
    "\n",
    "# number of folds for stratifiedKfold\n",
    "# if you want to not use skf, you can chose \"nfolds=0\"\n",
    "n_folds = 3\n",
    "csv_files = [(fold_1, val_1), (fold_2, val_2), (fold_3, val_3)]\n",
    "\n",
    "# EDA augmentation size => 4 or None\n",
    "num_aug = None\n",
    "\n",
    "#training model => [\"BERT\", \"ALBERT\", \"XLNET\", \"ROBERTA\"]\n",
    "model_type = \"ROBERTA\"\n",
    "class_table = None\n",
    "version = 40 # version will used for PATH{=\"model_type\" + \"_v\" + str(version) + \"x-folds\"(n_folds > 1)}\n",
    "                # example: \"ALBERT_v1_0\", \"XLNET_v4_4\"\n",
    "max_len = 128\n",
    "\n",
    "###\n",
    "batch_size = 32\n",
    "num_workers = 4\n",
    "epochs = 15"
   ]
  },
  {
   "cell_type": "code",
   "execution_count": 26,
   "metadata": {
    "execution": {
     "iopub.execute_input": "2020-08-26T10:38:00.786879Z",
     "iopub.status.busy": "2020-08-26T10:38:00.785969Z",
     "iopub.status.idle": "2020-08-26T10:50:59.340947Z",
     "shell.execute_reply": "2020-08-26T10:50:59.341667Z"
    },
    "papermill": {
     "duration": 778.577518,
     "end_time": "2020-08-26T10:50:59.341846",
     "exception": false,
     "start_time": "2020-08-26T10:38:00.764328",
     "status": "completed"
    },
    "tags": []
   },
   "outputs": [
    {
     "data": {
      "application/vnd.jupyter.widget-view+json": {
       "model_id": "1a2aa8efe4d84ee8a4890591120f2d04",
       "version_major": 2,
       "version_minor": 0
      },
      "text/plain": [
       "HBox(children=(FloatProgress(value=0.0, description='Downloading', max=898823.0, style=ProgressStyle(descripti…"
      ]
     },
     "metadata": {},
     "output_type": "display_data"
    },
    {
     "name": "stdout",
     "output_type": "stream",
     "text": [
      "\n"
     ]
    },
    {
     "data": {
      "application/vnd.jupyter.widget-view+json": {
       "model_id": "c751874af623494b9cf2a912550f0ad1",
       "version_major": 2,
       "version_minor": 0
      },
      "text/plain": [
       "HBox(children=(FloatProgress(value=0.0, description='Downloading', max=456318.0, style=ProgressStyle(descripti…"
      ]
     },
     "metadata": {},
     "output_type": "display_data"
    },
    {
     "name": "stdout",
     "output_type": "stream",
     "text": [
      "\n"
     ]
    },
    {
     "data": {
      "application/vnd.jupyter.widget-view+json": {
       "model_id": "5fa8c99bc15745b98c1f6215318e773b",
       "version_major": 2,
       "version_minor": 0
      },
      "text/plain": [
       "HBox(children=(FloatProgress(value=0.0, description='Downloading', max=481.0, style=ProgressStyle(description_…"
      ]
     },
     "metadata": {},
     "output_type": "display_data"
    },
    {
     "name": "stdout",
     "output_type": "stream",
     "text": [
      "\n"
     ]
    },
    {
     "data": {
      "application/vnd.jupyter.widget-view+json": {
       "model_id": "18d8e5163c5641d8ab33a3c9c4497c80",
       "version_major": 2,
       "version_minor": 0
      },
      "text/plain": [
       "HBox(children=(FloatProgress(value=0.0, description='Downloading', max=501200538.0, style=ProgressStyle(descri…"
      ]
     },
     "metadata": {},
     "output_type": "display_data"
    },
    {
     "name": "stdout",
     "output_type": "stream",
     "text": [
      "\n"
     ]
    },
    {
     "name": "stderr",
     "output_type": "stream",
     "text": [
      "100%|██████████| 69/69 [00:27<00:00,  2.49it/s]\n",
      "100%|██████████| 35/35 [00:04<00:00,  7.76it/s]\n"
     ]
    },
    {
     "name": "stdout",
     "output_type": "stream",
     "text": [
      "epoch: 1, train_loss: 1.38, val_loss:1.33, train_acc:0.169, val_acc:0.296\n"
     ]
    },
    {
     "name": "stderr",
     "output_type": "stream",
     "text": [
      "  0%|          | 0/69 [00:00<?, ?it/s]"
     ]
    },
    {
     "name": "stdout",
     "output_type": "stream",
     "text": [
      "Save check_point for \"ROBERTA_v40_0.pt\"\n"
     ]
    },
    {
     "name": "stderr",
     "output_type": "stream",
     "text": [
      "100%|██████████| 69/69 [00:27<00:00,  2.54it/s]\n",
      "100%|██████████| 35/35 [00:04<00:00,  7.75it/s]\n"
     ]
    },
    {
     "name": "stdout",
     "output_type": "stream",
     "text": [
      "epoch: 2, train_loss: 1.19, val_loss:1.1, train_acc:0.529, val_acc:0.624\n"
     ]
    },
    {
     "name": "stderr",
     "output_type": "stream",
     "text": [
      "  0%|          | 0/69 [00:00<?, ?it/s]"
     ]
    },
    {
     "name": "stdout",
     "output_type": "stream",
     "text": [
      "Save check_point for \"ROBERTA_v40_0.pt\"\n"
     ]
    },
    {
     "name": "stderr",
     "output_type": "stream",
     "text": [
      "100%|██████████| 69/69 [00:26<00:00,  2.59it/s]\n",
      "100%|██████████| 35/35 [00:04<00:00,  7.73it/s]\n"
     ]
    },
    {
     "name": "stdout",
     "output_type": "stream",
     "text": [
      "epoch: 3, train_loss: 1.09, val_loss:1.09, train_acc:0.639, val_acc:0.62\n"
     ]
    },
    {
     "name": "stderr",
     "output_type": "stream",
     "text": [
      "  0%|          | 0/69 [00:00<?, ?it/s]"
     ]
    },
    {
     "name": "stdout",
     "output_type": "stream",
     "text": [
      "Save check_point for \"ROBERTA_v40_0.pt\"\n"
     ]
    },
    {
     "name": "stderr",
     "output_type": "stream",
     "text": [
      "100%|██████████| 69/69 [00:26<00:00,  2.61it/s]\n",
      "100%|██████████| 35/35 [00:04<00:00,  7.73it/s]\n"
     ]
    },
    {
     "name": "stdout",
     "output_type": "stream",
     "text": [
      "epoch: 4, train_loss: 1.06, val_loss:1.09, train_acc:0.67, val_acc:0.619\n"
     ]
    },
    {
     "name": "stderr",
     "output_type": "stream",
     "text": [
      "  0%|          | 0/69 [00:00<?, ?it/s]"
     ]
    },
    {
     "name": "stdout",
     "output_type": "stream",
     "text": [
      "Save check_point for \"ROBERTA_v40_0.pt\"\n"
     ]
    },
    {
     "name": "stderr",
     "output_type": "stream",
     "text": [
      "100%|██████████| 69/69 [00:26<00:00,  2.58it/s]\n",
      "100%|██████████| 35/35 [00:04<00:00,  7.74it/s]\n"
     ]
    },
    {
     "name": "stdout",
     "output_type": "stream",
     "text": [
      "epoch: 5, train_loss: 1.06, val_loss:1.09, train_acc:0.664, val_acc:0.618\n"
     ]
    },
    {
     "name": "stderr",
     "output_type": "stream",
     "text": [
      "  0%|          | 0/69 [00:00<?, ?it/s]"
     ]
    },
    {
     "name": "stdout",
     "output_type": "stream",
     "text": [
      "Save check_point for \"ROBERTA_v40_0.pt\"\n"
     ]
    },
    {
     "name": "stderr",
     "output_type": "stream",
     "text": [
      "100%|██████████| 69/69 [00:26<00:00,  2.60it/s]\n",
      "100%|██████████| 35/35 [00:04<00:00,  7.51it/s]\n",
      "  0%|          | 0/69 [00:00<?, ?it/s]"
     ]
    },
    {
     "name": "stdout",
     "output_type": "stream",
     "text": [
      "epoch: 6, train_loss: 1.01, val_loss:1.1, train_acc:0.729, val_acc:0.601\n"
     ]
    },
    {
     "name": "stderr",
     "output_type": "stream",
     "text": [
      "100%|██████████| 69/69 [00:26<00:00,  2.62it/s]\n",
      "100%|██████████| 35/35 [00:04<00:00,  7.70it/s]\n"
     ]
    },
    {
     "name": "stdout",
     "output_type": "stream",
     "text": [
      "epoch: 7, train_loss: 1.02, val_loss:1.07, train_acc:0.706, val_acc:0.66\n"
     ]
    },
    {
     "name": "stderr",
     "output_type": "stream",
     "text": [
      "  0%|          | 0/69 [00:00<?, ?it/s]"
     ]
    },
    {
     "name": "stdout",
     "output_type": "stream",
     "text": [
      "Save check_point for \"ROBERTA_v40_0.pt\"\n"
     ]
    },
    {
     "name": "stderr",
     "output_type": "stream",
     "text": [
      "100%|██████████| 69/69 [00:26<00:00,  2.61it/s]\n",
      "100%|██████████| 35/35 [00:04<00:00,  7.64it/s]\n",
      "  0%|          | 0/69 [00:00<?, ?it/s]"
     ]
    },
    {
     "name": "stdout",
     "output_type": "stream",
     "text": [
      "epoch: 8, train_loss: 0.999, val_loss:1.1, train_acc:0.726, val_acc:0.629\n"
     ]
    },
    {
     "name": "stderr",
     "output_type": "stream",
     "text": [
      "100%|██████████| 69/69 [00:26<00:00,  2.60it/s]\n",
      "100%|██████████| 35/35 [00:04<00:00,  7.73it/s]\n"
     ]
    },
    {
     "name": "stdout",
     "output_type": "stream",
     "text": [
      "epoch: 9, train_loss: 0.983, val_loss:1.06, train_acc:0.749, val_acc:0.651\n"
     ]
    },
    {
     "name": "stderr",
     "output_type": "stream",
     "text": [
      "  0%|          | 0/69 [00:00<?, ?it/s]"
     ]
    },
    {
     "name": "stdout",
     "output_type": "stream",
     "text": [
      "Save check_point for \"ROBERTA_v40_0.pt\"\n"
     ]
    },
    {
     "name": "stderr",
     "output_type": "stream",
     "text": [
      "100%|██████████| 69/69 [00:26<00:00,  2.58it/s]\n",
      "100%|██████████| 35/35 [00:04<00:00,  7.63it/s]\n",
      "  0%|          | 0/69 [00:00<?, ?it/s]"
     ]
    },
    {
     "name": "stdout",
     "output_type": "stream",
     "text": [
      "epoch: 10, train_loss: 0.985, val_loss:1.11, train_acc:0.749, val_acc:0.6\n"
     ]
    },
    {
     "name": "stderr",
     "output_type": "stream",
     "text": [
      "100%|██████████| 69/69 [00:26<00:00,  2.62it/s]\n",
      "100%|██████████| 35/35 [00:04<00:00,  7.71it/s]\n"
     ]
    },
    {
     "name": "stdout",
     "output_type": "stream",
     "text": [
      "epoch: 11, train_loss: 0.967, val_loss:1.07, train_acc:0.76, val_acc:0.657\n",
      "early stopping\n"
     ]
    },
    {
     "data": {
      "image/png": "[encoded data removed]",
      "text/plain": [
       "<Figure size 720x864 with 2 Axes>"
      ]
     },
     "metadata": {
      "needs_background": "light"
     },
     "output_type": "display_data"
    },
    {
     "name": "stderr",
     "output_type": "stream",
     "text": [
      "100%|██████████| 69/69 [00:26<00:00,  2.59it/s]\n",
      "100%|██████████| 35/35 [00:04<00:00,  7.58it/s]\n"
     ]
    },
    {
     "name": "stdout",
     "output_type": "stream",
     "text": [
      "epoch: 1, train_loss: 1.38, val_loss:1.31, train_acc:0.252, val_acc:0.433\n"
     ]
    },
    {
     "name": "stderr",
     "output_type": "stream",
     "text": [
      "  0%|          | 0/69 [00:00<?, ?it/s]"
     ]
    },
    {
     "name": "stdout",
     "output_type": "stream",
     "text": [
      "Save check_point for \"ROBERTA_v40_1.pt\"\n"
     ]
    },
    {
     "name": "stderr",
     "output_type": "stream",
     "text": [
      "100%|██████████| 69/69 [00:26<00:00,  2.59it/s]\n",
      "100%|██████████| 35/35 [00:04<00:00,  7.62it/s]\n"
     ]
    },
    {
     "name": "stdout",
     "output_type": "stream",
     "text": [
      "epoch: 2, train_loss: 1.18, val_loss:1.14, train_acc:0.546, val_acc:0.599\n"
     ]
    },
    {
     "name": "stderr",
     "output_type": "stream",
     "text": [
      "  0%|          | 0/69 [00:00<?, ?it/s]"
     ]
    },
    {
     "name": "stdout",
     "output_type": "stream",
     "text": [
      "Save check_point for \"ROBERTA_v40_1.pt\"\n"
     ]
    },
    {
     "name": "stderr",
     "output_type": "stream",
     "text": [
      "100%|██████████| 69/69 [00:26<00:00,  2.59it/s]\n",
      "100%|██████████| 35/35 [00:04<00:00,  7.63it/s]\n"
     ]
    },
    {
     "name": "stdout",
     "output_type": "stream",
     "text": [
      "epoch: 3, train_loss: 1.11, val_loss:1.12, train_acc:0.613, val_acc:0.609\n"
     ]
    },
    {
     "name": "stderr",
     "output_type": "stream",
     "text": [
      "  0%|          | 0/69 [00:00<?, ?it/s]"
     ]
    },
    {
     "name": "stdout",
     "output_type": "stream",
     "text": [
      "Save check_point for \"ROBERTA_v40_1.pt\"\n"
     ]
    },
    {
     "name": "stderr",
     "output_type": "stream",
     "text": [
      "100%|██████████| 69/69 [00:26<00:00,  2.60it/s]\n",
      "100%|██████████| 35/35 [00:04<00:00,  7.53it/s]\n"
     ]
    },
    {
     "name": "stdout",
     "output_type": "stream",
     "text": [
      "epoch: 4, train_loss: 1.08, val_loss:1.12, train_acc:0.646, val_acc:0.597\n"
     ]
    },
    {
     "name": "stderr",
     "output_type": "stream",
     "text": [
      "  0%|          | 0/69 [00:00<?, ?it/s]"
     ]
    },
    {
     "name": "stdout",
     "output_type": "stream",
     "text": [
      "Save check_point for \"ROBERTA_v40_1.pt\"\n"
     ]
    },
    {
     "name": "stderr",
     "output_type": "stream",
     "text": [
      "100%|██████████| 69/69 [00:26<00:00,  2.60it/s]\n",
      "100%|██████████| 35/35 [00:04<00:00,  7.63it/s]\n"
     ]
    },
    {
     "name": "stdout",
     "output_type": "stream",
     "text": [
      "epoch: 5, train_loss: 1.05, val_loss:1.09, train_acc:0.675, val_acc:0.629\n"
     ]
    },
    {
     "name": "stderr",
     "output_type": "stream",
     "text": [
      "  0%|          | 0/69 [00:00<?, ?it/s]"
     ]
    },
    {
     "name": "stdout",
     "output_type": "stream",
     "text": [
      "Save check_point for \"ROBERTA_v40_1.pt\"\n"
     ]
    },
    {
     "name": "stderr",
     "output_type": "stream",
     "text": [
      "100%|██████████| 69/69 [00:26<00:00,  2.59it/s]\n",
      "100%|██████████| 35/35 [00:04<00:00,  7.47it/s]\n",
      "  0%|          | 0/69 [00:00<?, ?it/s]"
     ]
    },
    {
     "name": "stdout",
     "output_type": "stream",
     "text": [
      "epoch: 6, train_loss: 1.03, val_loss:1.09, train_acc:0.703, val_acc:0.625\n"
     ]
    },
    {
     "name": "stderr",
     "output_type": "stream",
     "text": [
      "100%|██████████| 69/69 [00:26<00:00,  2.61it/s]\n",
      "100%|██████████| 35/35 [00:04<00:00,  7.54it/s]\n"
     ]
    },
    {
     "name": "stdout",
     "output_type": "stream",
     "text": [
      "epoch: 7, train_loss: 1.02, val_loss:1.1, train_acc:0.709, val_acc:0.614\n",
      "early stopping\n"
     ]
    },
    {
     "data": {
      "image/png": "[encoded data removed]",
      "text/plain": [
       "<Figure size 720x864 with 2 Axes>"
      ]
     },
     "metadata": {
      "needs_background": "light"
     },
     "output_type": "display_data"
    },
    {
     "name": "stderr",
     "output_type": "stream",
     "text": [
      "100%|██████████| 69/69 [00:26<00:00,  2.60it/s]\n",
      "100%|██████████| 35/35 [00:04<00:00,  7.53it/s]\n"
     ]
    },
    {
     "name": "stdout",
     "output_type": "stream",
     "text": [
      "epoch: 1, train_loss: 1.38, val_loss:1.34, train_acc:0.166, val_acc:0.25\n"
     ]
    },
    {
     "name": "stderr",
     "output_type": "stream",
     "text": [
      "  0%|          | 0/69 [00:00<?, ?it/s]"
     ]
    },
    {
     "name": "stdout",
     "output_type": "stream",
     "text": [
      "Save check_point for \"ROBERTA_v40_2.pt\"\n"
     ]
    },
    {
     "name": "stderr",
     "output_type": "stream",
     "text": [
      "100%|██████████| 69/69 [00:26<00:00,  2.56it/s]\n",
      "100%|██████████| 35/35 [00:04<00:00,  7.29it/s]\n"
     ]
    },
    {
     "name": "stdout",
     "output_type": "stream",
     "text": [
      "epoch: 2, train_loss: 1.19, val_loss:1.11, train_acc:0.549, val_acc:0.628\n"
     ]
    },
    {
     "name": "stderr",
     "output_type": "stream",
     "text": [
      "  0%|          | 0/69 [00:00<?, ?it/s]"
     ]
    },
    {
     "name": "stdout",
     "output_type": "stream",
     "text": [
      "Save check_point for \"ROBERTA_v40_2.pt\"\n"
     ]
    },
    {
     "name": "stderr",
     "output_type": "stream",
     "text": [
      "100%|██████████| 69/69 [00:26<00:00,  2.60it/s]\n",
      "100%|██████████| 35/35 [00:04<00:00,  7.57it/s]\n",
      "  0%|          | 0/69 [00:00<?, ?it/s]"
     ]
    },
    {
     "name": "stdout",
     "output_type": "stream",
     "text": [
      "epoch: 3, train_loss: 1.1, val_loss:1.13, train_acc:0.638, val_acc:0.595\n"
     ]
    },
    {
     "name": "stderr",
     "output_type": "stream",
     "text": [
      "100%|██████████| 69/69 [00:26<00:00,  2.59it/s]\n",
      "100%|██████████| 35/35 [00:04<00:00,  7.34it/s]\n"
     ]
    },
    {
     "name": "stdout",
     "output_type": "stream",
     "text": [
      "epoch: 4, train_loss: 1.06, val_loss:1.12, train_acc:0.668, val_acc:0.6\n",
      "early stopping\n"
     ]
    },
    {
     "data": {
      "image/png": "[encoded data removed]",
      "text/plain": [
       "<Figure size 720x864 with 2 Axes>"
      ]
     },
     "metadata": {
      "needs_background": "light"
     },
     "output_type": "display_data"
    }
   ],
   "source": [
    "\n",
    "RUN_for_augmented_dataset(n_folds=n_folds, csv_files=csv_files, model_type=model_type,\n",
    "                         max_len=max_len, class_table=class_table,\n",
    "                     batch_size=batch_size, num_workers=num_workers,\n",
    "                         epochs=epochs, version=version, num_aug=num_aug)\n"
   ]
  },
  {
   "cell_type": "markdown",
   "metadata": {
    "_kg_hide-input": false,
    "papermill": {
     "duration": 0.148418,
     "end_time": "2020-08-26T10:50:59.671529",
     "exception": false,
     "start_time": "2020-08-26T10:50:59.523111",
     "status": "completed"
    },
    "tags": []
   },
   "source": [
    "\n",
    "RUN_Stratified_Nfold(n_folds=n_folds, csv_file=csv_files, model_type=model_type,\n",
    "                         max_len=max_len, class_table=class_table,\n",
    "                     batch_size=batch_size, num_workers=num_workers,\n",
    "                         epochs=epochs, version=version, num_aug=num_aug)\n"
   ]
  },
  {
   "cell_type": "code",
   "execution_count": null,
   "metadata": {
    "papermill": {
     "duration": 0.159473,
     "end_time": "2020-08-26T10:50:59.997398",
     "exception": false,
     "start_time": "2020-08-26T10:50:59.837925",
     "status": "completed"
    },
    "tags": []
   },
   "outputs": [],
   "source": []
  }
 ],
 "metadata": {
  "kernelspec": {
   "display_name": "Python 3",
   "language": "python",
   "name": "python3"
  },
  "language_info": {
   "codemirror_mode": {
    "name": "ipython",
    "version": 3
   },
   "file_extension": ".py",
   "mimetype": "text/x-python",
   "name": "python",
   "nbconvert_exporter": "python",
   "pygments_lexer": "ipython3",
   "version": "3.7.7"
  },
  "papermill": {
   "duration": 798.406205,
   "end_time": "2020-08-26T10:51:01.482721",
   "environment_variables": {},
   "exception": null,
   "input_path": "__notebook__.ipynb",
   "output_path": "__notebook__.ipynb",
   "parameters": {},
   "start_time": "2020-08-26T10:37:43.076516",
   "version": "2.1.0"
  },
  "widgets": {
   "application/vnd.jupyter.widget-state+json": {
    "state": {
     "09996704bdc040e28feedc93f242010e": {
      "model_module": "@jupyter-widgets/base",
      "model_module_version": "1.2.0",
      "model_name": "LayoutModel",
      "state": {
       "_model_module": "@jupyter-widgets/base",
       "_model_module_version": "1.2.0",
       "_model_name": "LayoutModel",
       "_view_count": null,
       "_view_module": "@jupyter-widgets/base",
       "_view_module_version": "1.2.0",
       "_view_name": "LayoutView",
       "align_content": null,
       "align_items": null,
       "align_self": null,
       "border": null,
       "bottom": null,
       "display": null,
       "flex": null,
       "flex_flow": null,
       "grid_area": null,
       "grid_auto_columns": null,
       "grid_auto_flow": null,
       "grid_auto_rows": null,
       "grid_column": null,
       "grid_gap": null,
       "grid_row": null,
       "grid_template_areas": null,
       "grid_template_columns": null,
       "grid_template_rows": null,
       "height": null,
       "justify_content": null,
       "justify_items": null,
       "left": null,
       "margin": null,
       "max_height": null,
       "max_width": null,
       "min_height": null,
       "min_width": null,
       "object_fit": null,
       "object_position": null,
       "order": null,
       "overflow": null,
       "overflow_x": null,
       "overflow_y": null,
       "padding": null,
       "right": null,
       "top": null,
       "visibility": null,
       "width": null
      }
     },
     "15e85b4f9e6b4304a1b8901b674ca6e7": {
      "model_module": "@jupyter-widgets/controls",
      "model_module_version": "1.5.0",
      "model_name": "ProgressStyleModel",
      "state": {
       "_model_module": "@jupyter-widgets/controls",
       "_model_module_version": "1.5.0",
       "_model_name": "ProgressStyleModel",
       "_view_count": null,
       "_view_module": "@jupyter-widgets/base",
       "_view_module_version": "1.2.0",
       "_view_name": "StyleView",
       "bar_color": null,
       "description_width": "initial"
      }
     },
     "160c01dc56184b37b805107ef15d0b4b": {
      "model_module": "@jupyter-widgets/controls",
      "model_module_version": "1.5.0",
      "model_name": "DescriptionStyleModel",
      "state": {
       "_model_module": "@jupyter-widgets/controls",
       "_model_module_version": "1.5.0",
       "_model_name": "DescriptionStyleModel",
       "_view_count": null,
       "_view_module": "@jupyter-widgets/base",
       "_view_module_version": "1.2.0",
       "_view_name": "StyleView",
       "description_width": ""
      }
     },
     "18d8e5163c5641d8ab33a3c9c4497c80": {
      "model_module": "@jupyter-widgets/controls",
      "model_module_version": "1.5.0",
      "model_name": "HBoxModel",
      "state": {
       "_dom_classes": [],
       "_model_module": "@jupyter-widgets/controls",
       "_model_module_version": "1.5.0",
       "_model_name": "HBoxModel",
       "_view_count": null,
       "_view_module": "@jupyter-widgets/controls",
       "_view_module_version": "1.5.0",
       "_view_name": "HBoxView",
       "box_style": "",
       "children": [
        "IPY_MODEL_6dba1b28c4de4721b90f05fd330eca68",
        "IPY_MODEL_4933fccfe202431e923f54efcaca839a"
       ],
       "layout": "IPY_MODEL_56eb45e88b4144ee8f3272b5e8fea00d"
      }
     },
     "1a2aa8efe4d84ee8a4890591120f2d04": {
      "model_module": "@jupyter-widgets/controls",
      "model_module_version": "1.5.0",
      "model_name": "HBoxModel",
      "state": {
       "_dom_classes": [],
       "_model_module": "@jupyter-widgets/controls",
       "_model_module_version": "1.5.0",
       "_model_name": "HBoxModel",
       "_view_count": null,
       "_view_module": "@jupyter-widgets/controls",
       "_view_module_version": "1.5.0",
       "_view_name": "HBoxView",
       "box_style": "",
       "children": [
        "IPY_MODEL_d61657d0f20d4448b8ff4ece8f856759",
        "IPY_MODEL_524f205f181f474199703aee0527245b"
       ],
       "layout": "IPY_MODEL_09996704bdc040e28feedc93f242010e"
      }
     },
     "266dfcd81aa740ddac2a62dfbfb25d83": {
      "model_module": "@jupyter-widgets/base",
      "model_module_version": "1.2.0",
      "model_name": "LayoutModel",
      "state": {
       "_model_module": "@jupyter-widgets/base",
       "_model_module_version": "1.2.0",
       "_model_name": "LayoutModel",
       "_view_count": null,
       "_view_module": "@jupyter-widgets/base",
       "_view_module_version": "1.2.0",
       "_view_name": "LayoutView",
       "align_content": null,
       "align_items": null,
       "align_self": null,
       "border": null,
       "bottom": null,
       "display": null,
       "flex": null,
       "flex_flow": null,
       "grid_area": null,
       "grid_auto_columns": null,
       "grid_auto_flow": null,
       "grid_auto_rows": null,
       "grid_column": null,
       "grid_gap": null,
       "grid_row": null,
       "grid_template_areas": null,
       "grid_template_columns": null,
       "grid_template_rows": null,
       "height": null,
       "justify_content": null,
       "justify_items": null,
       "left": null,
       "margin": null,
       "max_height": null,
       "max_width": null,
       "min_height": null,
       "min_width": null,
       "object_fit": null,
       "object_position": null,
       "order": null,
       "overflow": null,
       "overflow_x": null,
       "overflow_y": null,
       "padding": null,
       "right": null,
       "top": null,
       "visibility": null,
       "width": null
      }
     },
     "289ced5f575244b9a69b8858a2db5fd4": {
      "model_module": "@jupyter-widgets/controls",
      "model_module_version": "1.5.0",
      "model_name": "DescriptionStyleModel",
      "state": {
       "_model_module": "@jupyter-widgets/controls",
       "_model_module_version": "1.5.0",
       "_model_name": "DescriptionStyleModel",
       "_view_count": null,
       "_view_module": "@jupyter-widgets/base",
       "_view_module_version": "1.2.0",
       "_view_name": "StyleView",
       "description_width": ""
      }
     },
     "400fa8403390464692c39ebbd31b970e": {
      "model_module": "@jupyter-widgets/controls",
      "model_module_version": "1.5.0",
      "model_name": "ProgressStyleModel",
      "state": {
       "_model_module": "@jupyter-widgets/controls",
       "_model_module_version": "1.5.0",
       "_model_name": "ProgressStyleModel",
       "_view_count": null,
       "_view_module": "@jupyter-widgets/base",
       "_view_module_version": "1.2.0",
       "_view_name": "StyleView",
       "bar_color": null,
       "description_width": "initial"
      }
     },
     "4933fccfe202431e923f54efcaca839a": {
      "model_module": "@jupyter-widgets/controls",
      "model_module_version": "1.5.0",
      "model_name": "HTMLModel",
      "state": {
       "_dom_classes": [],
       "_model_module": "@jupyter-widgets/controls",
       "_model_module_version": "1.5.0",
       "_model_name": "HTMLModel",
       "_view_count": null,
       "_view_module": "@jupyter-widgets/controls",
       "_view_module_version": "1.5.0",
       "_view_name": "HTMLView",
       "description": "",
       "description_tooltip": null,
       "layout": "IPY_MODEL_d88d175767b34bb1bb9016d134867628",
       "placeholder": "​",
       "style": "IPY_MODEL_90f4a74c46614fbc8ef040963d7f1f14",
       "value": " 501M/501M [00:17&lt;00:00, 29.3MB/s]"
      }
     },
     "524f205f181f474199703aee0527245b": {
      "model_module": "@jupyter-widgets/controls",
      "model_module_version": "1.5.0",
      "model_name": "HTMLModel",
      "state": {
       "_dom_classes": [],
       "_model_module": "@jupyter-widgets/controls",
       "_model_module_version": "1.5.0",
       "_model_name": "HTMLModel",
       "_view_count": null,
       "_view_module": "@jupyter-widgets/controls",
       "_view_module_version": "1.5.0",
       "_view_name": "HTMLView",
       "description": "",
       "description_tooltip": null,
       "layout": "IPY_MODEL_7904879fc0a14f47b6d79980ef51006e",
       "placeholder": "​",
       "style": "IPY_MODEL_160c01dc56184b37b805107ef15d0b4b",
       "value": " 899k/899k [00:00&lt;00:00, 9.50MB/s]"
      }
     },
     "56eb45e88b4144ee8f3272b5e8fea00d": {
      "model_module": "@jupyter-widgets/base",
      "model_module_version": "1.2.0",
      "model_name": "LayoutModel",
      "state": {
       "_model_module": "@jupyter-widgets/base",
       "_model_module_version": "1.2.0",
       "_model_name": "LayoutModel",
       "_view_count": null,
       "_view_module": "@jupyter-widgets/base",
       "_view_module_version": "1.2.0",
       "_view_name": "LayoutView",
       "align_content": null,
       "align_items": null,
       "align_self": null,
       "border": null,
       "bottom": null,
       "display": null,
       "flex": null,
       "flex_flow": null,
       "grid_area": null,
       "grid_auto_columns": null,
       "grid_auto_flow": null,
       "grid_auto_rows": null,
       "grid_column": null,
       "grid_gap": null,
       "grid_row": null,
       "grid_template_areas": null,
       "grid_template_columns": null,
       "grid_template_rows": null,
       "height": null,
       "justify_content": null,
       "justify_items": null,
       "left": null,
       "margin": null,
       "max_height": null,
       "max_width": null,
       "min_height": null,
       "min_width": null,
       "object_fit": null,
       "object_position": null,
       "order": null,
       "overflow": null,
       "overflow_x": null,
       "overflow_y": null,
       "padding": null,
       "right": null,
       "top": null,
       "visibility": null,
       "width": null
      }
     },
     "5b54879ccf3a45588d578c18db26cfaa": {
      "model_module": "@jupyter-widgets/controls",
      "model_module_version": "1.5.0",
      "model_name": "HTMLModel",
      "state": {
       "_dom_classes": [],
       "_model_module": "@jupyter-widgets/controls",
       "_model_module_version": "1.5.0",
       "_model_name": "HTMLModel",
       "_view_count": null,
       "_view_module": "@jupyter-widgets/controls",
       "_view_module_version": "1.5.0",
       "_view_name": "HTMLView",
       "description": "",
       "description_tooltip": null,
       "layout": "IPY_MODEL_266dfcd81aa740ddac2a62dfbfb25d83",
       "placeholder": "​",
       "style": "IPY_MODEL_6ddb86db1b99449f90ee5cc027e98d61",
       "value": " 456k/456k [00:00&lt;00:00, 3.36MB/s]"
      }
     },
     "5e42f6666baa4508bc8ddeb178f179b9": {
      "model_module": "@jupyter-widgets/controls",
      "model_module_version": "1.5.0",
      "model_name": "FloatProgressModel",
      "state": {
       "_dom_classes": [],
       "_model_module": "@jupyter-widgets/controls",
       "_model_module_version": "1.5.0",
       "_model_name": "FloatProgressModel",
       "_view_count": null,
       "_view_module": "@jupyter-widgets/controls",
       "_view_module_version": "1.5.0",
       "_view_name": "ProgressView",
       "bar_style": "success",
       "description": "Downloading: 100%",
       "description_tooltip": null,
       "layout": "IPY_MODEL_6d8a8edc4c94452584fb73e1e698d5dc",
       "max": 481,
       "min": 0,
       "orientation": "horizontal",
       "style": "IPY_MODEL_a8781ffcc3d84b5fb48b44507e536544",
       "value": 481
      }
     },
     "5fa8c99bc15745b98c1f6215318e773b": {
      "model_module": "@jupyter-widgets/controls",
      "model_module_version": "1.5.0",
      "model_name": "HBoxModel",
      "state": {
       "_dom_classes": [],
       "_model_module": "@jupyter-widgets/controls",
       "_model_module_version": "1.5.0",
       "_model_name": "HBoxModel",
       "_view_count": null,
       "_view_module": "@jupyter-widgets/controls",
       "_view_module_version": "1.5.0",
       "_view_name": "HBoxView",
       "box_style": "",
       "children": [
        "IPY_MODEL_5e42f6666baa4508bc8ddeb178f179b9",
        "IPY_MODEL_bdae415772c34dc4b18c04b6a493350c"
       ],
       "layout": "IPY_MODEL_d84a75d2d1b7415d9164028b898017e4"
      }
     },
     "6d8a8edc4c94452584fb73e1e698d5dc": {
      "model_module": "@jupyter-widgets/base",
      "model_module_version": "1.2.0",
      "model_name": "LayoutModel",
      "state": {
       "_model_module": "@jupyter-widgets/base",
       "_model_module_version": "1.2.0",
       "_model_name": "LayoutModel",
       "_view_count": null,
       "_view_module": "@jupyter-widgets/base",
       "_view_module_version": "1.2.0",
       "_view_name": "LayoutView",
       "align_content": null,
       "align_items": null,
       "align_self": null,
       "border": null,
       "bottom": null,
       "display": null,
       "flex": null,
       "flex_flow": null,
       "grid_area": null,
       "grid_auto_columns": null,
       "grid_auto_flow": null,
       "grid_auto_rows": null,
       "grid_column": null,
       "grid_gap": null,
       "grid_row": null,
       "grid_template_areas": null,
       "grid_template_columns": null,
       "grid_template_rows": null,
       "height": null,
       "justify_content": null,
       "justify_items": null,
       "left": null,
       "margin": null,
       "max_height": null,
       "max_width": null,
       "min_height": null,
       "min_width": null,
       "object_fit": null,
       "object_position": null,
       "order": null,
       "overflow": null,
       "overflow_x": null,
       "overflow_y": null,
       "padding": null,
       "right": null,
       "top": null,
       "visibility": null,
       "width": null
      }
     },
     "6dba1b28c4de4721b90f05fd330eca68": {
      "model_module": "@jupyter-widgets/controls",
      "model_module_version": "1.5.0",
      "model_name": "FloatProgressModel",
      "state": {
       "_dom_classes": [],
       "_model_module": "@jupyter-widgets/controls",
       "_model_module_version": "1.5.0",
       "_model_name": "FloatProgressModel",
       "_view_count": null,
       "_view_module": "@jupyter-widgets/controls",
       "_view_module_version": "1.5.0",
       "_view_name": "ProgressView",
       "bar_style": "success",
       "description": "Downloading: 100%",
       "description_tooltip": null,
       "layout": "IPY_MODEL_dd85bb506d7e42dfa18bfeb1e6f2181d",
       "max": 501200538,
       "min": 0,
       "orientation": "horizontal",
       "style": "IPY_MODEL_400fa8403390464692c39ebbd31b970e",
       "value": 501200538
      }
     },
     "6ddb86db1b99449f90ee5cc027e98d61": {
      "model_module": "@jupyter-widgets/controls",
      "model_module_version": "1.5.0",
      "model_name": "DescriptionStyleModel",
      "state": {
       "_model_module": "@jupyter-widgets/controls",
       "_model_module_version": "1.5.0",
       "_model_name": "DescriptionStyleModel",
       "_view_count": null,
       "_view_module": "@jupyter-widgets/base",
       "_view_module_version": "1.2.0",
       "_view_name": "StyleView",
       "description_width": ""
      }
     },
     "7904879fc0a14f47b6d79980ef51006e": {
      "model_module": "@jupyter-widgets/base",
      "model_module_version": "1.2.0",
      "model_name": "LayoutModel",
      "state": {
       "_model_module": "@jupyter-widgets/base",
       "_model_module_version": "1.2.0",
       "_model_name": "LayoutModel",
       "_view_count": null,
       "_view_module": "@jupyter-widgets/base",
       "_view_module_version": "1.2.0",
       "_view_name": "LayoutView",
       "align_content": null,
       "align_items": null,
       "align_self": null,
       "border": null,
       "bottom": null,
       "display": null,
       "flex": null,
       "flex_flow": null,
       "grid_area": null,
       "grid_auto_columns": null,
       "grid_auto_flow": null,
       "grid_auto_rows": null,
       "grid_column": null,
       "grid_gap": null,
       "grid_row": null,
       "grid_template_areas": null,
       "grid_template_columns": null,
       "grid_template_rows": null,
       "height": null,
       "justify_content": null,
       "justify_items": null,
       "left": null,
       "margin": null,
       "max_height": null,
       "max_width": null,
       "min_height": null,
       "min_width": null,
       "object_fit": null,
       "object_position": null,
       "order": null,
       "overflow": null,
       "overflow_x": null,
       "overflow_y": null,
       "padding": null,
       "right": null,
       "top": null,
       "visibility": null,
       "width": null
      }
     },
     "90f4a74c46614fbc8ef040963d7f1f14": {
      "model_module": "@jupyter-widgets/controls",
      "model_module_version": "1.5.0",
      "model_name": "DescriptionStyleModel",
      "state": {
       "_model_module": "@jupyter-widgets/controls",
       "_model_module_version": "1.5.0",
       "_model_name": "DescriptionStyleModel",
       "_view_count": null,
       "_view_module": "@jupyter-widgets/base",
       "_view_module_version": "1.2.0",
       "_view_name": "StyleView",
       "description_width": ""
      }
     },
     "a8781ffcc3d84b5fb48b44507e536544": {
      "model_module": "@jupyter-widgets/controls",
      "model_module_version": "1.5.0",
      "model_name": "ProgressStyleModel",
      "state": {
       "_model_module": "@jupyter-widgets/controls",
       "_model_module_version": "1.5.0",
       "_model_name": "ProgressStyleModel",
       "_view_count": null,
       "_view_module": "@jupyter-widgets/base",
       "_view_module_version": "1.2.0",
       "_view_name": "StyleView",
       "bar_color": null,
       "description_width": "initial"
      }
     },
     "aca79b04d11c4bbaac41ab2d179af9bd": {
      "model_module": "@jupyter-widgets/base",
      "model_module_version": "1.2.0",
      "model_name": "LayoutModel",
      "state": {
       "_model_module": "@jupyter-widgets/base",
       "_model_module_version": "1.2.0",
       "_model_name": "LayoutModel",
       "_view_count": null,
       "_view_module": "@jupyter-widgets/base",
       "_view_module_version": "1.2.0",
       "_view_name": "LayoutView",
       "align_content": null,
       "align_items": null,
       "align_self": null,
       "border": null,
       "bottom": null,
       "display": null,
       "flex": null,
       "flex_flow": null,
       "grid_area": null,
       "grid_auto_columns": null,
       "grid_auto_flow": null,
       "grid_auto_rows": null,
       "grid_column": null,
       "grid_gap": null,
       "grid_row": null,
       "grid_template_areas": null,
       "grid_template_columns": null,
       "grid_template_rows": null,
       "height": null,
       "justify_content": null,
       "justify_items": null,
       "left": null,
       "margin": null,
       "max_height": null,
       "max_width": null,
       "min_height": null,
       "min_width": null,
       "object_fit": null,
       "object_position": null,
       "order": null,
       "overflow": null,
       "overflow_x": null,
       "overflow_y": null,
       "padding": null,
       "right": null,
       "top": null,
       "visibility": null,
       "width": null
      }
     },
     "b25c855f06204e6ebcecdb1600a32518": {
      "model_module": "@jupyter-widgets/base",
      "model_module_version": "1.2.0",
      "model_name": "LayoutModel",
      "state": {
       "_model_module": "@jupyter-widgets/base",
       "_model_module_version": "1.2.0",
       "_model_name": "LayoutModel",
       "_view_count": null,
       "_view_module": "@jupyter-widgets/base",
       "_view_module_version": "1.2.0",
       "_view_name": "LayoutView",
       "align_content": null,
       "align_items": null,
       "align_self": null,
       "border": null,
       "bottom": null,
       "display": null,
       "flex": null,
       "flex_flow": null,
       "grid_area": null,
       "grid_auto_columns": null,
       "grid_auto_flow": null,
       "grid_auto_rows": null,
       "grid_column": null,
       "grid_gap": null,
       "grid_row": null,
       "grid_template_areas": null,
       "grid_template_columns": null,
       "grid_template_rows": null,
       "height": null,
       "justify_content": null,
       "justify_items": null,
       "left": null,
       "margin": null,
       "max_height": null,
       "max_width": null,
       "min_height": null,
       "min_width": null,
       "object_fit": null,
       "object_position": null,
       "order": null,
       "overflow": null,
       "overflow_x": null,
       "overflow_y": null,
       "padding": null,
       "right": null,
       "top": null,
       "visibility": null,
       "width": null
      }
     },
     "bdae415772c34dc4b18c04b6a493350c": {
      "model_module": "@jupyter-widgets/controls",
      "model_module_version": "1.5.0",
      "model_name": "HTMLModel",
      "state": {
       "_dom_classes": [],
       "_model_module": "@jupyter-widgets/controls",
       "_model_module_version": "1.5.0",
       "_model_name": "HTMLModel",
       "_view_count": null,
       "_view_module": "@jupyter-widgets/controls",
       "_view_module_version": "1.5.0",
       "_view_name": "HTMLView",
       "description": "",
       "description_tooltip": null,
       "layout": "IPY_MODEL_bee58efc3701469e9a1b351a34b96cfb",
       "placeholder": "​",
       "style": "IPY_MODEL_289ced5f575244b9a69b8858a2db5fd4",
       "value": " 481/481 [00:00&lt;00:00, 827B/s]"
      }
     },
     "bee58efc3701469e9a1b351a34b96cfb": {
      "model_module": "@jupyter-widgets/base",
      "model_module_version": "1.2.0",
      "model_name": "LayoutModel",
      "state": {
       "_model_module": "@jupyter-widgets/base",
       "_model_module_version": "1.2.0",
       "_model_name": "LayoutModel",
       "_view_count": null,
       "_view_module": "@jupyter-widgets/base",
       "_view_module_version": "1.2.0",
       "_view_name": "LayoutView",
       "align_content": null,
       "align_items": null,
       "align_self": null,
       "border": null,
       "bottom": null,
       "display": null,
       "flex": null,
       "flex_flow": null,
       "grid_area": null,
       "grid_auto_columns": null,
       "grid_auto_flow": null,
       "grid_auto_rows": null,
       "grid_column": null,
       "grid_gap": null,
       "grid_row": null,
       "grid_template_areas": null,
       "grid_template_columns": null,
       "grid_template_rows": null,
       "height": null,
       "justify_content": null,
       "justify_items": null,
       "left": null,
       "margin": null,
       "max_height": null,
       "max_width": null,
       "min_height": null,
       "min_width": null,
       "object_fit": null,
       "object_position": null,
       "order": null,
       "overflow": null,
       "overflow_x": null,
       "overflow_y": null,
       "padding": null,
       "right": null,
       "top": null,
       "visibility": null,
       "width": null
      }
     },
     "bfba1bb42d39412aaef70794aeb3821b": {
      "model_module": "@jupyter-widgets/controls",
      "model_module_version": "1.5.0",
      "model_name": "FloatProgressModel",
      "state": {
       "_dom_classes": [],
       "_model_module": "@jupyter-widgets/controls",
       "_model_module_version": "1.5.0",
       "_model_name": "FloatProgressModel",
       "_view_count": null,
       "_view_module": "@jupyter-widgets/controls",
       "_view_module_version": "1.5.0",
       "_view_name": "ProgressView",
       "bar_style": "success",
       "description": "Downloading: 100%",
       "description_tooltip": null,
       "layout": "IPY_MODEL_b25c855f06204e6ebcecdb1600a32518",
       "max": 456318,
       "min": 0,
       "orientation": "horizontal",
       "style": "IPY_MODEL_15e85b4f9e6b4304a1b8901b674ca6e7",
       "value": 456318
      }
     },
     "c751874af623494b9cf2a912550f0ad1": {
      "model_module": "@jupyter-widgets/controls",
      "model_module_version": "1.5.0",
      "model_name": "HBoxModel",
      "state": {
       "_dom_classes": [],
       "_model_module": "@jupyter-widgets/controls",
       "_model_module_version": "1.5.0",
       "_model_name": "HBoxModel",
       "_view_count": null,
       "_view_module": "@jupyter-widgets/controls",
       "_view_module_version": "1.5.0",
       "_view_name": "HBoxView",
       "box_style": "",
       "children": [
        "IPY_MODEL_bfba1bb42d39412aaef70794aeb3821b",
        "IPY_MODEL_5b54879ccf3a45588d578c18db26cfaa"
       ],
       "layout": "IPY_MODEL_c9895d0ab7d547e181b5f7b418a79c5b"
      }
     },
     "c9895d0ab7d547e181b5f7b418a79c5b": {
      "model_module": "@jupyter-widgets/base",
      "model_module_version": "1.2.0",
      "model_name": "LayoutModel",
      "state": {
       "_model_module": "@jupyter-widgets/base",
       "_model_module_version": "1.2.0",
       "_model_name": "LayoutModel",
       "_view_count": null,
       "_view_module": "@jupyter-widgets/base",
       "_view_module_version": "1.2.0",
       "_view_name": "LayoutView",
       "align_content": null,
       "align_items": null,
       "align_self": null,
       "border": null,
       "bottom": null,
       "display": null,
       "flex": null,
       "flex_flow": null,
       "grid_area": null,
       "grid_auto_columns": null,
       "grid_auto_flow": null,
       "grid_auto_rows": null,
       "grid_column": null,
       "grid_gap": null,
       "grid_row": null,
       "grid_template_areas": null,
       "grid_template_columns": null,
       "grid_template_rows": null,
       "height": null,
       "justify_content": null,
       "justify_items": null,
       "left": null,
       "margin": null,
       "max_height": null,
       "max_width": null,
       "min_height": null,
       "min_width": null,
       "object_fit": null,
       "object_position": null,
       "order": null,
       "overflow": null,
       "overflow_x": null,
       "overflow_y": null,
       "padding": null,
       "right": null,
       "top": null,
       "visibility": null,
       "width": null
      }
     },
     "d61657d0f20d4448b8ff4ece8f856759": {
      "model_module": "@jupyter-widgets/controls",
      "model_module_version": "1.5.0",
      "model_name": "FloatProgressModel",
      "state": {
       "_dom_classes": [],
       "_model_module": "@jupyter-widgets/controls",
       "_model_module_version": "1.5.0",
       "_model_name": "FloatProgressModel",
       "_view_count": null,
       "_view_module": "@jupyter-widgets/controls",
       "_view_module_version": "1.5.0",
       "_view_name": "ProgressView",
       "bar_style": "success",
       "description": "Downloading: 100%",
       "description_tooltip": null,
       "layout": "IPY_MODEL_aca79b04d11c4bbaac41ab2d179af9bd",
       "max": 898823,
       "min": 0,
       "orientation": "horizontal",
       "style": "IPY_MODEL_faa7dda6b649452ebdfd824db33aa378",
       "value": 898823
      }
     },
     "d84a75d2d1b7415d9164028b898017e4": {
      "model_module": "@jupyter-widgets/base",
      "model_module_version": "1.2.0",
      "model_name": "LayoutModel",
      "state": {
       "_model_module": "@jupyter-widgets/base",
       "_model_module_version": "1.2.0",
       "_model_name": "LayoutModel",
       "_view_count": null,
       "_view_module": "@jupyter-widgets/base",
       "_view_module_version": "1.2.0",
       "_view_name": "LayoutView",
       "align_content": null,
       "align_items": null,
       "align_self": null,
       "border": null,
       "bottom": null,
       "display": null,
       "flex": null,
       "flex_flow": null,
       "grid_area": null,
       "grid_auto_columns": null,
       "grid_auto_flow": null,
       "grid_auto_rows": null,
       "grid_column": null,
       "grid_gap": null,
       "grid_row": null,
       "grid_template_areas": null,
       "grid_template_columns": null,
       "grid_template_rows": null,
       "height": null,
       "justify_content": null,
       "justify_items": null,
       "left": null,
       "margin": null,
       "max_height": null,
       "max_width": null,
       "min_height": null,
       "min_width": null,
       "object_fit": null,
       "object_position": null,
       "order": null,
       "overflow": null,
       "overflow_x": null,
       "overflow_y": null,
       "padding": null,
       "right": null,
       "top": null,
       "visibility": null,
       "width": null
      }
     },
     "d88d175767b34bb1bb9016d134867628": {
      "model_module": "@jupyter-widgets/base",
      "model_module_version": "1.2.0",
      "model_name": "LayoutModel",
      "state": {
       "_model_module": "@jupyter-widgets/base",
       "_model_module_version": "1.2.0",
       "_model_name": "LayoutModel",
       "_view_count": null,
       "_view_module": "@jupyter-widgets/base",
       "_view_module_version": "1.2.0",
       "_view_name": "LayoutView",
       "align_content": null,
       "align_items": null,
       "align_self": null,
       "border": null,
       "bottom": null,
       "display": null,
       "flex": null,
       "flex_flow": null,
       "grid_area": null,
       "grid_auto_columns": null,
       "grid_auto_flow": null,
       "grid_auto_rows": null,
       "grid_column": null,
       "grid_gap": null,
       "grid_row": null,
       "grid_template_areas": null,
       "grid_template_columns": null,
       "grid_template_rows": null,
       "height": null,
       "justify_content": null,
       "justify_items": null,
       "left": null,
       "margin": null,
       "max_height": null,
       "max_width": null,
       "min_height": null,
       "min_width": null,
       "object_fit": null,
       "object_position": null,
       "order": null,
       "overflow": null,
       "overflow_x": null,
       "overflow_y": null,
       "padding": null,
       "right": null,
       "top": null,
       "visibility": null,
       "width": null
      }
     },
     "dd85bb506d7e42dfa18bfeb1e6f2181d": {
      "model_module": "@jupyter-widgets/base",
      "model_module_version": "1.2.0",
      "model_name": "LayoutModel",
      "state": {
       "_model_module": "@jupyter-widgets/base",
       "_model_module_version": "1.2.0",
       "_model_name": "LayoutModel",
       "_view_count": null,
       "_view_module": "@jupyter-widgets/base",
       "_view_module_version": "1.2.0",
       "_view_name": "LayoutView",
       "align_content": null,
       "align_items": null,
       "align_self": null,
       "border": null,
       "bottom": null,
       "display": null,
       "flex": null,
       "flex_flow": null,
       "grid_area": null,
       "grid_auto_columns": null,
       "grid_auto_flow": null,
       "grid_auto_rows": null,
       "grid_column": null,
       "grid_gap": null,
       "grid_row": null,
       "grid_template_areas": null,
       "grid_template_columns": null,
       "grid_template_rows": null,
       "height": null,
       "justify_content": null,
       "justify_items": null,
       "left": null,
       "margin": null,
       "max_height": null,
       "max_width": null,
       "min_height": null,
       "min_width": null,
       "object_fit": null,
       "object_position": null,
       "order": null,
       "overflow": null,
       "overflow_x": null,
       "overflow_y": null,
       "padding": null,
       "right": null,
       "top": null,
       "visibility": null,
       "width": null
      }
     },
     "faa7dda6b649452ebdfd824db33aa378": {
      "model_module": "@jupyter-widgets/controls",
      "model_module_version": "1.5.0",
      "model_name": "ProgressStyleModel",
      "state": {
       "_model_module": "@jupyter-widgets/controls",
       "_model_module_version": "1.5.0",
       "_model_name": "ProgressStyleModel",
       "_view_count": null,
       "_view_module": "@jupyter-widgets/base",
       "_view_module_version": "1.2.0",
       "_view_name": "StyleView",
       "bar_color": null,
       "description_width": "initial"
      }
     }
    },
    "version_major": 2,
    "version_minor": 0
   }
  }
 },
 "nbformat": 4,
 "nbformat_minor": 4
}
