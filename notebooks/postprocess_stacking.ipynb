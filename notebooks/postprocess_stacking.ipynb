{
 "cells": [
  {
   "cell_type": "code",
   "execution_count": 1,
   "metadata": {
    "_cell_guid": "79c7e3d0-c299-4dcb-8224-4455121ee9b0",
    "_kg_hide-input": true,
    "_uuid": "d629ff2d2480ee46fbb7e2d37f6b5fab8052498a",
    "execution": {
     "iopub.execute_input": "2020-08-26T11:26:40.165471Z",
     "iopub.status.busy": "2020-08-26T11:26:40.164608Z",
     "iopub.status.idle": "2020-08-26T11:26:41.264369Z",
     "shell.execute_reply": "2020-08-26T11:26:41.263495Z"
    },
    "papermill": {
     "duration": 1.116786,
     "end_time": "2020-08-26T11:26:41.264545",
     "exception": false,
     "start_time": "2020-08-26T11:26:40.147759",
     "status": "completed"
    },
    "tags": []
   },
   "outputs": [],
   "source": [
    "import os\n",
    "import numpy as np\n",
    "import pandas as pd\n",
    "import matplotlib.pyplot as plt\n",
    "import sklearn\n",
    "import sklearn.metrics\n",
    "from sklearn.metrics import confusion_matrix\n",
    "from sklearn.metrics import ConfusionMatrixDisplay\n",
    "from sklearn.metrics import accuracy_score\n",
    "import tqdm\n",
    "from tqdm import tqdm"
   ]
  },
  {
   "cell_type": "code",
   "execution_count": 2,
   "metadata": {
    "execution": {
     "iopub.execute_input": "2020-08-26T11:26:41.293809Z",
     "iopub.status.busy": "2020-08-26T11:26:41.292781Z",
     "iopub.status.idle": "2020-08-26T11:26:41.340870Z",
     "shell.execute_reply": "2020-08-26T11:26:41.341819Z"
    },
    "papermill": {
     "duration": 0.068737,
     "end_time": "2020-08-26T11:26:41.342037",
     "exception": false,
     "start_time": "2020-08-26T11:26:41.273300",
     "status": "completed"
    },
    "tags": []
   },
   "outputs": [],
   "source": [
    "test = pd.read_csv('../input/signate-stcup2020-new/test.csv')\n",
    "train = pd.read_csv('../input/signate-stcup-2020/train.csv')"
   ]
  },
  {
   "cell_type": "code",
   "execution_count": 3,
   "metadata": {
    "execution": {
     "iopub.execute_input": "2020-08-26T11:26:41.376098Z",
     "iopub.status.busy": "2020-08-26T11:26:41.375292Z",
     "iopub.status.idle": "2020-08-26T11:26:41.378988Z",
     "shell.execute_reply": "2020-08-26T11:26:41.378228Z"
    },
    "papermill": {
     "duration": 0.027692,
     "end_time": "2020-08-26T11:26:41.379123",
     "exception": false,
     "start_time": "2020-08-26T11:26:41.351431",
     "status": "completed"
    },
    "tags": []
   },
   "outputs": [],
   "source": [
    "def proba_to_prediction(proba_df):\n",
    "    ids = proba_df.ids\n",
    "    prediction_df = proba_df.drop([\"ids\"],axis=1)\n",
    "    \n",
    "    # predict \"jobflag\" by proba\n",
    "    prediction_df[\"jobflag\"] = prediction_df.idxmax(axis=1)\n",
    "    prediction_df[\"id\"] = ids.astype(int)\n",
    "    # \n",
    "    prediction_df = prediction_df.drop([\"1\",\"2\",\"3\",\"4\"],axis=1)\n",
    "    prediction_df = prediction_df[[\"id\",\"jobflag\"]]\n",
    "    return prediction_df"
   ]
  },
  {
   "cell_type": "code",
   "execution_count": 4,
   "metadata": {
    "_kg_hide-input": true,
    "execution": {
     "iopub.execute_input": "2020-08-26T11:26:41.417173Z",
     "iopub.status.busy": "2020-08-26T11:26:41.416086Z",
     "iopub.status.idle": "2020-08-26T11:26:41.420281Z",
     "shell.execute_reply": "2020-08-26T11:26:41.419474Z"
    },
    "papermill": {
     "duration": 0.032885,
     "end_time": "2020-08-26T11:26:41.420407",
     "exception": false,
     "start_time": "2020-08-26T11:26:41.387522",
     "status": "completed"
    },
    "tags": []
   },
   "outputs": [],
   "source": [
    "#define make_prediction function\n",
    "def make_prediction(probas_list):\n",
    "    #prediction_df = pd.DataFrame([])\n",
    "    proba_df = pd.DataFrame({'1': [], '2': [], '3':[], '4':[], \"ids\": []})\n",
    "    ensenbled_PATH = \"\"\n",
    "    ids = []\n",
    "    sum_weight = 0\n",
    "    \n",
    "    for n, (proba, weight) in enumerate(probas_list):\n",
    "        # prepare to save and ensemble\n",
    "        try:\n",
    "            save_PATH = proba.split(\"/\")[-1].split(\"_\")[1]\n",
    "            ensenbled_PATH += save_PATH+\"_\"\n",
    "            proba = pd.read_csv(proba)\n",
    "        except:\n",
    "            pass\n",
    "        \n",
    "        if n == 0:\n",
    "            ids = proba[\"ids\"].astype(int)\n",
    "            proba_df = proba*weight\n",
    "        else:\n",
    "            #ensenble\n",
    "            proba_df += proba * weight\n",
    "            \n",
    "        sum_weight += weight\n",
    "    proba_df /= sum_weight\n",
    "    \n",
    "    prediction_df = proba_df.drop([\"ids\"],axis=1)\n",
    "    # predict \"jobflag\" by proba\n",
    "    prediction_df[\"jobflag\"] = prediction_df.idxmax(axis=1)\n",
    "    prediction_df[\"id\"] = ids.astype(int)\n",
    "    prediction_df = prediction_df.drop([\"1\",\"2\",\"3\",\"4\"],axis=1)\n",
    "    prediction_df = prediction_df[[\"id\",\"jobflag\"]]\n",
    "    \n",
    "    # save\n",
    "    #prediction_df.to_csv(ensenbled_PATH+\".csv\", index=False, header=False)\n",
    "    return prediction_df, proba_df"
   ]
  },
  {
   "cell_type": "code",
   "execution_count": 5,
   "metadata": {
    "execution": {
     "iopub.execute_input": "2020-08-26T11:26:41.445177Z",
     "iopub.status.busy": "2020-08-26T11:26:41.444292Z",
     "iopub.status.idle": "2020-08-26T11:26:41.447271Z",
     "shell.execute_reply": "2020-08-26T11:26:41.446548Z"
    },
    "papermill": {
     "duration": 0.018779,
     "end_time": "2020-08-26T11:26:41.447385",
     "exception": false,
     "start_time": "2020-08-26T11:26:41.428606",
     "status": "completed"
    },
    "tags": []
   },
   "outputs": [],
   "source": [
    "def proba_to_pseudo(probas_df, threshold):\n",
    "    prediction_df = proba_to_prediction(probas_df)\n",
    "    pseudo_index = np.where(probas_df.drop([\"ids\"],axis=1)>threshold)[0]\n",
    "    pseudo_df = prediction_df.reindex(index=pseudo_index)\n",
    "    pseudo_df[\"description\"] = test.reindex(index=pseudo_index)[\"description\"]\n",
    "    pseudo_df = pseudo_df.loc[:, ['id', 'description', 'jobflag']]\n",
    "    pseudo_df = pseudo_df.drop_duplicates()\n",
    "    return pseudo_df"
   ]
  },
  {
   "cell_type": "markdown",
   "execution_count": null,
   "metadata": {
    "papermill": {
     "duration": 0.007848,
     "end_time": "2020-08-26T11:26:41.465089",
     "exception": false,
     "start_time": "2020-08-26T11:26:41.457241",
     "status": "completed"
    },
    "tags": []
   },
   "source": [
    "def proba_from_normalized_proba(df):\n",
    "    new_df = pd.DataFrame([])\n",
    "    for ids in tqdm(np.arange(2931, 4674, 1)):\n",
    "        n_df = df[df.ids==ids].sum(axis=0)/len(df[df.ids==ids])\n",
    "        new_df = pd.concat([new_df, n_df], axis=1)\n",
    "    new_df = new_df.T\n",
    "    new_df = new_df.reset_index(drop=True)\n",
    "    return new_df"
   ]
  },
  {
   "cell_type": "code",
   "execution_count": 6,
   "metadata": {
    "execution": {
     "iopub.execute_input": "2020-08-26T11:26:41.497397Z",
     "iopub.status.busy": "2020-08-26T11:26:41.496625Z",
     "iopub.status.idle": "2020-08-26T11:26:41.654868Z",
     "shell.execute_reply": "2020-08-26T11:26:41.654196Z"
    },
    "papermill": {
     "duration": 0.181773,
     "end_time": "2020-08-26T11:26:41.654995",
     "exception": false,
     "start_time": "2020-08-26T11:26:41.473222",
     "status": "completed"
    },
    "tags": []
   },
   "outputs": [],
   "source": [
    "probas_list1 = [\n",
    "    ('../input/version40s/_ELECTRA_v40_0_ELECTRA_v40_1_ELECTRA_v40_2_ensemble.csv', 1),\n",
    "    ('../input/version40s/_ROBERTA_v40_0_ROBERTA_v40_1_ROBERTA_v40_2_BERT_v40_0_BERT_v40_1_BERT_v40_2_ensemble.csv', 1)\n",
    "]\n",
    "prediction_df, probas_df = make_prediction(probas_list1)\n",
    "prediction_df.to_csv(\"4_BRE_XA_final_sub.csv\", index=False, header=False)"
   ]
  },
  {
   "cell_type": "code",
   "execution_count": 7,
   "metadata": {
    "execution": {
     "iopub.execute_input": "2020-08-26T11:26:41.679331Z",
     "iopub.status.busy": "2020-08-26T11:26:41.678348Z",
     "iopub.status.idle": "2020-08-26T11:26:41.718589Z",
     "shell.execute_reply": "2020-08-26T11:26:41.717880Z"
    },
    "papermill": {
     "duration": 0.055069,
     "end_time": "2020-08-26T11:26:41.718729",
     "exception": false,
     "start_time": "2020-08-26T11:26:41.663660",
     "status": "completed"
    },
    "tags": []
   },
   "outputs": [
    {
     "data": {
      "text/html": [
       "<div>\n",
       "<style scoped>\n",
       "    .dataframe tbody tr th:only-of-type {\n",
       "        vertical-align: middle;\n",
       "    }\n",
       "\n",
       "    .dataframe tbody tr th {\n",
       "        vertical-align: top;\n",
       "    }\n",
       "\n",
       "    .dataframe thead th {\n",
       "        text-align: right;\n",
       "    }\n",
       "</style>\n",
       "<table border=\"1\" class=\"dataframe\">\n",
       "  <thead>\n",
       "    <tr style=\"text-align: right;\">\n",
       "      <th></th>\n",
       "      <th>id</th>\n",
       "      <th>description</th>\n",
       "      <th>jobflag</th>\n",
       "    </tr>\n",
       "  </thead>\n",
       "  <tbody>\n",
       "    <tr>\n",
       "      <th>3</th>\n",
       "      <td>2934</td>\n",
       "      <td>Apply your expertise in quantitative analysis,...</td>\n",
       "      <td>1</td>\n",
       "    </tr>\n",
       "    <tr>\n",
       "      <th>15</th>\n",
       "      <td>2946</td>\n",
       "      <td>Performs special assignments or assigns projec...</td>\n",
       "      <td>4</td>\n",
       "    </tr>\n",
       "    <tr>\n",
       "      <th>36</th>\n",
       "      <td>2967</td>\n",
       "      <td>Provide regular, clear, and consistent communi...</td>\n",
       "      <td>4</td>\n",
       "    </tr>\n",
       "    <tr>\n",
       "      <th>45</th>\n",
       "      <td>2976</td>\n",
       "      <td>Screen incoming applications for a match with ...</td>\n",
       "      <td>4</td>\n",
       "    </tr>\n",
       "    <tr>\n",
       "      <th>49</th>\n",
       "      <td>2980</td>\n",
       "      <td>Update account status records and collection e...</td>\n",
       "      <td>4</td>\n",
       "    </tr>\n",
       "    <tr>\n",
       "      <th>...</th>\n",
       "      <td>...</td>\n",
       "      <td>...</td>\n",
       "      <td>...</td>\n",
       "    </tr>\n",
       "    <tr>\n",
       "      <th>1712</th>\n",
       "      <td>4643</td>\n",
       "      <td>Processing, cleansing, and verifying the integ...</td>\n",
       "      <td>1</td>\n",
       "    </tr>\n",
       "    <tr>\n",
       "      <th>1714</th>\n",
       "      <td>4645</td>\n",
       "      <td>Evaluate performance results and recommends ma...</td>\n",
       "      <td>4</td>\n",
       "    </tr>\n",
       "    <tr>\n",
       "      <th>1727</th>\n",
       "      <td>4658</td>\n",
       "      <td>Create original insights from data by executin...</td>\n",
       "      <td>1</td>\n",
       "    </tr>\n",
       "    <tr>\n",
       "      <th>1732</th>\n",
       "      <td>4663</td>\n",
       "      <td>Work with street leading analysts to facilitat...</td>\n",
       "      <td>1</td>\n",
       "    </tr>\n",
       "    <tr>\n",
       "      <th>1738</th>\n",
       "      <td>4669</td>\n",
       "      <td>Conduct data analysis to make business recomme...</td>\n",
       "      <td>1</td>\n",
       "    </tr>\n",
       "  </tbody>\n",
       "</table>\n",
       "<p>241 rows × 3 columns</p>\n",
       "</div>"
      ],
      "text/plain": [
       "        id                                        description jobflag\n",
       "3     2934  Apply your expertise in quantitative analysis,...       1\n",
       "15    2946  Performs special assignments or assigns projec...       4\n",
       "36    2967  Provide regular, clear, and consistent communi...       4\n",
       "45    2976  Screen incoming applications for a match with ...       4\n",
       "49    2980  Update account status records and collection e...       4\n",
       "...    ...                                                ...     ...\n",
       "1712  4643  Processing, cleansing, and verifying the integ...       1\n",
       "1714  4645  Evaluate performance results and recommends ma...       4\n",
       "1727  4658  Create original insights from data by executin...       1\n",
       "1732  4663  Work with street leading analysts to facilitat...       1\n",
       "1738  4669  Conduct data analysis to make business recomme...       1\n",
       "\n",
       "[241 rows x 3 columns]"
      ]
     },
     "execution_count": 7,
     "metadata": {},
     "output_type": "execute_result"
    }
   ],
   "source": [
    "threshold1 = 0.98\n",
    "pseudo_df = proba_to_pseudo(probas_df, threshold1)\n",
    "pseudo_df.to_csv(f\"4_BRE_XA{threshold1*100}%_pseudo.csv\", index=False)\n",
    "pseudo_df#.description.loc[1712]"
   ]
  },
  {
   "cell_type": "code",
   "execution_count": 8,
   "metadata": {
    "execution": {
     "iopub.execute_input": "2020-08-26T11:26:41.745658Z",
     "iopub.status.busy": "2020-08-26T11:26:41.744859Z",
     "iopub.status.idle": "2020-08-26T11:26:42.247278Z",
     "shell.execute_reply": "2020-08-26T11:26:42.246523Z"
    },
    "papermill": {
     "duration": 0.519878,
     "end_time": "2020-08-26T11:26:42.247404",
     "exception": false,
     "start_time": "2020-08-26T11:26:41.727526",
     "status": "completed"
    },
    "tags": []
   },
   "outputs": [
    {
     "data": {
      "text/plain": [
       "<matplotlib.axes._subplots.AxesSubplot at 0x7fd47769e110>"
      ]
     },
     "execution_count": 8,
     "metadata": {},
     "output_type": "execute_result"
    },
    {
     "data": {
      "image/png": "[encoded data removed]",
      "text/plain": [
       "<Figure size 1728x432 with 3 Axes>"
      ]
     },
     "metadata": {
      "needs_background": "light"
     },
     "output_type": "display_data"
    }
   ],
   "source": [
    "#visualize the data\n",
    "plt.figure(figsize=(24,6))\n",
    "\n",
    "plt.subplot(1,3,1)\n",
    "plt.title(\"train\\n1: Data Scientist,2: ML Engineer,3: Software Engineer,4: Consultant\")\n",
    "train.jobflag.value_counts().plot(kind=\"bar\")\n",
    "\n",
    "plt.subplot(1,3,2)\n",
    "plt.title(\"prediction\\n1: Data Scientist,2: ML Engineer,3: Software Engineer,4: Consultant\")\n",
    "prediction_df.jobflag.value_counts().plot(kind=\"bar\")\n",
    "\n",
    "plt.subplot(1,3,3)\n",
    "plt.title(\"prediction\\n1: Data Scientist,2: ML Engineer,3: Software Engineer,4: Consultant\")\n",
    "pseudo_df.jobflag.value_counts().plot(kind=\"bar\")"
   ]
  },
  {
   "cell_type": "markdown",
   "execution_count": null,
   "metadata": {
    "papermill": {
     "duration": 0.008981,
     "end_time": "2020-08-26T11:26:42.265915",
     "exception": false,
     "start_time": "2020-08-26T11:26:42.256934",
     "status": "completed"
    },
    "tags": []
   },
   "source": [
    "job_dict_init = {1:\"DS\",2:\"MLEng\",3:\"SE\",4:\"Consul\"}\n",
    "confusion_matrix = confusion_matrix(pred_1[\"3\"], pred_2[\"3\"])\n",
    "CMD = ConfusionMatrixDisplay(confusion_matrix=confusion_matrix, display_labels=job_dict_init.values() )\n",
    "CMD.plot()"
   ]
  },
  {
   "cell_type": "code",
   "execution_count": null,
   "metadata": {
    "papermill": {
     "duration": 0.008817,
     "end_time": "2020-08-26T11:26:42.283798",
     "exception": false,
     "start_time": "2020-08-26T11:26:42.274981",
     "status": "completed"
    },
    "tags": []
   },
   "outputs": [],
   "source": []
  }
 ],
 "metadata": {
  "kernelspec": {
   "display_name": "Python 3",
   "language": "python",
   "name": "python3"
  },
  "language_info": {
   "codemirror_mode": {
    "name": "ipython",
    "version": 3
   },
   "file_extension": ".py",
   "mimetype": "text/x-python",
   "name": "python",
   "nbconvert_exporter": "python",
   "pygments_lexer": "ipython3",
   "version": "3.7.6"
  },
  "papermill": {
   "duration": 7.366788,
   "end_time": "2020-08-26T11:26:42.401805",
   "environment_variables": {},
   "exception": null,
   "input_path": "__notebook__.ipynb",
   "output_path": "__notebook__.ipynb",
   "parameters": {},
   "start_time": "2020-08-26T11:26:35.035017",
   "version": "2.1.0"
  }
 },
 "nbformat": 4,
 "nbformat_minor": 4
}
