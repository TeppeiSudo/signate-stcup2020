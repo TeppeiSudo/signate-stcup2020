{
 "cells": [
  {
   "cell_type": "code",
   "execution_count": 1,
   "metadata": {
    "_kg_hide-input": true,
    "execution": {
     "iopub.execute_input": "2020-08-22T12:03:34.127244Z",
     "iopub.status.busy": "2020-08-22T12:03:34.126479Z",
     "iopub.status.idle": "2020-08-22T12:03:43.312163Z",
     "shell.execute_reply": "2020-08-22T12:03:43.311489Z"
    },
    "papermill": {
     "duration": 9.211833,
     "end_time": "2020-08-22T12:03:43.312302",
     "exception": false,
     "start_time": "2020-08-22T12:03:34.100469",
     "status": "completed"
    },
    "tags": []
   },
   "outputs": [
    {
     "name": "stderr",
     "output_type": "stream",
     "text": [
      "\u001b[34m\u001b[1mwandb\u001b[0m: \u001b[33mWARNING\u001b[0m W&B installed but not logged in.  Run `wandb login` or set the WANDB_API_KEY env variable.\n"
     ]
    }
   ],
   "source": [
    "import os\n",
    "import numpy as np\n",
    "import pandas as pd\n",
    "import matplotlib.pyplot as plt\n",
    "import sklearn\n",
    "import sklearn.metrics\n",
    "from sklearn.metrics import confusion_matrix\n",
    "from sklearn.metrics import ConfusionMatrixDisplay\n",
    "from sklearn.model_selection import StratifiedKFold\n",
    "from sklearn.model_selection import train_test_split\n",
    "\n",
    "import time\n",
    "from tqdm import tqdm\n",
    "import random\n",
    "import torch\n",
    "import torch.nn as nn\n",
    "import torch.nn.functional as F\n",
    "from torch.nn import Conv2d, Module, Linear, BatchNorm2d, ReLU\n",
    "import torch.optim as optimizers\n",
    "\n",
    "import transformers\n",
    "from transformers import AdamW\n",
    "from transformers import get_linear_schedule_with_warmup\n",
    "\n",
    "import torchtext\n",
    "from torchtext.data import get_tokenizer\n",
    "from torch.utils.data import random_split\n",
    "from torch.utils.data import Dataset, DataLoader\n",
    "import torchvision.transforms as transforms\n",
    "\n",
    "import warnings\n",
    "warnings.filterwarnings('ignore')"
   ]
  },
  {
   "cell_type": "code",
   "execution_count": 2,
   "metadata": {
    "_kg_hide-input": true,
    "execution": {
     "iopub.execute_input": "2020-08-22T12:03:43.349894Z",
     "iopub.status.busy": "2020-08-22T12:03:43.349118Z",
     "iopub.status.idle": "2020-08-22T12:03:43.355954Z",
     "shell.execute_reply": "2020-08-22T12:03:43.355281Z"
    },
    "papermill": {
     "duration": 0.028138,
     "end_time": "2020-08-22T12:03:43.356063",
     "exception": false,
     "start_time": "2020-08-22T12:03:43.327925",
     "status": "completed"
    },
    "tags": []
   },
   "outputs": [],
   "source": [
    "#set random seed\n",
    "def set_seed(seed: int = 123):\n",
    "    random.seed(seed)\n",
    "    np.random.seed(seed)\n",
    "    os.environ[\"PYTHONHASHSEED\"] = str(seed)\n",
    "    torch.manual_seed(seed)\n",
    "    torch.cuda.manual_seed(seed)  # type: ignore\n",
    "    torch.backends.cudnn.deterministic = True  # type: ignore\n",
    "    torch.backends.cudnn.benchmark = True  # type: ignore\n",
    "    \n",
    "set_seed(123)"
   ]
  },
  {
   "cell_type": "code",
   "execution_count": 3,
   "metadata": {
    "_kg_hide-input": true,
    "execution": {
     "iopub.execute_input": "2020-08-22T12:03:43.389072Z",
     "iopub.status.busy": "2020-08-22T12:03:43.387960Z",
     "iopub.status.idle": "2020-08-22T12:03:44.048596Z",
     "shell.execute_reply": "2020-08-22T12:03:44.047521Z"
    },
    "papermill": {
     "duration": 0.678512,
     "end_time": "2020-08-22T12:03:44.048747",
     "exception": false,
     "start_time": "2020-08-22T12:03:43.370235",
     "status": "completed"
    },
    "tags": []
   },
   "outputs": [],
   "source": [
    "# Easy data augmentation techniques for text classification\n",
    "# Jason Wei and Kai Zou\n",
    "\n",
    "import random\n",
    "from random import shuffle\n",
    "\n",
    "\n",
    "#stop words list\n",
    "stop_words = ['i', 'me', 'my', 'myself', 'we', 'our', \n",
    "\t\t\t'ours', 'ourselves', 'you', 'your', 'yours', \n",
    "\t\t\t'yourself', 'yourselves', 'he', 'him', 'his', \n",
    "\t\t\t'himself', 'she', 'her', 'hers', 'herself', \n",
    "\t\t\t'it', 'its', 'itself', 'they', 'them', 'their', \n",
    "\t\t\t'theirs', 'themselves', 'what', 'which', 'who', \n",
    "\t\t\t'whom', 'this', 'that', 'these', 'those', 'am', \n",
    "\t\t\t'is', 'are', 'was', 'were', 'be', 'been', 'being', \n",
    "\t\t\t'have', 'has', 'had', 'having', 'do', 'does', 'did',\n",
    "\t\t\t'doing', 'a', 'an', 'the', 'and', 'but', 'if', 'or',\n",
    "\t\t\t'because', 'as', 'until', 'while', 'of', 'at', \n",
    "\t\t\t'by', 'for', 'with', 'about', 'against', 'between',\n",
    "\t\t\t'into', 'through', 'during', 'before', 'after', \n",
    "\t\t\t'above', 'below', 'to', 'from', 'up', 'down', 'in',\n",
    "\t\t\t'out', 'on', 'off', 'over', 'under', 'again', \n",
    "\t\t\t'further', 'then', 'once', 'here', 'there', 'when', \n",
    "\t\t\t'where', 'why', 'how', 'all', 'any', 'both', 'each', \n",
    "\t\t\t'few', 'more', 'most', 'other', 'some', 'such', 'no', \n",
    "\t\t\t'nor', 'not', 'only', 'own', 'same', 'so', 'than', 'too', \n",
    "\t\t\t'very', 's', 't', 'can', 'will', 'just', 'don', \n",
    "\t\t\t'should', 'now', '']\n",
    "\n",
    "#cleaning up text\n",
    "import re\n",
    "def get_only_chars(line):\n",
    "\n",
    "    clean_line = \"\"\n",
    "\n",
    "    line = line.replace(\"’\", \"\")\n",
    "    line = line.replace(\"'\", \"\")\n",
    "    line = line.replace(\"-\", \" \") #replace hyphens with spaces\n",
    "    line = line.replace(\"\\t\", \" \")\n",
    "    line = line.replace(\"\\n\", \" \")\n",
    "    line = line.lower()\n",
    "\n",
    "    for char in line:\n",
    "        if char in 'qwertyuiopasdfghjklzxcvbnm ':\n",
    "            clean_line += char\n",
    "        else:\n",
    "            clean_line += ' '\n",
    "\n",
    "    clean_line = re.sub(' +',' ',clean_line) #delete extra spaces\n",
    "    if clean_line[0] == ' ':\n",
    "        clean_line = clean_line[1:]\n",
    "    return clean_line\n",
    "\n",
    "########################################################################\n",
    "# Synonym replacement\n",
    "# Replace n words in the sentence with synonyms from wordnet\n",
    "########################################################################\n",
    "\n",
    "#for the first time you use wordnet\n",
    "#import nltk\n",
    "#nltk.download('wordnet')\n",
    "from nltk.corpus import wordnet \n",
    "\n",
    "def synonym_replacement(words, n):\n",
    "\tnew_words = words.copy()\n",
    "\trandom_word_list = list(set([word for word in words if word not in stop_words]))\n",
    "\trandom.shuffle(random_word_list)\n",
    "\tnum_replaced = 0\n",
    "\tfor random_word in random_word_list:\n",
    "\t\tsynonyms = get_synonyms(random_word)\n",
    "\t\tif len(synonyms) >= 1:\n",
    "\t\t\tsynonym = random.choice(list(synonyms))\n",
    "\t\t\tnew_words = [synonym if word == random_word else word for word in new_words]\n",
    "\t\t\t#print(\"replaced\", random_word, \"with\", synonym)\n",
    "\t\t\tnum_replaced += 1\n",
    "\t\tif num_replaced >= n: #only replace up to n words\n",
    "\t\t\tbreak\n",
    "\n",
    "\t#this is stupid but we need it, trust me\n",
    "\tsentence = ' '.join(new_words)\n",
    "\tnew_words = sentence.split(' ')\n",
    "\n",
    "\treturn new_words\n",
    "\n",
    "def get_synonyms(word):\n",
    "\tsynonyms = set()\n",
    "\tfor syn in wordnet.synsets(word): \n",
    "\t\tfor l in syn.lemmas(): \n",
    "\t\t\tsynonym = l.name().replace(\"_\", \" \").replace(\"-\", \" \").lower()\n",
    "\t\t\tsynonym = \"\".join([char for char in synonym if char in ' qwertyuiopasdfghjklzxcvbnm'])\n",
    "\t\t\tsynonyms.add(synonym) \n",
    "\tif word in synonyms:\n",
    "\t\tsynonyms.remove(word)\n",
    "\treturn list(synonyms)\n",
    "\n",
    "########################################################################\n",
    "# Random deletion\n",
    "# Randomly delete words from the sentence with probability p\n",
    "########################################################################\n",
    "\n",
    "def random_deletion(words, p):\n",
    "\n",
    "\t#obviously, if there's only one word, don't delete it\n",
    "\tif len(words) == 1:\n",
    "\t\treturn words\n",
    "\n",
    "\t#randomly delete words with probability p\n",
    "\tnew_words = []\n",
    "\tfor word in words:\n",
    "\t\tr = random.uniform(0, 1)\n",
    "\t\tif r > p:\n",
    "\t\t\tnew_words.append(word)\n",
    "\n",
    "\t#if you end up deleting all words, just return a random word\n",
    "\tif len(new_words) == 0:\n",
    "\t\trand_int = random.randint(0, len(words)-1)\n",
    "\t\treturn [words[rand_int]]\n",
    "\n",
    "\treturn new_words\n",
    "\n",
    "########################################################################\n",
    "# Random swap\n",
    "# Randomly swap two words in the sentence n times\n",
    "########################################################################\n",
    "\n",
    "def random_swap(words, n):\n",
    "\tnew_words = words.copy()\n",
    "\tfor _ in range(n):\n",
    "\t\tnew_words = swap_word(new_words)\n",
    "\treturn new_words\n",
    "\n",
    "def swap_word(new_words):\n",
    "\trandom_idx_1 = random.randint(0, len(new_words)-1)\n",
    "\trandom_idx_2 = random_idx_1\n",
    "\tcounter = 0\n",
    "\twhile random_idx_2 == random_idx_1:\n",
    "\t\trandom_idx_2 = random.randint(0, len(new_words)-1)\n",
    "\t\tcounter += 1\n",
    "\t\tif counter > 3:\n",
    "\t\t\treturn new_words\n",
    "\tnew_words[random_idx_1], new_words[random_idx_2] = new_words[random_idx_2], new_words[random_idx_1] \n",
    "\treturn new_words\n",
    "\n",
    "########################################################################\n",
    "# Random insertion\n",
    "# Randomly insert n words into the sentence\n",
    "########################################################################\n",
    "\n",
    "def random_insertion(words, n):\n",
    "\tnew_words = words.copy()\n",
    "\tfor _ in range(n):\n",
    "\t\tadd_word(new_words)\n",
    "\treturn new_words\n",
    "\n",
    "def add_word(new_words):\n",
    "\tsynonyms = []\n",
    "\tcounter = 0\n",
    "\twhile len(synonyms) < 1:\n",
    "\t\trandom_word = new_words[random.randint(0, len(new_words)-1)]\n",
    "\t\tsynonyms = get_synonyms(random_word)\n",
    "\t\tcounter += 1\n",
    "\t\tif counter >= 10:\n",
    "\t\t\treturn\n",
    "\trandom_synonym = synonyms[0]\n",
    "\trandom_idx = random.randint(0, len(new_words)-1)\n",
    "\tnew_words.insert(random_idx, random_synonym)\n",
    "\n",
    "########################################################################\n",
    "# main data augmentation function\n",
    "########################################################################\n",
    "\n",
    "def eda(sentence, alpha_sr=0.1, alpha_ri=0.1, alpha_rs=0.1, p_rd=0.1, num_aug=9):\n",
    "\t\n",
    "\tsentence = get_only_chars(sentence)\n",
    "\twords = sentence.split(' ')\n",
    "\twords = [word for word in words if word is not '']\n",
    "\tnum_words = len(words)\n",
    "\t\n",
    "\taugmented_sentences = []\n",
    "\tnum_new_per_technique = int(num_aug/4)+1\n",
    "\tn_sr = max(1, int(alpha_sr*num_words))\n",
    "\tn_ri = max(1, int(alpha_ri*num_words))\n",
    "\tn_rs = max(1, int(alpha_rs*num_words))\n",
    "\n",
    "\t#sr\n",
    "\tfor _ in range(num_new_per_technique):\n",
    "\t\ta_words = synonym_replacement(words, n_sr)\n",
    "\t\taugmented_sentences.append(' '.join(a_words))\n",
    "\n",
    "\t#ri\n",
    "\tfor _ in range(num_new_per_technique):\n",
    "\t\ta_words = random_insertion(words, n_ri)\n",
    "\t\taugmented_sentences.append(' '.join(a_words))\n",
    "\n",
    "\t#rs\n",
    "\tfor _ in range(num_new_per_technique):\n",
    "\t\ta_words = random_swap(words, n_rs)\n",
    "\t\taugmented_sentences.append(' '.join(a_words))\n",
    "\n",
    "\t#rd\n",
    "\tfor _ in range(num_new_per_technique):\n",
    "\t\ta_words = random_deletion(words, p_rd)\n",
    "\t\taugmented_sentences.append(' '.join(a_words))\n",
    "\n",
    "\taugmented_sentences = [get_only_chars(sentence) for sentence in augmented_sentences]\n",
    "\tshuffle(augmented_sentences)\n",
    "\n",
    "\t#trim so that we have the desired number of augmented sentences\n",
    "\tif num_aug >= 1:\n",
    "\t\taugmented_sentences = augmented_sentences[:num_aug]\n",
    "\telse:\n",
    "\t\tkeep_prob = num_aug / len(augmented_sentences)\n",
    "\t\taugmented_sentences = [s for s in augmented_sentences if random.uniform(0, 1) < keep_prob]\n",
    "\n",
    "\t#append the original sentence\n",
    "\taugmented_sentences.append(sentence)\n",
    "\n",
    "\treturn augmented_sentences"
   ]
  },
  {
   "cell_type": "code",
   "execution_count": 4,
   "metadata": {
    "_kg_hide-input": true,
    "execution": {
     "iopub.execute_input": "2020-08-22T12:03:44.096212Z",
     "iopub.status.busy": "2020-08-22T12:03:44.091779Z",
     "iopub.status.idle": "2020-08-22T12:03:44.099078Z",
     "shell.execute_reply": "2020-08-22T12:03:44.098581Z"
    },
    "papermill": {
     "duration": 0.035542,
     "end_time": "2020-08-22T12:03:44.099183",
     "exception": false,
     "start_time": "2020-08-22T12:03:44.063641",
     "status": "completed"
    },
    "tags": []
   },
   "outputs": [],
   "source": [
    "def expand_dataset(df, num_aug):\n",
    "    aug_dict = {\"id\": [],\n",
    "                \"description\": [],\n",
    "               \"jobflag\": []}\n",
    "    \n",
    "    # weight to balance amount of data\n",
    "    weight = [len(df[df.jobflag==n+1]) for n in range(len(df.jobflag.unique()))]\n",
    "    \n",
    "    for idx in tqdm(range(len(df))):\n",
    "        \n",
    "        if num_aug == 8:\n",
    "            alpha_sr=0.05\n",
    "            alpha_ri=0.05\n",
    "            alpha_rs=0.05\n",
    "            p_rd=0.05\n",
    "        \n",
    "        else:\n",
    "            num_aug = 4\n",
    "            alpha_sr=0.1\n",
    "            alpha_ri=0.1\n",
    "            alpha_rs=0.1\n",
    "            p_rd=0.1\n",
    "        \n",
    "        # weight to balance the amount of labels\n",
    "        if df.jobflag.iloc[idx] == 1:\n",
    "            num_aug = int(num_aug*weight[2-1]/weight[1-1])\n",
    "        elif df.jobflag.iloc[idx] == 2:\n",
    "            # standard\n",
    "            num_aug = num_aug\n",
    "        elif df.jobflag.iloc[idx] == 3:\n",
    "            num_aug = int(num_aug*weight[2-1]/weight[3-1])\n",
    "        elif df.jobflag.iloc[idx] == 4:\n",
    "            num_aug = int(num_aug*weight[2-1]/weight[4-1])\n",
    "            \n",
    "            \n",
    "        #Augmentation \n",
    "        aug = eda(df.description.iloc[idx], alpha_sr=alpha_sr, alpha_ri=alpha_ri, alpha_rs=alpha_rs, p_rd=p_rd, num_aug=num_aug)\n",
    "        job = df.jobflag.iloc[idx]\n",
    "        ids = df.id.iloc[idx]\n",
    "        for n in range(len(aug)):\n",
    "            aug_dict[\"id\"].append(ids)\n",
    "            aug_dict[\"description\"].append(aug[n])\n",
    "            aug_dict[\"jobflag\"].append(job)\n",
    "       \n",
    "    print('now augmentation compleet !!')\n",
    "            \n",
    "    aug_df = pd.DataFrame(aug_dict)\n",
    "    return aug_df"
   ]
  },
  {
   "cell_type": "code",
   "execution_count": 5,
   "metadata": {
    "_cell_guid": "79c7e3d0-c299-4dcb-8224-4455121ee9b0",
    "_uuid": "d629ff2d2480ee46fbb7e2d37f6b5fab8052498a",
    "execution": {
     "iopub.execute_input": "2020-08-22T12:03:44.136300Z",
     "iopub.status.busy": "2020-08-22T12:03:44.135650Z",
     "iopub.status.idle": "2020-08-22T12:03:44.168466Z",
     "shell.execute_reply": "2020-08-22T12:03:44.167884Z"
    },
    "papermill": {
     "duration": 0.054818,
     "end_time": "2020-08-22T12:03:44.168576",
     "exception": false,
     "start_time": "2020-08-22T12:03:44.113758",
     "status": "completed"
    },
    "tags": []
   },
   "outputs": [],
   "source": [
    "#read data_files\n",
    "train = pd.read_csv('../input/signate-stcup-2020/train.csv')\n",
    "test = pd.read_csv('../input/signate-stcup2020-new/test.csv')"
   ]
  },
  {
   "cell_type": "code",
   "execution_count": 6,
   "metadata": {
    "execution": {
     "iopub.execute_input": "2020-08-22T12:03:44.203437Z",
     "iopub.status.busy": "2020-08-22T12:03:44.202663Z",
     "iopub.status.idle": "2020-08-22T12:03:44.595879Z",
     "shell.execute_reply": "2020-08-22T12:03:44.596489Z"
    },
    "papermill": {
     "duration": 0.413136,
     "end_time": "2020-08-22T12:03:44.596658",
     "exception": false,
     "start_time": "2020-08-22T12:03:44.183522",
     "status": "completed"
    },
    "tags": []
   },
   "outputs": [
    {
     "data": {
      "text/plain": [
       "<matplotlib.axes._subplots.AxesSubplot at 0x7f4ba8202fd0>"
      ]
     },
     "execution_count": 6,
     "metadata": {},
     "output_type": "execute_result"
    },
    {
     "data": {
      "image/png": "[encoded data removed]",
      "text/plain": [
       "<Figure size 432x288 with 1 Axes>"
      ]
     },
     "metadata": {
      "needs_background": "light"
     },
     "output_type": "display_data"
    }
   ],
   "source": [
    "#visualize the data\n",
    "plt.figure()\n",
    "plt.title(\"1: Data Scientist,2: ML Engineer,3: Software Engineer,4: Consultant\")\n",
    "train.jobflag.value_counts().plot(kind=\"bar\")"
   ]
  },
  {
   "cell_type": "code",
   "execution_count": 7,
   "metadata": {
    "_kg_hide-input": true,
    "execution": {
     "iopub.execute_input": "2020-08-22T12:03:44.651742Z",
     "iopub.status.busy": "2020-08-22T12:03:44.647082Z",
     "iopub.status.idle": "2020-08-22T12:03:44.654953Z",
     "shell.execute_reply": "2020-08-22T12:03:44.654313Z"
    },
    "papermill": {
     "duration": 0.039531,
     "end_time": "2020-08-22T12:03:44.655071",
     "exception": false,
     "start_time": "2020-08-22T12:03:44.615540",
     "status": "completed"
    },
    "tags": []
   },
   "outputs": [],
   "source": [
    "\n",
    "\"\"\"\n",
    "https://github.com/allenai/dont-stop-pretraining/blob/master/mlm_study/huggingface_study/mlm.py\n",
    "\"\"\"\n",
    "from typing import Tuple, List\n",
    "from transformers import  AutoModelWithLMHead, AutoTokenizer, PreTrainedTokenizer\n",
    "from torch.utils.data import DataLoader, Dataset, RandomSampler, SequentialSampler\n",
    "from torch.nn.utils.rnn import pad_sequence\n",
    "\n",
    "def mask_tokens(inputs, tokenizer, mlm_probability=0.15):\n",
    "    \"\"\" Prepare masked tokens inputs/labels for masked language modeling: 80% MASK, 10% random, 10% original. \"\"\"\n",
    "    \n",
    "    if tokenizer.mask_token is None:\n",
    "        raise ValueError(\n",
    "            \"This tokenizer does not have a mask token which is necessary for masked language modeling. Remove the --mlm flag if you want to use this tokenizer.\"\n",
    "        )\n",
    "\n",
    "    labels = inputs.clone()\n",
    "    # We sample a few tokens in each sequence for masked-LM training (with probability args.mlm_probability defaults to 0.15 in Bert/RoBERTa)\n",
    "    probability_matrix = torch.full(labels.shape, mlm_probability)\n",
    "    special_tokens_mask = [\n",
    "        tokenizer.get_special_tokens_mask(val, already_has_special_tokens=True) for val in labels.tolist()\n",
    "    ]\n",
    "\n",
    "    probability_matrix.masked_fill_(torch.tensor(special_tokens_mask, dtype=torch.bool), value=0.0)\n",
    "    if tokenizer._pad_token is not None:\n",
    "        padding_mask = labels.eq(tokenizer.pad_token_id)\n",
    "        probability_matrix.masked_fill_(padding_mask, value=0.0)\n",
    "    masked_indices = torch.bernoulli(probability_matrix).bool()\n",
    "    labels[~masked_indices] = -100  # We only compute loss on masked tokens\n",
    "\n",
    "    # 80% of the time, we replace masked input tokens with tokenizer.mask_token ([MASK])\n",
    "    indices_replaced = torch.bernoulli(torch.full(labels.shape, 0.8)).bool() & masked_indices\n",
    "    inputs[indices_replaced] = tokenizer.convert_tokens_to_ids(tokenizer.mask_token)\n",
    "    \n",
    "    # 10% of the time, we replace masked input tokens with random word\n",
    "    indices_random = torch.bernoulli(torch.full(labels.shape, 0.5)).bool() & masked_indices & ~indices_replaced\n",
    "    random_words = torch.randint(len(tokenizer), labels.shape, dtype=torch.long)\n",
    "    inputs[indices_random] = random_words[indices_random]\n",
    "\n",
    "    # The rest of the time (10% of the time) we keep the masked input tokens unchanged\n",
    "    return inputs, labels"
   ]
  },
  {
   "cell_type": "code",
   "execution_count": 8,
   "metadata": {
    "execution": {
     "iopub.execute_input": "2020-08-22T12:03:44.704183Z",
     "iopub.status.busy": "2020-08-22T12:03:44.703230Z",
     "iopub.status.idle": "2020-08-22T12:03:44.706277Z",
     "shell.execute_reply": "2020-08-22T12:03:44.705704Z"
    },
    "papermill": {
     "duration": 0.030857,
     "end_time": "2020-08-22T12:03:44.706396",
     "exception": false,
     "start_time": "2020-08-22T12:03:44.675539",
     "status": "completed"
    },
    "tags": []
   },
   "outputs": [],
   "source": [
    "#define dataset\n",
    "class TAPT_Dataset(Dataset):\n",
    "    def __init__(self, csv_file, model_type):\n",
    "        self.csv_file = csv_file\n",
    "        \n",
    "        if model_type == \"BERT\":\n",
    "            from transformers import BertTokenizer\n",
    "            self.tokenizer = BertTokenizer.from_pretrained(\"bert-base-cased\")\n",
    "            \n",
    "        elif model_type == \"ALBERT\":\n",
    "            from transformers import AlbertTokenizer\n",
    "            self.tokenizer = AlbertTokenizer.from_pretrained('albert-large-v2')\n",
    "            \n",
    "        elif model_type == \"XLNET\":\n",
    "            from transformers import XLNetTokenizer\n",
    "            self.tokenizer = XLNetTokenizer.from_pretrained('xlnet-base-cased')\n",
    "        \n",
    "        elif model_type == \"ROBERTA\":\n",
    "            from transformers import RobertaTokenizer\n",
    "            self.tokenizer = RobertaTokenizer.from_pretrained('roberta-base')\n",
    "            \n",
    "    def __len__(self):\n",
    "        return len(self.csv_file)\n",
    "    \n",
    "    def __getitem__(self, idx):\n",
    "        \n",
    "        inputs = self.csv_file.description.iloc[idx]\n",
    "        inputs = self.tokenizer.encode_plus(inputs, max_length=128, \n",
    "                                           pad_to_max_length = True,\n",
    "                                           return_attention_mask = False,\n",
    "                                           return_token_type_ids=False,)\n",
    "        inputs = torch.tensor(inputs['input_ids'])\n",
    "        \n",
    "        return inputs"
   ]
  },
  {
   "cell_type": "code",
   "execution_count": 9,
   "metadata": {
    "_kg_hide-input": true,
    "execution": {
     "iopub.execute_input": "2020-08-22T12:03:44.746204Z",
     "iopub.status.busy": "2020-08-22T12:03:44.745305Z",
     "iopub.status.idle": "2020-08-22T12:03:44.748524Z",
     "shell.execute_reply": "2020-08-22T12:03:44.747976Z"
    },
    "papermill": {
     "duration": 0.026093,
     "end_time": "2020-08-22T12:03:44.748631",
     "exception": false,
     "start_time": "2020-08-22T12:03:44.722538",
     "status": "completed"
    },
    "tags": []
   },
   "outputs": [],
   "source": [
    "def model_config(csv_file, model_type, num_workers):\n",
    "    tapt_dataset = TAPT_Dataset(csv_file=csv_file, model_type=model_type)\n",
    "\n",
    "    tapt_dataloader = DataLoader(tapt_dataset, batch_size=batch_size, shuffle=True,\n",
    "                                        num_workers=num_workers, pin_memory=True, drop_last=True)\n",
    "    \n",
    "    model = MLM_Net(model_type=model_type)\n",
    "    \n",
    "    return tapt_dataloader, model"
   ]
  },
  {
   "cell_type": "code",
   "execution_count": 10,
   "metadata": {
    "_kg_hide-input": true,
    "execution": {
     "iopub.execute_input": "2020-08-22T12:03:44.798080Z",
     "iopub.status.busy": "2020-08-22T12:03:44.797139Z",
     "iopub.status.idle": "2020-08-22T12:03:44.799931Z",
     "shell.execute_reply": "2020-08-22T12:03:44.800480Z"
    },
    "papermill": {
     "duration": 0.034803,
     "end_time": "2020-08-22T12:03:44.800608",
     "exception": false,
     "start_time": "2020-08-22T12:03:44.765805",
     "status": "completed"
    },
    "tags": []
   },
   "outputs": [],
   "source": [
    "#define BERT based model\n",
    "class MLM_Net(nn.Module):\n",
    "    def __init__(self, model_type):\n",
    "        super().__init__()\n",
    "        \n",
    "        if model_type == \"ALBERT\":\n",
    "            from transformers import AlbertTokenizer, AlbertForMaskedLM\n",
    "            self.model_ = AlbertForMaskedLM.from_pretrained(\n",
    "                \"albert-large-v2\",early_stopping=True)\n",
    "            \n",
    "        elif model_type == \"BERT\":\n",
    "            from transformers import BertTokenizer, BertForMaskedLM\n",
    "            self.model_ = BertForMaskedLM.from_pretrained(\n",
    "                \"bert-base-cased\",early_stopping=True)\n",
    "            \n",
    "        elif model_type == \"XLNET\":\n",
    "            from transformers import XLNetTokenizer, XLNetForMaskedLM\n",
    "            self.model_ = XLNetForMaskedLM.from_pretrained(\n",
    "                \"xlnet-base-cased\",early_stopping=True)\n",
    "            \n",
    "        elif model_type == \"ROBERTA\":\n",
    "            from transformers import RobertaTokenizer, RobertaForMaskedLM\n",
    "            self.model_ = RobertaForMaskedLM.from_pretrained(\n",
    "                \"roberta-base\",early_stopping=True)\n",
    "            \n",
    "        for param in self.model_.parameters():\n",
    "            param.requires_grad = True\n",
    "        \n",
    "    def forward(self, x, t):\n",
    "        \"\"\"\n",
    "        inputs = self.model_.prepare_inputs_for_generation(input_ids=x)\n",
    "        ids = inputs[\"input_ids\"]\n",
    "        mask = inputs[\"attention_mask\"]\n",
    "        \"\"\"\n",
    "        try:\n",
    "            outputs = self.model_(input_ids=x, attention_mask=None, lm_labels=t)\n",
    "        except:\n",
    "            outputs = self.model_(input_ids=x, attention_mask=None, labels=t)\n",
    "            \n",
    "        loss, prediction_scores = outputs[:2]\n",
    "        \n",
    "        #del inputs, ids, mask, x\n",
    "        return loss, prediction_scores\n",
    "    \n",
    "    def save_(self, DIR):\n",
    "        self.model_.save_pretrained(DIR)"
   ]
  },
  {
   "cell_type": "code",
   "execution_count": 11,
   "metadata": {
    "_kg_hide-input": true,
    "execution": {
     "iopub.execute_input": "2020-08-22T12:03:44.873131Z",
     "iopub.status.busy": "2020-08-22T12:03:44.854085Z",
     "iopub.status.idle": "2020-08-22T12:03:44.876163Z",
     "shell.execute_reply": "2020-08-22T12:03:44.875526Z"
    },
    "papermill": {
     "duration": 0.058274,
     "end_time": "2020-08-22T12:03:44.876266",
     "exception": false,
     "start_time": "2020-08-22T12:03:44.817992",
     "status": "completed"
    },
    "tags": []
   },
   "outputs": [],
   "source": [
    "#train utils\n",
    "def train_step(x, t, model, optimizer):\n",
    "    #preds = model(x)\n",
    "    #loss = compute_loss(t, preds)\n",
    "    #accuracy = compute_accuracy(torch.argmax(t,dim=1), torch.argmax(preds,dim=1))\n",
    "    loss, preds = model(x, t)\n",
    "    optimizer.zero_grad()\n",
    "    loss.backward()\n",
    "    optimizer.step()\n",
    "    #scheduler.step()\n",
    "    return loss, preds\n",
    "\n",
    "def val_step(x, model, optimizer):\n",
    "    #preds = model(x)\n",
    "    #loss = compute_loss(t, preds)\n",
    "    #accuracy = compute_accuracy(torch.argmax(t,dim=1), torch.argmax(preds,dim=1))\n",
    "    loss, preds = model(x)\n",
    "    return loss, preds\n",
    "\n",
    "\n",
    "#define EarlyStopping\n",
    "class EarlyStopping:\n",
    "    def __init__(self, patience=0, verbose=0, score_type=\"loss\"):\n",
    "        self._step = 0\n",
    "        self.score_type = score_type\n",
    "        if score_type == \"loss\":\n",
    "            self._score = float('inf')\n",
    "        elif score_type == \"acc\":\n",
    "            self._score = -float('inf')\n",
    "        self.patience = patience\n",
    "        self.verbose = verbose\n",
    "\n",
    "    def __call__(self, loss, acc, epoch, model_dict, optim_dict, PATH):\n",
    "        score = loss if self.score_type==\"loss\" else acc\n",
    "        if self.score_check(score):\n",
    "            self._step += 1\n",
    "            if self._step > self.patience:\n",
    "                if self.verbose:\n",
    "                    print('early stopping')\n",
    "                return True\n",
    "        else:\n",
    "            self._step = 0\n",
    "            self._score = score\n",
    "            torch.save({\n",
    "            'epoch': epoch,\n",
    "            'model_state_dict': model_dict,\n",
    "            'optimizer_state_dict': optim_dict,\n",
    "            'loss': loss,\n",
    "            \"accuracy\": acc,\n",
    "            }, PATH)\n",
    "            print('Save check_point for \"{}\"'.format(PATH))\n",
    "    \n",
    "    def score_check(self,score):\n",
    "        if self.score_type == \"loss\":\n",
    "            if self._score < score:\n",
    "                return True\n",
    "            else:\n",
    "                return False\n",
    "        elif self.score_type == \"acc\":\n",
    "            if self._score > score:\n",
    "                return True\n",
    "            else:\n",
    "                return False\n",
    "\n",
    "        return False\n",
    "\n",
    "# define HistoryRecorder\n",
    "class HistoryRecorder:\n",
    "    def __init__(self, hist_type=2):\n",
    "        self.hist_type = hist_type\n",
    "        \n",
    "        if self.hist_type ==1:\n",
    "            self.hist = {'loss': [], 'val_loss': []}\n",
    "        elif self.hist_type == 2:\n",
    "            self.hist = {'loss': [], 'val_loss': [], \"acc\": [], \"val_acc\": []}\n",
    "        elif self.hist_type == 3:\n",
    "            self.hist = {\"loss\": [], \"acc\": []}\n",
    "        \n",
    "    def record(self, loss, val_loss=None, \n",
    "              acc=None, val_acc=None):\n",
    "        \n",
    "        if self.hist_type == 1 or 2:\n",
    "            self.hist[\"loss\"].append(loss)\n",
    "            self.hist[\"val_loss\"].append(val_loss)\n",
    "            if self.hist_type == 2:\n",
    "                self.hist[\"acc\"].append(acc)\n",
    "                self.hist[\"val_acc\"].append(val_acc)\n",
    "                \n",
    "        elif self.hist_type == 3:\n",
    "            self.hist[\"loss\"].append(loss)\n",
    "            self.hist[\"acc\"].append(acc)\n",
    "        \n",
    "    def hist(self):\n",
    "        return self.hist\n",
    "\n",
    "    \n",
    "# visualizing function\n",
    "def show_hist(loss=None, val_loss=None, acc=None, val_acc=None,\n",
    "              hist=None, loss_type=None, acc_type=None):   \n",
    "    if hist:\n",
    "        loss = hist['loss']\n",
    "        val_loss = hist['val_loss']\n",
    "        acc = hist[\"acc\"]\n",
    "        val_acc = hist[\"val_acc\"]\n",
    "    \n",
    "    plt.figure(figsize=(10,12))\n",
    "    #visualize loss\n",
    "    plt.subplot(2,1,1)\n",
    "    plt.rc('font', family='serif')\n",
    "    plt.plot(range(len(loss)), loss,\n",
    "             color='blue', linewidth=1,\n",
    "             label='train_loss')\n",
    "    plt.plot(range(len(val_loss)), val_loss,\n",
    "             color='red', linewidth=1,\n",
    "             label='val_loss')\n",
    "    plt.xlabel('epochs')\n",
    "    plt.ylabel('loss (type = {})'.format(loss_type if loss_type else \"None\"))\n",
    "    plt.legend()\n",
    "    \n",
    "    #visualize accurauy\n",
    "    plt.subplot(2,1,2)\n",
    "    plt.rc('font', family='serif')\n",
    "    plt.plot(range(len(acc)), acc,\n",
    "             color='blue', linewidth=1,\n",
    "             label='train_acc')\n",
    "    plt.plot(range(len(val_acc)), val_acc,\n",
    "             color='red', linewidth=1,\n",
    "             label='val_acc')\n",
    "    plt.xlabel('epochs')\n",
    "    plt.ylabel('accuracy (type = {})'.format(acc_type if acc_type else \"None\"))\n",
    "    plt.legend()\n",
    "    \n",
    "    plt.show()"
   ]
  },
  {
   "cell_type": "code",
   "execution_count": 12,
   "metadata": {
    "_kg_hide-input": true,
    "execution": {
     "iopub.execute_input": "2020-08-22T12:03:44.925156Z",
     "iopub.status.busy": "2020-08-22T12:03:44.924284Z",
     "iopub.status.idle": "2020-08-22T12:03:44.931214Z",
     "shell.execute_reply": "2020-08-22T12:03:44.931972Z"
    },
    "papermill": {
     "duration": 0.038506,
     "end_time": "2020-08-22T12:03:44.932158",
     "exception": false,
     "start_time": "2020-08-22T12:03:44.893652",
     "status": "completed"
    },
    "tags": []
   },
   "outputs": [],
   "source": [
    "def RUN_TAPT(train_dataloader, tokenizer, model, optimizer, epochs=10):\n",
    "    #training phase\n",
    "    if __name__ == '__main__':\n",
    "\n",
    "        #es = EarlyStopping(patience=patience, verbose=1, score_type=\"loss\")\n",
    "        hist = HistoryRecorder(hist_type=2)\n",
    "\n",
    "        model.to(device)\n",
    "        for epoch in range(epochs):\n",
    "            train_loss = 0.\n",
    "            val_loss = 0.\n",
    "            train_acc = 0.\n",
    "            val_acc = 0.\n",
    "\n",
    "            model.train()#####training phase#####\n",
    "            for x in tqdm(train_dataloader):\n",
    "                x, t = mask_tokens(inputs=x, tokenizer=tokenizer)\n",
    "                x, t = x.to(device), t.to(device)\n",
    "                #x = x.to(device)\n",
    "                loss, preds = train_step(x, t, model, optimizer)\n",
    "                train_loss += loss.detach().item()\n",
    "                #train_acc += accuracy.to('cpu')\n",
    "            train_loss /= len(train_dataloader)\n",
    "            train_acc /= len(train_dataloader)\n",
    "\n",
    "            hist.record(train_loss,val_loss,train_acc,val_acc)\n",
    "            print('epoch: {}, train_loss: {:.3}, train_acc:{:.3}'.format(\n",
    "                    epoch+1, train_loss, train_acc))\n",
    "            \n",
    "            \n",
    "        model.save_(\"./\")\n",
    "        ## visualize train_loss and val_loss ##\n",
    "        show_hist(hist=hist.hist, loss_type=\"LM_loss\", acc_type=\"prediction_score\")"
   ]
  },
  {
   "cell_type": "code",
   "execution_count": 13,
   "metadata": {
    "execution": {
     "iopub.execute_input": "2020-08-22T12:03:44.992253Z",
     "iopub.status.busy": "2020-08-22T12:03:44.987867Z",
     "iopub.status.idle": "2020-08-22T12:03:44.994806Z",
     "shell.execute_reply": "2020-08-22T12:03:44.995295Z"
    },
    "papermill": {
     "duration": 0.039984,
     "end_time": "2020-08-22T12:03:44.995443",
     "exception": false,
     "start_time": "2020-08-22T12:03:44.955459",
     "status": "completed"
    },
    "tags": []
   },
   "outputs": [],
   "source": [
    "def main(csv_files, csv_files_2, model_type, num_aug, max_len, batch_size, num_workers, epochs):\n",
    "    # \n",
    "    if model_type == \"BERT\":\n",
    "        from transformers import BertTokenizer\n",
    "        tokenizer = BertTokenizer.from_pretrained(\"bert-base-cased\")\n",
    "            \n",
    "    elif model_type == \"ALBERT\":\n",
    "        from transformers import AlbertTokenizer\n",
    "        tokenizer = AlbertTokenizer.from_pretrained('albert-large-v2')\n",
    "            \n",
    "    elif model_type == \"XLNET\":\n",
    "        from transformers import XlnetTokenizer\n",
    "        tokenizer = XLNetTokenizer.from_pretrained('xlnet-base-cased')\n",
    "        \n",
    "    elif model_type == \"ROBERTA\":\n",
    "        from transformers import RobertaTokenizer\n",
    "        tokenizer = RobertaTokenizer.from_pretrained('roberta-base')\n",
    "    \n",
    "    # concat data files\n",
    "    csv_file = pd.DataFrame([])\n",
    "    for file in csv_files:\n",
    "        file = pd.read_csv(file)\n",
    "        csv_file = pd.concat([csv_file, file])\n",
    "    \n",
    "    print(f'the amount of data is {len(csv_file)}')\n",
    "    \n",
    "    # DataAugmentation\n",
    "    if num_aug:\n",
    "        print('now augmentation...')\n",
    "        csv_file = expand_dataset(csv_file, num_aug)\n",
    "        \n",
    "    # define dataloader and optimizer\n",
    "    tapt_dataloader, model = model_config(csv_file, num_workers=num_workers, model_type=model_type)\n",
    "    optimizer = AdamW(model.parameters(), lr=1e-5)\n",
    "    \n",
    "    # run\n",
    "    RUN_TAPT(train_dataloader=tapt_dataloader,\n",
    "             tokenizer=tokenizer,\n",
    "             epochs=epochs, model=model, \n",
    "             optimizer=optimizer)\n",
    "    \n",
    "    \n",
    "    ## 2周目 ##\n",
    "    # config\n",
    "    csv_files = csv_files_2\n",
    "    epochs *= 8\n",
    "    num_aug = None\n",
    "    \n",
    "    # concat data files\n",
    "    csv_file = pd.DataFrame([])\n",
    "    for file in csv_files:\n",
    "        file = pd.read_csv(file)\n",
    "        csv_file = pd.concat([csv_file, file])\n",
    "    \n",
    "    print(f'the amount of data is {len(csv_file)}')\n",
    "\n",
    "    # DataAugmentation\n",
    "    if num_aug:\n",
    "        print('now augmentation...')\n",
    "        csv_file = expand_dataset(csv_file, num_aug)\n",
    "        \n",
    "    # define dataloader and optimizer\n",
    "    tapt_dataloader, _ = model_config(csv_file, num_workers=num_workers, model_type=model_type)\n",
    "    \n",
    "    RUN_TAPT(train_dataloader=tapt_dataloader,\n",
    "             tokenizer=tokenizer,\n",
    "             epochs=epochs, model=model, \n",
    "             optimizer=optimizer)"
   ]
  },
  {
   "cell_type": "code",
   "execution_count": 14,
   "metadata": {
    "execution": {
     "iopub.execute_input": "2020-08-22T12:03:45.387695Z",
     "iopub.status.busy": "2020-08-22T12:03:45.386943Z",
     "iopub.status.idle": "2020-08-22T12:03:45.391145Z",
     "shell.execute_reply": "2020-08-22T12:03:45.391658Z"
    },
    "papermill": {
     "duration": 0.378804,
     "end_time": "2020-08-22T12:03:45.391811",
     "exception": false,
     "start_time": "2020-08-22T12:03:45.013007",
     "status": "completed"
    },
    "tags": []
   },
   "outputs": [],
   "source": [
    "device = torch.device('cuda' if torch.cuda.is_available() else 'cpu')"
   ]
  },
  {
   "cell_type": "code",
   "execution_count": 15,
   "metadata": {
    "execution": {
     "iopub.execute_input": "2020-08-22T12:03:45.437412Z",
     "iopub.status.busy": "2020-08-22T12:03:45.436738Z",
     "iopub.status.idle": "2020-08-22T12:03:45.440713Z",
     "shell.execute_reply": "2020-08-22T12:03:45.441171Z"
    },
    "papermill": {
     "duration": 0.030682,
     "end_time": "2020-08-22T12:03:45.441306",
     "exception": false,
     "start_time": "2020-08-22T12:03:45.410624",
     "status": "completed"
    },
    "tags": []
   },
   "outputs": [],
   "source": [
    "##### training configuration #####\n",
    "csv_files = [\"../input/augmented-train-test/stcup2020-test-google-ar-all.csv\",\n",
    "            \"../input/augmented-train-test/stcup2020-test-google-bg-all.csv\",\n",
    "            \"../input/augmented-train-test/stcup2020-test-google-de-all.csv\",\n",
    "            \"../input/augmented-train-test/stcup2020-test-google-el-all.csv\",\n",
    "            \"../input/augmented-train-test/stcup2020-test-google-es-all.csv\",\n",
    "            \"../input/augmented-train-test/stcup2020-test-google-hi-all.csv\",\n",
    "            \"../input/augmented-train-test/stcup2020-test-google-sw-all.csv\",\n",
    "            \"../input/augmented-train-test/stcup2020-test-google-vi-all.csv\",\n",
    "            \"../input/augmented-train-test/stcup2020-train-google-ar-all.csv\",\n",
    "            \"../input/augmented-train-test/stcup2020-train-google-bg-all.csv\",\n",
    "            \"../input/augmented-train-test/stcup2020-train-google-de-all.csv\",\n",
    "            \"../input/augmented-train-test/stcup2020-train-google-el-all.csv\",\n",
    "            \"../input/augmented-train-test/stcup2020-train-google-es-all.csv\",\n",
    "            \"../input/augmented-train-test/stcup2020-train-google-hi-all.csv\",\n",
    "            \"../input/augmented-train-test/stcup2020-train-google-sw-all.csv\",\n",
    "            \"../input/augmented-train-test/stcup2020-train-google-vi-all.csv\",\n",
    "            \"../input/signate-stcup-2020/train.csv\", \n",
    "            \"../input/signate-stcup2020-new/test.csv\"\n",
    "            ]\n",
    "\n",
    "csv_files_2 = [\"../input/signate-stcup-2020/train.csv\",\n",
    "            \"../input/signate-stcup2020-new/test.csv\"]\n",
    "\n",
    "# augmentation type => 4 or 8, or None\n",
    "num_aug = None\n",
    "\n",
    "#training model => [\"BERT\", \"ALBERT\", \"XLNET\", \"ROBERTA\"]\n",
    "model_type = \"BERT\"\n",
    "version = 3 # version will used for PATH{=\"model_type\" + \"_v\" + str(version) + \"x-folds\"(n_folds > 1)}\n",
    "                # example: \"ALBERT_v1_0\", \"XLNET_v4_4\"\n",
    "max_len = 128\n",
    "\n",
    "###\n",
    "batch_size = 32\n",
    "num_workers = 4\n",
    "epochs = 5"
   ]
  },
  {
   "cell_type": "code",
   "execution_count": 16,
   "metadata": {
    "execution": {
     "iopub.execute_input": "2020-08-22T12:03:45.482589Z",
     "iopub.status.busy": "2020-08-22T12:03:45.481917Z",
     "iopub.status.idle": "2020-08-22T13:46:27.820817Z",
     "shell.execute_reply": "2020-08-22T13:46:27.820155Z"
    },
    "papermill": {
     "duration": 6162.361848,
     "end_time": "2020-08-22T13:46:27.820943",
     "exception": false,
     "start_time": "2020-08-22T12:03:45.459095",
     "status": "completed"
    },
    "tags": []
   },
   "outputs": [
    {
     "data": {
      "application/vnd.jupyter.widget-view+json": {
       "model_id": "f75968e9d2b844d68d4938f1d09e1104",
       "version_major": 2,
       "version_minor": 0
      },
      "text/plain": [
       "HBox(children=(FloatProgress(value=0.0, description='Downloading', max=213450.0, style=ProgressStyle(descripti…"
      ]
     },
     "metadata": {},
     "output_type": "display_data"
    },
    {
     "name": "stdout",
     "output_type": "stream",
     "text": [
      "\n",
      "the amount of data is 42066\n"
     ]
    },
    {
     "data": {
      "application/vnd.jupyter.widget-view+json": {
       "model_id": "b0a52925a3b544d9aaf900a6e264b2d1",
       "version_major": 2,
       "version_minor": 0
      },
      "text/plain": [
       "HBox(children=(FloatProgress(value=0.0, description='Downloading', max=433.0, style=ProgressStyle(description_…"
      ]
     },
     "metadata": {},
     "output_type": "display_data"
    },
    {
     "name": "stdout",
     "output_type": "stream",
     "text": [
      "\n"
     ]
    },
    {
     "data": {
      "application/vnd.jupyter.widget-view+json": {
       "model_id": "720142d41a034eaab443533e56b892b5",
       "version_major": 2,
       "version_minor": 0
      },
      "text/plain": [
       "HBox(children=(FloatProgress(value=0.0, description='Downloading', max=435779157.0, style=ProgressStyle(descri…"
      ]
     },
     "metadata": {},
     "output_type": "display_data"
    },
    {
     "name": "stdout",
     "output_type": "stream",
     "text": [
      "\n"
     ]
    },
    {
     "name": "stderr",
     "output_type": "stream",
     "text": [
      "100%|██████████| 1314/1314 [10:43<00:00,  2.04it/s]\n",
      "  0%|          | 0/1314 [00:00<?, ?it/s]"
     ]
    },
    {
     "name": "stdout",
     "output_type": "stream",
     "text": [
      "epoch: 1, train_loss: 3.68, train_acc:0.0\n"
     ]
    },
    {
     "name": "stderr",
     "output_type": "stream",
     "text": [
      "100%|██████████| 1314/1314 [10:43<00:00,  2.04it/s]\n",
      "  0%|          | 0/1314 [00:00<?, ?it/s]"
     ]
    },
    {
     "name": "stdout",
     "output_type": "stream",
     "text": [
      "epoch: 2, train_loss: 2.8, train_acc:0.0\n"
     ]
    },
    {
     "name": "stderr",
     "output_type": "stream",
     "text": [
      "100%|██████████| 1314/1314 [10:44<00:00,  2.04it/s]\n",
      "  0%|          | 0/1314 [00:00<?, ?it/s]"
     ]
    },
    {
     "name": "stdout",
     "output_type": "stream",
     "text": [
      "epoch: 3, train_loss: 2.55, train_acc:0.0\n"
     ]
    },
    {
     "name": "stderr",
     "output_type": "stream",
     "text": [
      "100%|██████████| 1314/1314 [10:44<00:00,  2.04it/s]\n",
      "  0%|          | 0/1314 [00:00<?, ?it/s]"
     ]
    },
    {
     "name": "stdout",
     "output_type": "stream",
     "text": [
      "epoch: 4, train_loss: 2.37, train_acc:0.0\n"
     ]
    },
    {
     "name": "stderr",
     "output_type": "stream",
     "text": [
      "100%|██████████| 1314/1314 [10:47<00:00,  2.03it/s]\n"
     ]
    },
    {
     "name": "stdout",
     "output_type": "stream",
     "text": [
      "epoch: 5, train_loss: 2.27, train_acc:0.0\n"
     ]
    },
    {
     "data": {
      "image/png": "[encoded data removed]",
      "text/plain": [
       "<Figure size 720x864 with 2 Axes>"
      ]
     },
     "metadata": {
      "needs_background": "light"
     },
     "output_type": "display_data"
    },
    {
     "name": "stdout",
     "output_type": "stream",
     "text": [
      "the amount of data is 4674\n"
     ]
    },
    {
     "name": "stderr",
     "output_type": "stream",
     "text": [
      "100%|██████████| 146/146 [01:12<00:00,  2.02it/s]\n",
      "  0%|          | 0/146 [00:00<?, ?it/s]"
     ]
    },
    {
     "name": "stdout",
     "output_type": "stream",
     "text": [
      "epoch: 1, train_loss: 2.38, train_acc:0.0\n"
     ]
    },
    {
     "name": "stderr",
     "output_type": "stream",
     "text": [
      "100%|██████████| 146/146 [01:12<00:00,  2.03it/s]\n",
      "  0%|          | 0/146 [00:00<?, ?it/s]"
     ]
    },
    {
     "name": "stdout",
     "output_type": "stream",
     "text": [
      "epoch: 2, train_loss: 2.35, train_acc:0.0\n"
     ]
    },
    {
     "name": "stderr",
     "output_type": "stream",
     "text": [
      "100%|██████████| 146/146 [01:12<00:00,  2.02it/s]\n",
      "  0%|          | 0/146 [00:00<?, ?it/s]"
     ]
    },
    {
     "name": "stdout",
     "output_type": "stream",
     "text": [
      "epoch: 3, train_loss: 2.27, train_acc:0.0\n"
     ]
    },
    {
     "name": "stderr",
     "output_type": "stream",
     "text": [
      "100%|██████████| 146/146 [01:12<00:00,  2.01it/s]\n",
      "  0%|          | 0/146 [00:00<?, ?it/s]"
     ]
    },
    {
     "name": "stdout",
     "output_type": "stream",
     "text": [
      "epoch: 4, train_loss: 2.25, train_acc:0.0\n"
     ]
    },
    {
     "name": "stderr",
     "output_type": "stream",
     "text": [
      "100%|██████████| 146/146 [01:12<00:00,  2.02it/s]\n",
      "  0%|          | 0/146 [00:00<?, ?it/s]"
     ]
    },
    {
     "name": "stdout",
     "output_type": "stream",
     "text": [
      "epoch: 5, train_loss: 2.2, train_acc:0.0\n"
     ]
    },
    {
     "name": "stderr",
     "output_type": "stream",
     "text": [
      "100%|██████████| 146/146 [01:12<00:00,  2.03it/s]\n",
      "  0%|          | 0/146 [00:00<?, ?it/s]"
     ]
    },
    {
     "name": "stdout",
     "output_type": "stream",
     "text": [
      "epoch: 6, train_loss: 2.21, train_acc:0.0\n"
     ]
    },
    {
     "name": "stderr",
     "output_type": "stream",
     "text": [
      "100%|██████████| 146/146 [01:12<00:00,  2.02it/s]\n",
      "  0%|          | 0/146 [00:00<?, ?it/s]"
     ]
    },
    {
     "name": "stdout",
     "output_type": "stream",
     "text": [
      "epoch: 7, train_loss: 2.17, train_acc:0.0\n"
     ]
    },
    {
     "name": "stderr",
     "output_type": "stream",
     "text": [
      "100%|██████████| 146/146 [01:12<00:00,  2.01it/s]\n",
      "  0%|          | 0/146 [00:00<?, ?it/s]"
     ]
    },
    {
     "name": "stdout",
     "output_type": "stream",
     "text": [
      "epoch: 8, train_loss: 2.16, train_acc:0.0\n"
     ]
    },
    {
     "name": "stderr",
     "output_type": "stream",
     "text": [
      "100%|██████████| 146/146 [01:12<00:00,  2.02it/s]\n",
      "  0%|          | 0/146 [00:00<?, ?it/s]"
     ]
    },
    {
     "name": "stdout",
     "output_type": "stream",
     "text": [
      "epoch: 9, train_loss: 2.14, train_acc:0.0\n"
     ]
    },
    {
     "name": "stderr",
     "output_type": "stream",
     "text": [
      "100%|██████████| 146/146 [01:12<00:00,  2.02it/s]\n",
      "  0%|          | 0/146 [00:00<?, ?it/s]"
     ]
    },
    {
     "name": "stdout",
     "output_type": "stream",
     "text": [
      "epoch: 10, train_loss: 2.13, train_acc:0.0\n"
     ]
    },
    {
     "name": "stderr",
     "output_type": "stream",
     "text": [
      "100%|██████████| 146/146 [01:12<00:00,  2.02it/s]\n",
      "  0%|          | 0/146 [00:00<?, ?it/s]"
     ]
    },
    {
     "name": "stdout",
     "output_type": "stream",
     "text": [
      "epoch: 11, train_loss: 2.13, train_acc:0.0\n"
     ]
    },
    {
     "name": "stderr",
     "output_type": "stream",
     "text": [
      "100%|██████████| 146/146 [01:12<00:00,  2.01it/s]\n",
      "  0%|          | 0/146 [00:00<?, ?it/s]"
     ]
    },
    {
     "name": "stdout",
     "output_type": "stream",
     "text": [
      "epoch: 12, train_loss: 2.07, train_acc:0.0\n"
     ]
    },
    {
     "name": "stderr",
     "output_type": "stream",
     "text": [
      "100%|██████████| 146/146 [01:12<00:00,  2.02it/s]\n",
      "  0%|          | 0/146 [00:00<?, ?it/s]"
     ]
    },
    {
     "name": "stdout",
     "output_type": "stream",
     "text": [
      "epoch: 13, train_loss: 2.06, train_acc:0.0\n"
     ]
    },
    {
     "name": "stderr",
     "output_type": "stream",
     "text": [
      "100%|██████████| 146/146 [01:12<00:00,  2.00it/s]\n",
      "  0%|          | 0/146 [00:00<?, ?it/s]"
     ]
    },
    {
     "name": "stdout",
     "output_type": "stream",
     "text": [
      "epoch: 14, train_loss: 2.03, train_acc:0.0\n"
     ]
    },
    {
     "name": "stderr",
     "output_type": "stream",
     "text": [
      "100%|██████████| 146/146 [01:12<00:00,  2.02it/s]\n",
      "  0%|          | 0/146 [00:00<?, ?it/s]"
     ]
    },
    {
     "name": "stdout",
     "output_type": "stream",
     "text": [
      "epoch: 15, train_loss: 2.01, train_acc:0.0\n"
     ]
    },
    {
     "name": "stderr",
     "output_type": "stream",
     "text": [
      "100%|██████████| 146/146 [01:12<00:00,  2.02it/s]\n",
      "  0%|          | 0/146 [00:00<?, ?it/s]"
     ]
    },
    {
     "name": "stdout",
     "output_type": "stream",
     "text": [
      "epoch: 16, train_loss: 2.0, train_acc:0.0\n"
     ]
    },
    {
     "name": "stderr",
     "output_type": "stream",
     "text": [
      "100%|██████████| 146/146 [01:12<00:00,  2.02it/s]\n",
      "  0%|          | 0/146 [00:00<?, ?it/s]"
     ]
    },
    {
     "name": "stdout",
     "output_type": "stream",
     "text": [
      "epoch: 17, train_loss: 2.01, train_acc:0.0\n"
     ]
    },
    {
     "name": "stderr",
     "output_type": "stream",
     "text": [
      "100%|██████████| 146/146 [01:12<00:00,  2.03it/s]\n",
      "  0%|          | 0/146 [00:00<?, ?it/s]"
     ]
    },
    {
     "name": "stdout",
     "output_type": "stream",
     "text": [
      "epoch: 18, train_loss: 2.02, train_acc:0.0\n"
     ]
    },
    {
     "name": "stderr",
     "output_type": "stream",
     "text": [
      "100%|██████████| 146/146 [01:12<00:00,  2.02it/s]\n",
      "  0%|          | 0/146 [00:00<?, ?it/s]"
     ]
    },
    {
     "name": "stdout",
     "output_type": "stream",
     "text": [
      "epoch: 19, train_loss: 1.93, train_acc:0.0\n"
     ]
    },
    {
     "name": "stderr",
     "output_type": "stream",
     "text": [
      "100%|██████████| 146/146 [01:12<00:00,  2.02it/s]\n",
      "  0%|          | 0/146 [00:00<?, ?it/s]"
     ]
    },
    {
     "name": "stdout",
     "output_type": "stream",
     "text": [
      "epoch: 20, train_loss: 1.95, train_acc:0.0\n"
     ]
    },
    {
     "name": "stderr",
     "output_type": "stream",
     "text": [
      "100%|██████████| 146/146 [01:12<00:00,  2.02it/s]\n",
      "  0%|          | 0/146 [00:00<?, ?it/s]"
     ]
    },
    {
     "name": "stdout",
     "output_type": "stream",
     "text": [
      "epoch: 21, train_loss: 1.92, train_acc:0.0\n"
     ]
    },
    {
     "name": "stderr",
     "output_type": "stream",
     "text": [
      "100%|██████████| 146/146 [01:12<00:00,  2.01it/s]\n",
      "  0%|          | 0/146 [00:00<?, ?it/s]"
     ]
    },
    {
     "name": "stdout",
     "output_type": "stream",
     "text": [
      "epoch: 22, train_loss: 1.86, train_acc:0.0\n"
     ]
    },
    {
     "name": "stderr",
     "output_type": "stream",
     "text": [
      "100%|██████████| 146/146 [01:12<00:00,  2.02it/s]\n",
      "  0%|          | 0/146 [00:00<?, ?it/s]"
     ]
    },
    {
     "name": "stdout",
     "output_type": "stream",
     "text": [
      "epoch: 23, train_loss: 1.92, train_acc:0.0\n"
     ]
    },
    {
     "name": "stderr",
     "output_type": "stream",
     "text": [
      "100%|██████████| 146/146 [01:12<00:00,  2.02it/s]\n",
      "  0%|          | 0/146 [00:00<?, ?it/s]"
     ]
    },
    {
     "name": "stdout",
     "output_type": "stream",
     "text": [
      "epoch: 24, train_loss: 1.89, train_acc:0.0\n"
     ]
    },
    {
     "name": "stderr",
     "output_type": "stream",
     "text": [
      "100%|██████████| 146/146 [01:12<00:00,  2.02it/s]\n",
      "  0%|          | 0/146 [00:00<?, ?it/s]"
     ]
    },
    {
     "name": "stdout",
     "output_type": "stream",
     "text": [
      "epoch: 25, train_loss: 1.91, train_acc:0.0\n"
     ]
    },
    {
     "name": "stderr",
     "output_type": "stream",
     "text": [
      "100%|██████████| 146/146 [01:12<00:00,  2.02it/s]\n",
      "  0%|          | 0/146 [00:00<?, ?it/s]"
     ]
    },
    {
     "name": "stdout",
     "output_type": "stream",
     "text": [
      "epoch: 26, train_loss: 1.84, train_acc:0.0\n"
     ]
    },
    {
     "name": "stderr",
     "output_type": "stream",
     "text": [
      "100%|██████████| 146/146 [01:12<00:00,  2.01it/s]\n",
      "  0%|          | 0/146 [00:00<?, ?it/s]"
     ]
    },
    {
     "name": "stdout",
     "output_type": "stream",
     "text": [
      "epoch: 27, train_loss: 1.85, train_acc:0.0\n"
     ]
    },
    {
     "name": "stderr",
     "output_type": "stream",
     "text": [
      "100%|██████████| 146/146 [01:12<00:00,  2.02it/s]\n",
      "  0%|          | 0/146 [00:00<?, ?it/s]"
     ]
    },
    {
     "name": "stdout",
     "output_type": "stream",
     "text": [
      "epoch: 28, train_loss: 1.84, train_acc:0.0\n"
     ]
    },
    {
     "name": "stderr",
     "output_type": "stream",
     "text": [
      "100%|██████████| 146/146 [01:12<00:00,  2.01it/s]\n",
      "  0%|          | 0/146 [00:00<?, ?it/s]"
     ]
    },
    {
     "name": "stdout",
     "output_type": "stream",
     "text": [
      "epoch: 29, train_loss: 1.79, train_acc:0.0\n"
     ]
    },
    {
     "name": "stderr",
     "output_type": "stream",
     "text": [
      "100%|██████████| 146/146 [01:12<00:00,  2.02it/s]\n",
      "  0%|          | 0/146 [00:00<?, ?it/s]"
     ]
    },
    {
     "name": "stdout",
     "output_type": "stream",
     "text": [
      "epoch: 30, train_loss: 1.8, train_acc:0.0\n"
     ]
    },
    {
     "name": "stderr",
     "output_type": "stream",
     "text": [
      "100%|██████████| 146/146 [01:12<00:00,  2.02it/s]\n",
      "  0%|          | 0/146 [00:00<?, ?it/s]"
     ]
    },
    {
     "name": "stdout",
     "output_type": "stream",
     "text": [
      "epoch: 31, train_loss: 1.78, train_acc:0.0\n"
     ]
    },
    {
     "name": "stderr",
     "output_type": "stream",
     "text": [
      "100%|██████████| 146/146 [01:12<00:00,  2.02it/s]\n",
      "  0%|          | 0/146 [00:00<?, ?it/s]"
     ]
    },
    {
     "name": "stdout",
     "output_type": "stream",
     "text": [
      "epoch: 32, train_loss: 1.75, train_acc:0.0\n"
     ]
    },
    {
     "name": "stderr",
     "output_type": "stream",
     "text": [
      "100%|██████████| 146/146 [01:12<00:00,  2.02it/s]\n",
      "  0%|          | 0/146 [00:00<?, ?it/s]"
     ]
    },
    {
     "name": "stdout",
     "output_type": "stream",
     "text": [
      "epoch: 33, train_loss: 1.75, train_acc:0.0\n"
     ]
    },
    {
     "name": "stderr",
     "output_type": "stream",
     "text": [
      "100%|██████████| 146/146 [01:12<00:00,  2.02it/s]\n",
      "  0%|          | 0/146 [00:00<?, ?it/s]"
     ]
    },
    {
     "name": "stdout",
     "output_type": "stream",
     "text": [
      "epoch: 34, train_loss: 1.73, train_acc:0.0\n"
     ]
    },
    {
     "name": "stderr",
     "output_type": "stream",
     "text": [
      "100%|██████████| 146/146 [01:12<00:00,  2.02it/s]\n",
      "  0%|          | 0/146 [00:00<?, ?it/s]"
     ]
    },
    {
     "name": "stdout",
     "output_type": "stream",
     "text": [
      "epoch: 35, train_loss: 1.72, train_acc:0.0\n"
     ]
    },
    {
     "name": "stderr",
     "output_type": "stream",
     "text": [
      "100%|██████████| 146/146 [01:12<00:00,  2.02it/s]\n",
      "  0%|          | 0/146 [00:00<?, ?it/s]"
     ]
    },
    {
     "name": "stdout",
     "output_type": "stream",
     "text": [
      "epoch: 36, train_loss: 1.65, train_acc:0.0\n"
     ]
    },
    {
     "name": "stderr",
     "output_type": "stream",
     "text": [
      "100%|██████████| 146/146 [01:12<00:00,  2.03it/s]\n",
      "  0%|          | 0/146 [00:00<?, ?it/s]"
     ]
    },
    {
     "name": "stdout",
     "output_type": "stream",
     "text": [
      "epoch: 37, train_loss: 1.68, train_acc:0.0\n"
     ]
    },
    {
     "name": "stderr",
     "output_type": "stream",
     "text": [
      "100%|██████████| 146/146 [01:12<00:00,  2.03it/s]\n",
      "  0%|          | 0/146 [00:00<?, ?it/s]"
     ]
    },
    {
     "name": "stdout",
     "output_type": "stream",
     "text": [
      "epoch: 38, train_loss: 1.73, train_acc:0.0\n"
     ]
    },
    {
     "name": "stderr",
     "output_type": "stream",
     "text": [
      "100%|██████████| 146/146 [01:11<00:00,  2.03it/s]\n",
      "  0%|          | 0/146 [00:00<?, ?it/s]"
     ]
    },
    {
     "name": "stdout",
     "output_type": "stream",
     "text": [
      "epoch: 39, train_loss: 1.66, train_acc:0.0\n"
     ]
    },
    {
     "name": "stderr",
     "output_type": "stream",
     "text": [
      "100%|██████████| 146/146 [01:11<00:00,  2.03it/s]\n"
     ]
    },
    {
     "name": "stdout",
     "output_type": "stream",
     "text": [
      "epoch: 40, train_loss: 1.64, train_acc:0.0\n"
     ]
    },
    {
     "data": {
      "image/png": "[encoded data removed]",
      "text/plain": [
       "<Figure size 720x864 with 2 Axes>"
      ]
     },
     "metadata": {
      "needs_background": "light"
     },
     "output_type": "display_data"
    }
   ],
   "source": [
    "\n",
    "main(csv_files=csv_files, csv_files_2=csv_files_2, \n",
    "     model_type=model_type, num_aug=num_aug, \n",
    "     max_len=max_len, batch_size=batch_size, \n",
    "     epochs=epochs, num_workers=num_workers)\n"
   ]
  },
  {
   "cell_type": "code",
   "execution_count": null,
   "metadata": {
    "papermill": {
     "duration": 4.70853,
     "end_time": "2020-08-22T13:46:37.551790",
     "exception": false,
     "start_time": "2020-08-22T13:46:32.843260",
     "status": "completed"
    },
    "tags": []
   },
   "outputs": [],
   "source": []
  }
 ],
 "metadata": {
  "kernelspec": {
   "display_name": "Python 3",
   "language": "python",
   "name": "python3"
  },
  "language_info": {
   "codemirror_mode": {
    "name": "ipython",
    "version": 3
   },
   "file_extension": ".py",
   "mimetype": "text/x-python",
   "name": "python",
   "nbconvert_exporter": "python",
   "pygments_lexer": "ipython3",
   "version": "3.7.6"
  },
  "papermill": {
   "duration": 6194.380914,
   "end_time": "2020-08-22T13:46:43.987023",
   "environment_variables": {},
   "exception": null,
   "input_path": "__notebook__.ipynb",
   "output_path": "__notebook__.ipynb",
   "parameters": {},
   "start_time": "2020-08-22T12:03:29.606109",
   "version": "2.1.0"
  },
  "widgets": {
   "application/vnd.jupyter.widget-state+json": {
    "state": {
     "00b938aed8f94c81be6af6c22acf69de": {
      "model_module": "@jupyter-widgets/controls",
      "model_module_version": "1.5.0",
      "model_name": "FloatProgressModel",
      "state": {
       "_dom_classes": [],
       "_model_module": "@jupyter-widgets/controls",
       "_model_module_version": "1.5.0",
       "_model_name": "FloatProgressModel",
       "_view_count": null,
       "_view_module": "@jupyter-widgets/controls",
       "_view_module_version": "1.5.0",
       "_view_name": "ProgressView",
       "bar_style": "success",
       "description": "Downloading: 100%",
       "description_tooltip": null,
       "layout": "IPY_MODEL_04e44504c4644775a58466231367e25a",
       "max": 213450.0,
       "min": 0.0,
       "orientation": "horizontal",
       "style": "IPY_MODEL_1d07325249954884a7db91dcf024af90",
       "value": 213450.0
      }
     },
     "04e44504c4644775a58466231367e25a": {
      "model_module": "@jupyter-widgets/base",
      "model_module_version": "1.2.0",
      "model_name": "LayoutModel",
      "state": {
       "_model_module": "@jupyter-widgets/base",
       "_model_module_version": "1.2.0",
       "_model_name": "LayoutModel",
       "_view_count": null,
       "_view_module": "@jupyter-widgets/base",
       "_view_module_version": "1.2.0",
       "_view_name": "LayoutView",
       "align_content": null,
       "align_items": null,
       "align_self": null,
       "border": null,
       "bottom": null,
       "display": null,
       "flex": null,
       "flex_flow": null,
       "grid_area": null,
       "grid_auto_columns": null,
       "grid_auto_flow": null,
       "grid_auto_rows": null,
       "grid_column": null,
       "grid_gap": null,
       "grid_row": null,
       "grid_template_areas": null,
       "grid_template_columns": null,
       "grid_template_rows": null,
       "height": null,
       "justify_content": null,
       "justify_items": null,
       "left": null,
       "margin": null,
       "max_height": null,
       "max_width": null,
       "min_height": null,
       "min_width": null,
       "object_fit": null,
       "object_position": null,
       "order": null,
       "overflow": null,
       "overflow_x": null,
       "overflow_y": null,
       "padding": null,
       "right": null,
       "top": null,
       "visibility": null,
       "width": null
      }
     },
     "06b292dd07e444debc01cb8a9c2ea8d5": {
      "model_module": "@jupyter-widgets/controls",
      "model_module_version": "1.5.0",
      "model_name": "FloatProgressModel",
      "state": {
       "_dom_classes": [],
       "_model_module": "@jupyter-widgets/controls",
       "_model_module_version": "1.5.0",
       "_model_name": "FloatProgressModel",
       "_view_count": null,
       "_view_module": "@jupyter-widgets/controls",
       "_view_module_version": "1.5.0",
       "_view_name": "ProgressView",
       "bar_style": "success",
       "description": "Downloading: 100%",
       "description_tooltip": null,
       "layout": "IPY_MODEL_8c676c0220c549b0ade6ed8939429cdb",
       "max": 433.0,
       "min": 0.0,
       "orientation": "horizontal",
       "style": "IPY_MODEL_b2a2691b9aa04959bf95768b23cb17d8",
       "value": 433.0
      }
     },
     "137f9315caf646cc88b9472a7a496632": {
      "model_module": "@jupyter-widgets/controls",
      "model_module_version": "1.5.0",
      "model_name": "DescriptionStyleModel",
      "state": {
       "_model_module": "@jupyter-widgets/controls",
       "_model_module_version": "1.5.0",
       "_model_name": "DescriptionStyleModel",
       "_view_count": null,
       "_view_module": "@jupyter-widgets/base",
       "_view_module_version": "1.2.0",
       "_view_name": "StyleView",
       "description_width": ""
      }
     },
     "1d07325249954884a7db91dcf024af90": {
      "model_module": "@jupyter-widgets/controls",
      "model_module_version": "1.5.0",
      "model_name": "ProgressStyleModel",
      "state": {
       "_model_module": "@jupyter-widgets/controls",
       "_model_module_version": "1.5.0",
       "_model_name": "ProgressStyleModel",
       "_view_count": null,
       "_view_module": "@jupyter-widgets/base",
       "_view_module_version": "1.2.0",
       "_view_name": "StyleView",
       "bar_color": null,
       "description_width": "initial"
      }
     },
     "227c51b09291473ebc086cb26b700939": {
      "model_module": "@jupyter-widgets/controls",
      "model_module_version": "1.5.0",
      "model_name": "HTMLModel",
      "state": {
       "_dom_classes": [],
       "_model_module": "@jupyter-widgets/controls",
       "_model_module_version": "1.5.0",
       "_model_name": "HTMLModel",
       "_view_count": null,
       "_view_module": "@jupyter-widgets/controls",
       "_view_module_version": "1.5.0",
       "_view_name": "HTMLView",
       "description": "",
       "description_tooltip": null,
       "layout": "IPY_MODEL_7e3fa0df221141b6b309936d826263c1",
       "placeholder": "​",
       "style": "IPY_MODEL_137f9315caf646cc88b9472a7a496632",
       "value": " 436M/436M [54:17&lt;00:00, 134kB/s]"
      }
     },
     "31411df0ec714790a6479022e0bb6a70": {
      "model_module": "@jupyter-widgets/controls",
      "model_module_version": "1.5.0",
      "model_name": "HTMLModel",
      "state": {
       "_dom_classes": [],
       "_model_module": "@jupyter-widgets/controls",
       "_model_module_version": "1.5.0",
       "_model_name": "HTMLModel",
       "_view_count": null,
       "_view_module": "@jupyter-widgets/controls",
       "_view_module_version": "1.5.0",
       "_view_name": "HTMLView",
       "description": "",
       "description_tooltip": null,
       "layout": "IPY_MODEL_c9ed66a9ff894e23b0c8a147c2940c31",
       "placeholder": "​",
       "style": "IPY_MODEL_f4765b09be6a47db81fc9302dba795e1",
       "value": " 433/433 [00:01&lt;00:00, 302B/s]"
      }
     },
     "3a3b4573c7b046aa85a24ae56dd869b2": {
      "model_module": "@jupyter-widgets/controls",
      "model_module_version": "1.5.0",
      "model_name": "HTMLModel",
      "state": {
       "_dom_classes": [],
       "_model_module": "@jupyter-widgets/controls",
       "_model_module_version": "1.5.0",
       "_model_name": "HTMLModel",
       "_view_count": null,
       "_view_module": "@jupyter-widgets/controls",
       "_view_module_version": "1.5.0",
       "_view_name": "HTMLView",
       "description": "",
       "description_tooltip": null,
       "layout": "IPY_MODEL_e1f62fe03c5c4724abb3fa878c62088d",
       "placeholder": "​",
       "style": "IPY_MODEL_96bfeb7f6a87431aa17d857c3801d708",
       "value": " 213k/213k [00:00&lt;00:00, 738kB/s]"
      }
     },
     "6cc7108f3ef24adc947627dba12fc2b2": {
      "model_module": "@jupyter-widgets/base",
      "model_module_version": "1.2.0",
      "model_name": "LayoutModel",
      "state": {
       "_model_module": "@jupyter-widgets/base",
       "_model_module_version": "1.2.0",
       "_model_name": "LayoutModel",
       "_view_count": null,
       "_view_module": "@jupyter-widgets/base",
       "_view_module_version": "1.2.0",
       "_view_name": "LayoutView",
       "align_content": null,
       "align_items": null,
       "align_self": null,
       "border": null,
       "bottom": null,
       "display": null,
       "flex": null,
       "flex_flow": null,
       "grid_area": null,
       "grid_auto_columns": null,
       "grid_auto_flow": null,
       "grid_auto_rows": null,
       "grid_column": null,
       "grid_gap": null,
       "grid_row": null,
       "grid_template_areas": null,
       "grid_template_columns": null,
       "grid_template_rows": null,
       "height": null,
       "justify_content": null,
       "justify_items": null,
       "left": null,
       "margin": null,
       "max_height": null,
       "max_width": null,
       "min_height": null,
       "min_width": null,
       "object_fit": null,
       "object_position": null,
       "order": null,
       "overflow": null,
       "overflow_x": null,
       "overflow_y": null,
       "padding": null,
       "right": null,
       "top": null,
       "visibility": null,
       "width": null
      }
     },
     "720142d41a034eaab443533e56b892b5": {
      "model_module": "@jupyter-widgets/controls",
      "model_module_version": "1.5.0",
      "model_name": "HBoxModel",
      "state": {
       "_dom_classes": [],
       "_model_module": "@jupyter-widgets/controls",
       "_model_module_version": "1.5.0",
       "_model_name": "HBoxModel",
       "_view_count": null,
       "_view_module": "@jupyter-widgets/controls",
       "_view_module_version": "1.5.0",
       "_view_name": "HBoxView",
       "box_style": "",
       "children": [
        "IPY_MODEL_ee0b3c24946c4ee7a976a1536813b347",
        "IPY_MODEL_227c51b09291473ebc086cb26b700939"
       ],
       "layout": "IPY_MODEL_b4024cf936a94cb2910806f276f3e5e8"
      }
     },
     "7e3fa0df221141b6b309936d826263c1": {
      "model_module": "@jupyter-widgets/base",
      "model_module_version": "1.2.0",
      "model_name": "LayoutModel",
      "state": {
       "_model_module": "@jupyter-widgets/base",
       "_model_module_version": "1.2.0",
       "_model_name": "LayoutModel",
       "_view_count": null,
       "_view_module": "@jupyter-widgets/base",
       "_view_module_version": "1.2.0",
       "_view_name": "LayoutView",
       "align_content": null,
       "align_items": null,
       "align_self": null,
       "border": null,
       "bottom": null,
       "display": null,
       "flex": null,
       "flex_flow": null,
       "grid_area": null,
       "grid_auto_columns": null,
       "grid_auto_flow": null,
       "grid_auto_rows": null,
       "grid_column": null,
       "grid_gap": null,
       "grid_row": null,
       "grid_template_areas": null,
       "grid_template_columns": null,
       "grid_template_rows": null,
       "height": null,
       "justify_content": null,
       "justify_items": null,
       "left": null,
       "margin": null,
       "max_height": null,
       "max_width": null,
       "min_height": null,
       "min_width": null,
       "object_fit": null,
       "object_position": null,
       "order": null,
       "overflow": null,
       "overflow_x": null,
       "overflow_y": null,
       "padding": null,
       "right": null,
       "top": null,
       "visibility": null,
       "width": null
      }
     },
     "8c676c0220c549b0ade6ed8939429cdb": {
      "model_module": "@jupyter-widgets/base",
      "model_module_version": "1.2.0",
      "model_name": "LayoutModel",
      "state": {
       "_model_module": "@jupyter-widgets/base",
       "_model_module_version": "1.2.0",
       "_model_name": "LayoutModel",
       "_view_count": null,
       "_view_module": "@jupyter-widgets/base",
       "_view_module_version": "1.2.0",
       "_view_name": "LayoutView",
       "align_content": null,
       "align_items": null,
       "align_self": null,
       "border": null,
       "bottom": null,
       "display": null,
       "flex": null,
       "flex_flow": null,
       "grid_area": null,
       "grid_auto_columns": null,
       "grid_auto_flow": null,
       "grid_auto_rows": null,
       "grid_column": null,
       "grid_gap": null,
       "grid_row": null,
       "grid_template_areas": null,
       "grid_template_columns": null,
       "grid_template_rows": null,
       "height": null,
       "justify_content": null,
       "justify_items": null,
       "left": null,
       "margin": null,
       "max_height": null,
       "max_width": null,
       "min_height": null,
       "min_width": null,
       "object_fit": null,
       "object_position": null,
       "order": null,
       "overflow": null,
       "overflow_x": null,
       "overflow_y": null,
       "padding": null,
       "right": null,
       "top": null,
       "visibility": null,
       "width": null
      }
     },
     "96bfeb7f6a87431aa17d857c3801d708": {
      "model_module": "@jupyter-widgets/controls",
      "model_module_version": "1.5.0",
      "model_name": "DescriptionStyleModel",
      "state": {
       "_model_module": "@jupyter-widgets/controls",
       "_model_module_version": "1.5.0",
       "_model_name": "DescriptionStyleModel",
       "_view_count": null,
       "_view_module": "@jupyter-widgets/base",
       "_view_module_version": "1.2.0",
       "_view_name": "StyleView",
       "description_width": ""
      }
     },
     "b0a52925a3b544d9aaf900a6e264b2d1": {
      "model_module": "@jupyter-widgets/controls",
      "model_module_version": "1.5.0",
      "model_name": "HBoxModel",
      "state": {
       "_dom_classes": [],
       "_model_module": "@jupyter-widgets/controls",
       "_model_module_version": "1.5.0",
       "_model_name": "HBoxModel",
       "_view_count": null,
       "_view_module": "@jupyter-widgets/controls",
       "_view_module_version": "1.5.0",
       "_view_name": "HBoxView",
       "box_style": "",
       "children": [
        "IPY_MODEL_06b292dd07e444debc01cb8a9c2ea8d5",
        "IPY_MODEL_31411df0ec714790a6479022e0bb6a70"
       ],
       "layout": "IPY_MODEL_6cc7108f3ef24adc947627dba12fc2b2"
      }
     },
     "b2a2691b9aa04959bf95768b23cb17d8": {
      "model_module": "@jupyter-widgets/controls",
      "model_module_version": "1.5.0",
      "model_name": "ProgressStyleModel",
      "state": {
       "_model_module": "@jupyter-widgets/controls",
       "_model_module_version": "1.5.0",
       "_model_name": "ProgressStyleModel",
       "_view_count": null,
       "_view_module": "@jupyter-widgets/base",
       "_view_module_version": "1.2.0",
       "_view_name": "StyleView",
       "bar_color": null,
       "description_width": "initial"
      }
     },
     "b4024cf936a94cb2910806f276f3e5e8": {
      "model_module": "@jupyter-widgets/base",
      "model_module_version": "1.2.0",
      "model_name": "LayoutModel",
      "state": {
       "_model_module": "@jupyter-widgets/base",
       "_model_module_version": "1.2.0",
       "_model_name": "LayoutModel",
       "_view_count": null,
       "_view_module": "@jupyter-widgets/base",
       "_view_module_version": "1.2.0",
       "_view_name": "LayoutView",
       "align_content": null,
       "align_items": null,
       "align_self": null,
       "border": null,
       "bottom": null,
       "display": null,
       "flex": null,
       "flex_flow": null,
       "grid_area": null,
       "grid_auto_columns": null,
       "grid_auto_flow": null,
       "grid_auto_rows": null,
       "grid_column": null,
       "grid_gap": null,
       "grid_row": null,
       "grid_template_areas": null,
       "grid_template_columns": null,
       "grid_template_rows": null,
       "height": null,
       "justify_content": null,
       "justify_items": null,
       "left": null,
       "margin": null,
       "max_height": null,
       "max_width": null,
       "min_height": null,
       "min_width": null,
       "object_fit": null,
       "object_position": null,
       "order": null,
       "overflow": null,
       "overflow_x": null,
       "overflow_y": null,
       "padding": null,
       "right": null,
       "top": null,
       "visibility": null,
       "width": null
      }
     },
     "c9ed66a9ff894e23b0c8a147c2940c31": {
      "model_module": "@jupyter-widgets/base",
      "model_module_version": "1.2.0",
      "model_name": "LayoutModel",
      "state": {
       "_model_module": "@jupyter-widgets/base",
       "_model_module_version": "1.2.0",
       "_model_name": "LayoutModel",
       "_view_count": null,
       "_view_module": "@jupyter-widgets/base",
       "_view_module_version": "1.2.0",
       "_view_name": "LayoutView",
       "align_content": null,
       "align_items": null,
       "align_self": null,
       "border": null,
       "bottom": null,
       "display": null,
       "flex": null,
       "flex_flow": null,
       "grid_area": null,
       "grid_auto_columns": null,
       "grid_auto_flow": null,
       "grid_auto_rows": null,
       "grid_column": null,
       "grid_gap": null,
       "grid_row": null,
       "grid_template_areas": null,
       "grid_template_columns": null,
       "grid_template_rows": null,
       "height": null,
       "justify_content": null,
       "justify_items": null,
       "left": null,
       "margin": null,
       "max_height": null,
       "max_width": null,
       "min_height": null,
       "min_width": null,
       "object_fit": null,
       "object_position": null,
       "order": null,
       "overflow": null,
       "overflow_x": null,
       "overflow_y": null,
       "padding": null,
       "right": null,
       "top": null,
       "visibility": null,
       "width": null
      }
     },
     "cb9a8dc253fb4375a8ea41578417dcbf": {
      "model_module": "@jupyter-widgets/base",
      "model_module_version": "1.2.0",
      "model_name": "LayoutModel",
      "state": {
       "_model_module": "@jupyter-widgets/base",
       "_model_module_version": "1.2.0",
       "_model_name": "LayoutModel",
       "_view_count": null,
       "_view_module": "@jupyter-widgets/base",
       "_view_module_version": "1.2.0",
       "_view_name": "LayoutView",
       "align_content": null,
       "align_items": null,
       "align_self": null,
       "border": null,
       "bottom": null,
       "display": null,
       "flex": null,
       "flex_flow": null,
       "grid_area": null,
       "grid_auto_columns": null,
       "grid_auto_flow": null,
       "grid_auto_rows": null,
       "grid_column": null,
       "grid_gap": null,
       "grid_row": null,
       "grid_template_areas": null,
       "grid_template_columns": null,
       "grid_template_rows": null,
       "height": null,
       "justify_content": null,
       "justify_items": null,
       "left": null,
       "margin": null,
       "max_height": null,
       "max_width": null,
       "min_height": null,
       "min_width": null,
       "object_fit": null,
       "object_position": null,
       "order": null,
       "overflow": null,
       "overflow_x": null,
       "overflow_y": null,
       "padding": null,
       "right": null,
       "top": null,
       "visibility": null,
       "width": null
      }
     },
     "cd36c389648f48338967b2c1f850e777": {
      "model_module": "@jupyter-widgets/controls",
      "model_module_version": "1.5.0",
      "model_name": "ProgressStyleModel",
      "state": {
       "_model_module": "@jupyter-widgets/controls",
       "_model_module_version": "1.5.0",
       "_model_name": "ProgressStyleModel",
       "_view_count": null,
       "_view_module": "@jupyter-widgets/base",
       "_view_module_version": "1.2.0",
       "_view_name": "StyleView",
       "bar_color": null,
       "description_width": "initial"
      }
     },
     "e1f62fe03c5c4724abb3fa878c62088d": {
      "model_module": "@jupyter-widgets/base",
      "model_module_version": "1.2.0",
      "model_name": "LayoutModel",
      "state": {
       "_model_module": "@jupyter-widgets/base",
       "_model_module_version": "1.2.0",
       "_model_name": "LayoutModel",
       "_view_count": null,
       "_view_module": "@jupyter-widgets/base",
       "_view_module_version": "1.2.0",
       "_view_name": "LayoutView",
       "align_content": null,
       "align_items": null,
       "align_self": null,
       "border": null,
       "bottom": null,
       "display": null,
       "flex": null,
       "flex_flow": null,
       "grid_area": null,
       "grid_auto_columns": null,
       "grid_auto_flow": null,
       "grid_auto_rows": null,
       "grid_column": null,
       "grid_gap": null,
       "grid_row": null,
       "grid_template_areas": null,
       "grid_template_columns": null,
       "grid_template_rows": null,
       "height": null,
       "justify_content": null,
       "justify_items": null,
       "left": null,
       "margin": null,
       "max_height": null,
       "max_width": null,
       "min_height": null,
       "min_width": null,
       "object_fit": null,
       "object_position": null,
       "order": null,
       "overflow": null,
       "overflow_x": null,
       "overflow_y": null,
       "padding": null,
       "right": null,
       "top": null,
       "visibility": null,
       "width": null
      }
     },
     "e4688b03b5534b75a483c6c05cd6b262": {
      "model_module": "@jupyter-widgets/base",
      "model_module_version": "1.2.0",
      "model_name": "LayoutModel",
      "state": {
       "_model_module": "@jupyter-widgets/base",
       "_model_module_version": "1.2.0",
       "_model_name": "LayoutModel",
       "_view_count": null,
       "_view_module": "@jupyter-widgets/base",
       "_view_module_version": "1.2.0",
       "_view_name": "LayoutView",
       "align_content": null,
       "align_items": null,
       "align_self": null,
       "border": null,
       "bottom": null,
       "display": null,
       "flex": null,
       "flex_flow": null,
       "grid_area": null,
       "grid_auto_columns": null,
       "grid_auto_flow": null,
       "grid_auto_rows": null,
       "grid_column": null,
       "grid_gap": null,
       "grid_row": null,
       "grid_template_areas": null,
       "grid_template_columns": null,
       "grid_template_rows": null,
       "height": null,
       "justify_content": null,
       "justify_items": null,
       "left": null,
       "margin": null,
       "max_height": null,
       "max_width": null,
       "min_height": null,
       "min_width": null,
       "object_fit": null,
       "object_position": null,
       "order": null,
       "overflow": null,
       "overflow_x": null,
       "overflow_y": null,
       "padding": null,
       "right": null,
       "top": null,
       "visibility": null,
       "width": null
      }
     },
     "ee0b3c24946c4ee7a976a1536813b347": {
      "model_module": "@jupyter-widgets/controls",
      "model_module_version": "1.5.0",
      "model_name": "FloatProgressModel",
      "state": {
       "_dom_classes": [],
       "_model_module": "@jupyter-widgets/controls",
       "_model_module_version": "1.5.0",
       "_model_name": "FloatProgressModel",
       "_view_count": null,
       "_view_module": "@jupyter-widgets/controls",
       "_view_module_version": "1.5.0",
       "_view_name": "ProgressView",
       "bar_style": "success",
       "description": "Downloading: 100%",
       "description_tooltip": null,
       "layout": "IPY_MODEL_cb9a8dc253fb4375a8ea41578417dcbf",
       "max": 435779157.0,
       "min": 0.0,
       "orientation": "horizontal",
       "style": "IPY_MODEL_cd36c389648f48338967b2c1f850e777",
       "value": 435779157.0
      }
     },
     "f4765b09be6a47db81fc9302dba795e1": {
      "model_module": "@jupyter-widgets/controls",
      "model_module_version": "1.5.0",
      "model_name": "DescriptionStyleModel",
      "state": {
       "_model_module": "@jupyter-widgets/controls",
       "_model_module_version": "1.5.0",
       "_model_name": "DescriptionStyleModel",
       "_view_count": null,
       "_view_module": "@jupyter-widgets/base",
       "_view_module_version": "1.2.0",
       "_view_name": "StyleView",
       "description_width": ""
      }
     },
     "f75968e9d2b844d68d4938f1d09e1104": {
      "model_module": "@jupyter-widgets/controls",
      "model_module_version": "1.5.0",
      "model_name": "HBoxModel",
      "state": {
       "_dom_classes": [],
       "_model_module": "@jupyter-widgets/controls",
       "_model_module_version": "1.5.0",
       "_model_name": "HBoxModel",
       "_view_count": null,
       "_view_module": "@jupyter-widgets/controls",
       "_view_module_version": "1.5.0",
       "_view_name": "HBoxView",
       "box_style": "",
       "children": [
        "IPY_MODEL_00b938aed8f94c81be6af6c22acf69de",
        "IPY_MODEL_3a3b4573c7b046aa85a24ae56dd869b2"
       ],
       "layout": "IPY_MODEL_e4688b03b5534b75a483c6c05cd6b262"
      }
     }
    },
    "version_major": 2,
    "version_minor": 0
   }
  }
 },
 "nbformat": 4,
 "nbformat_minor": 4
}
